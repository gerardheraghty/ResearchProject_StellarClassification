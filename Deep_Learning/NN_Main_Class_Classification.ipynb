{
 "cells": [
  {
   "cell_type": "markdown",
   "id": "189c4347",
   "metadata": {},
   "source": [
    "# <U>Notebook Table Of Contents<u>\n",
    "**1. Loading in datasets<br>**\n",
    "**2. Cleaning spectral type labelling**<br>\n",
    "&nbsp;&nbsp;&nbsp;&nbsp;2.1 Miles Data<br>\n",
    "&nbsp;&nbsp;&nbsp;&nbsp;2.2 CFLIB Data<br>\n",
    "**1. MLP classification**<br>\n",
    "&nbsp;&nbsp;&nbsp;&nbsp;1.1 Running initial baseline model (2 hidden layers)<br>\n",
    "&nbsp;&nbsp;&nbsp;&nbsp;1.2 Tuning number of layers<br>\n",
    "&nbsp;&nbsp;&nbsp;&nbsp;1.3 Tuning hyperparameters<br>\n",
    "&nbsp;&nbsp;&nbsp;&nbsp;1.4 Running Tuned MLP<br>\n",
    "&nbsp;&nbsp;&nbsp;&nbsp;1.5 PCA + MLP<br>\n",
    "&nbsp;&nbsp;&nbsp;&nbsp;1.6 Using Class Weights to handle Imbalance<br>\n",
    "&nbsp;&nbsp;&nbsp;&nbsp;1.7 Using Balanced Dataset<br>\n",
    "&nbsp;&nbsp;&nbsp;&nbsp;&nbsp;&nbsp;&nbsp;&nbsp;1.7.1 Tuning hyperparameters<br>\n",
    "&nbsp;&nbsp;&nbsp;&nbsp;&nbsp;&nbsp;&nbsp;&nbsp;1.7.2 Running Tuned MLP for balanced dataset<br>\n",
    "&nbsp;&nbsp;&nbsp;&nbsp;1.8 Running MLP using balanced dataset and 24 PCs<br>\n",
    "**2. CNN multiclass classification**<br>\n",
    "&nbsp;&nbsp;&nbsp;&nbsp;2.1 Weight Balancing<br>\n",
    "&nbsp;&nbsp;&nbsp;&nbsp;2.2 Using Balanced Dataset<br>\n",
    "**3. running stratified K-fold cross validation for NN model comparisons**<br>\n",
    "**4. Saving CNN models**<br>"
   ]
  },
  {
   "cell_type": "code",
   "execution_count": 2,
   "id": "58824ee6",
   "metadata": {},
   "outputs": [],
   "source": [
    "#!pip install keras-tuner"
   ]
  },
  {
   "cell_type": "code",
   "execution_count": 41,
   "id": "a89cdfb2",
   "metadata": {},
   "outputs": [],
   "source": [
    "#importing pandas and numpy packages\n",
    "import numpy as np\n",
    "import pandas as pd\n",
    "\n",
    "##importing plotting libraries\n",
    "import seaborn as sns\n",
    "import matplotlib.pyplot as plt \n",
    "%matplotlib inline \n",
    "\n",
    "#neural network libraries (keras/tensorflow)\n",
    "import tensorflow as tf\n",
    "from tensorflow import keras\n",
    "from tensorflow.keras import layers, models, optimizers\n",
    "from keras.models import Sequential\n",
    "from keras.layers import Dense\n",
    "from tensorflow.keras.layers import Dropout\n",
    "from keras.datasets import mnist\n",
    "from keras.layers import  Conv1D, MaxPooling1D, Conv2D, MaxPool2D, Flatten\n",
    "from keras import utils\n",
    "from keras.utils import to_categorical\n",
    "from tensorflow.keras.optimizers import Adam, SGD, RMSprop\n",
    "from scikeras.wrappers import KerasClassifier\n",
    "from skopt import BayesSearchCV\n",
    "from sklearn.decomposition import PCA\n",
    "import keras_tuner as kt\n",
    "from keras_tuner import BayesianOptimization\n",
    "\n",
    "#sklearn libraries\n",
    "from sklearn.preprocessing import StandardScaler\n",
    "from sklearn.metrics import accuracy_score\n",
    "from sklearn.model_selection import train_test_split\n",
    "from sklearn import metrics\n",
    "from sklearn.utils import class_weight\n",
    "from sklearn.model_selection import cross_val_score,KFold, StratifiedKFold\n",
    "\n",
    "#supressing warnings\n",
    "import warnings\n",
    "warnings.filterwarnings('ignore')"
   ]
  },
  {
   "cell_type": "markdown",
   "id": "f38ca0e6",
   "metadata": {},
   "source": [
    "Notes on Conv1D: https://www.tensorflow.org/api_docs/python/tf/nn/conv1d , https://keras.io/api/layers/convolution_layers/convolution1d/-- used for applying convolutions to 1D sequential data\n"
   ]
  },
  {
   "cell_type": "code",
   "execution_count": 4,
   "id": "c5a7f353",
   "metadata": {},
   "outputs": [],
   "source": [
    "##load in cleaned and processed data\n",
    "main_class_data = pd.read_csv('../data/derived_tables/X_y_data/main_class_data.csv', index_col=0)"
   ]
  },
  {
   "cell_type": "code",
   "execution_count": 5,
   "id": "be3e355d",
   "metadata": {},
   "outputs": [],
   "source": [
    "#splitting into independent/input (X) and dependent/target (Y) variables\n",
    "X = main_class_data.loc[:, main_class_data.columns != 'main_class']\n",
    "y = main_class_data.loc[:, 'main_class']"
   ]
  },
  {
   "cell_type": "code",
   "execution_count": 6,
   "id": "4755736e",
   "metadata": {},
   "outputs": [],
   "source": [
    "#converting to array of arrays to be compatible with CNN architecture\n",
    "X = X.values"
   ]
  },
  {
   "cell_type": "code",
   "execution_count": 7,
   "id": "2ec6b33c",
   "metadata": {},
   "outputs": [
    {
     "data": {
      "text/plain": [
       "{0, 1, 2, 3, 4, 5, 6}"
      ]
     },
     "execution_count": 7,
     "metadata": {},
     "output_type": "execute_result"
    }
   ],
   "source": [
    "#saving a list of the distinct classes\n",
    "class_order = set(y)\n",
    "class_order"
   ]
  },
  {
   "cell_type": "markdown",
   "id": "49749ec1",
   "metadata": {},
   "source": [
    "**The categorical values (i.e. target variables) need to be one hot encoded in order to work with Neural Networks for multiclass classification. - Frameworks like Keras require the labels to be binarized and have the same dimension as the number of classes.**"
   ]
  },
  {
   "cell_type": "code",
   "execution_count": 8,
   "id": "330f6de7",
   "metadata": {},
   "outputs": [],
   "source": [
    "#one hot encoding y variable\n",
    "y = np.array(y)\n",
    "y = to_categorical(y)"
   ]
  },
  {
   "cell_type": "markdown",
   "id": "0708c2f9",
   "metadata": {},
   "source": [
    "#### Defining function to split training and testing data"
   ]
  },
  {
   "cell_type": "code",
   "execution_count": 9,
   "id": "7b544239",
   "metadata": {},
   "outputs": [],
   "source": [
    "def split_cnn_data(X, y):\n",
    "    #splitting the data into training and testing (80% used for training, 20% for testing)\n",
    "    X_train, X_test, y_train, y_test = train_test_split(X, y, \n",
    "                                                        test_size = 0.2,\n",
    "                                                        random_state = 1, \n",
    "                                                        stratify = y)\n",
    "    #reshaping X variables\n",
    "    X_train = X_train.reshape((X_train.shape[0], X_train.shape[1], 1))\n",
    "    X_test = X_test.reshape((X_test.shape[0], X_test.shape[1], 1))\n",
    "    \n",
    "    return X_train, X_test, y_train, y_test"
   ]
  },
  {
   "cell_type": "markdown",
   "id": "7c5f12d8",
   "metadata": {},
   "source": [
    "#### Defining some functions to help removing repeated code when evaluating models:"
   ]
  },
  {
   "cell_type": "code",
   "execution_count": 10,
   "id": "85d9dd75",
   "metadata": {},
   "outputs": [],
   "source": [
    "#defining function for evaluating metrics \n",
    "def get_metrics(model, X_train, X_test, y_train, y_test):\n",
    "    #making predictions from the model on the train and test data\n",
    "    y_preds_train = model.predict(X_train)\n",
    "    y_preds_test = model.predict(X_test)\n",
    "\n",
    "    #need to convert prediction probabilities to predicted classes\n",
    "    y_preds_test = np.argmax(y_preds_test, axis=1)\n",
    "    y_preds_train = np.argmax(y_preds_train, axis=1)\n",
    "    \n",
    "    #converting actual targets to classes from one hot encoded values\n",
    "    y_test = np.argmax(y_test, axis=1)\n",
    "    y_train = np.argmax(y_train, axis=1)\n",
    "\n",
    "    #calculating metrics\n",
    "    # F1-score\n",
    "    test_f1 = metrics.f1_score(y_test, y_preds_test, average='weighted')\n",
    "    train_f1 = metrics.f1_score(y_train, y_preds_train, average='weighted')\n",
    "    #accuracy\n",
    "    test_accuracy = metrics.accuracy_score(y_test, y_preds_test)\n",
    "    train_accuracy =  metrics.accuracy_score(y_train, y_preds_train)\n",
    "\n",
    "    #quadratic weighted kappa\n",
    "    test_qwk = metrics.cohen_kappa_score(y_test, y_preds_test, weights='quadratic')\n",
    "    train_qwk = metrics.cohen_kappa_score(y_train, y_preds_train, weights='quadratic')\n",
    "    #mean absolute error\n",
    "    test_mae = metrics.mean_absolute_error(y_test, y_preds_test)\n",
    "    train_mae =  metrics.mean_absolute_error(y_train, y_preds_train)\n",
    "    \n",
    "    #getting the class error for test set\n",
    "    average_error = np.mean(abs(y_test - y_preds_test))\n",
    "    \n",
    "    model_metrics = pd.DataFrame({'model':[str(model)], \n",
    "                                  'accuracy':[test_accuracy], \n",
    "                                  'f1_score':[test_f1],\n",
    "                                  'QWK':[test_qwk], \n",
    "                                  'MAE':[test_mae],\n",
    "                                   'sp_class_error':[average_error]})\n",
    "\n",
    "    return model_metrics, y_preds_test, y_preds_train"
   ]
  },
  {
   "cell_type": "code",
   "execution_count": 11,
   "id": "b4f15583",
   "metadata": {},
   "outputs": [],
   "source": [
    "def plot_confusion_matrix(y_test, y_pred, model_name):\n",
    "    #plotting the confusion matrix\n",
    "    confusion = metrics.confusion_matrix(y_test, y_pred)\n",
    "\n",
    "    class_names=['O', 'B', 'A', 'F', 'G', 'K', 'M']\n",
    "\n",
    "    fig, ax = plt.subplots()\n",
    "    sns.heatmap(pd.DataFrame(confusion), annot=True, cmap=\"YlGnBu\" ,fmt='g',\n",
    "                xticklabels=class_names,yticklabels=class_names,cbar=False)\n",
    "    plt.title(f'Confusion matrix: {model_name}')\n",
    "    plt.ylabel('Actual label')\n",
    "    plt.xlabel('Predicted label')\n",
    "    plt.tight_layout()\n",
    "    plt.show() "
   ]
  },
  {
   "cell_type": "markdown",
   "id": "54d499d3",
   "metadata": {},
   "source": [
    "--------\n",
    "# 1. MLP classification"
   ]
  },
  {
   "cell_type": "code",
   "execution_count": 145,
   "id": "b00c6fac",
   "metadata": {},
   "outputs": [],
   "source": [
    "#splitting the data into training and testing (80% used for training, 20% for testing)\n",
    "X_train, X_test, y_train, y_test = train_test_split(X, y, \n",
    "                                                    test_size = 0.2, \n",
    "                                                    random_state = 1, \n",
    "                                                    shuffle = True, \n",
    "                                                    stratify = y)"
   ]
  },
  {
   "cell_type": "code",
   "execution_count": 146,
   "id": "485c2356",
   "metadata": {},
   "outputs": [
    {
     "data": {
      "text/plain": [
       "((1744, 3508), (436, 3508), (1744, 7), (436, 7))"
      ]
     },
     "execution_count": 146,
     "metadata": {},
     "output_type": "execute_result"
    }
   ],
   "source": [
    "X_train.shape,  X_test.shape, y_train.shape, y_test.shape"
   ]
  },
  {
   "cell_type": "markdown",
   "id": "7f43b1d3",
   "metadata": {},
   "source": [
    "- The Multilayer perceptrons utilise Keras (a high-level API) which runs on top of TensorFlow (provides the computational backend for the constructed networks). <br>\n",
    "- The model is initialized as an object from Tensorflows **sequential** class. This is utilized to create models in a linear layer-by-layer stack.<br>\n",
    "- After initialising the model, each layer can be added in succession. Each layer is added as a *Dense* layer. This means that every neuron in the layer takes the input from all the other neurons of the previous layer.<br>\n",
    "\n",
    "\n",
    "- Note that a **softmax** activation function was used in the output layer. This ensures the output values are in the range of 0 and 1 and may be used as predicted probabilities."
   ]
  },
  {
   "cell_type": "markdown",
   "id": "71b9d4ba",
   "metadata": {},
   "source": [
    "## 1.1 Running initial baseline model (2 hidden layers)"
   ]
  },
  {
   "cell_type": "code",
   "execution_count": 14,
   "id": "d8a0b43d",
   "metadata": {},
   "outputs": [],
   "source": [
    "#initialising model as a Sequential model\n",
    "ann_1 = Sequential()\n",
    "\n",
    "#first hidden layer\n",
    "ann_1.add(Dense(128, input_dim = (X_train.shape[1]), activation='relu'))\n",
    "\n",
    "#second hidden layer\n",
    "ann_1.add(Dense(128, activation='relu'))\n",
    "\n",
    "#output layer with number of neurons corresponding to number of classes, softmax activation\n",
    "ann_1.add(Dense(y_train.shape[1], activation='softmax'))\n",
    "\n",
    "#compiling the model\n",
    "ann_1.compile(loss='categorical_crossentropy', optimizer='adam', metrics=['accuracy'])"
   ]
  },
  {
   "cell_type": "code",
   "execution_count": 15,
   "id": "d993afca",
   "metadata": {},
   "outputs": [],
   "source": [
    "#fitting the model on to the training and testing data\n",
    "model_history_1 = ann_1.fit(X_train, y_train, epochs=120, batch_size=80,  verbose=0) "
   ]
  },
  {
   "cell_type": "code",
   "execution_count": 16,
   "id": "80dfe17e",
   "metadata": {},
   "outputs": [
    {
     "data": {
      "text/plain": [
       "dict_keys(['loss', 'accuracy'])"
      ]
     },
     "execution_count": 16,
     "metadata": {},
     "output_type": "execute_result"
    }
   ],
   "source": [
    "model_history_1.history.keys()"
   ]
  },
  {
   "cell_type": "code",
   "execution_count": 17,
   "id": "45ca40bb",
   "metadata": {},
   "outputs": [
    {
     "name": "stdout",
     "output_type": "stream",
     "text": [
      "55/55 [==============================] - 0s 2ms/step\n",
      "14/14 [==============================] - 0s 2ms/step\n"
     ]
    }
   ],
   "source": [
    "ann1_metrics, y_preds_test_ann_1, y_preds_train_ann_1 = get_metrics(ann_1, \n",
    "                                                                    X_train, X_test, y_train, y_test)"
   ]
  },
  {
   "cell_type": "code",
   "execution_count": 113,
   "id": "d93bacd8",
   "metadata": {},
   "outputs": [
    {
     "data": {
      "text/html": [
       "<div>\n",
       "<style scoped>\n",
       "    .dataframe tbody tr th:only-of-type {\n",
       "        vertical-align: middle;\n",
       "    }\n",
       "\n",
       "    .dataframe tbody tr th {\n",
       "        vertical-align: top;\n",
       "    }\n",
       "\n",
       "    .dataframe thead th {\n",
       "        text-align: right;\n",
       "    }\n",
       "</style>\n",
       "<table border=\"1\" class=\"dataframe\">\n",
       "  <thead>\n",
       "    <tr style=\"text-align: right;\">\n",
       "      <th></th>\n",
       "      <th>model</th>\n",
       "      <th>accuracy</th>\n",
       "      <th>f1_score</th>\n",
       "      <th>QWK</th>\n",
       "      <th>MAE</th>\n",
       "      <th>sp_class_error</th>\n",
       "    </tr>\n",
       "  </thead>\n",
       "  <tbody>\n",
       "    <tr>\n",
       "      <th>0</th>\n",
       "      <td>&lt;keras.src.engine.sequential.Sequential object...</td>\n",
       "      <td>0.844037</td>\n",
       "      <td>0.871012</td>\n",
       "      <td>0.962287</td>\n",
       "      <td>0.162844</td>\n",
       "      <td>0.162844</td>\n",
       "    </tr>\n",
       "  </tbody>\n",
       "</table>\n",
       "</div>"
      ],
      "text/plain": [
       "                                               model  accuracy  f1_score  \\\n",
       "0  <keras.src.engine.sequential.Sequential object...  0.844037  0.871012   \n",
       "\n",
       "        QWK       MAE  sp_class_error  \n",
       "0  0.962287  0.162844        0.162844  "
      ]
     },
     "execution_count": 113,
     "metadata": {},
     "output_type": "execute_result"
    }
   ],
   "source": [
    "ann1_metrics"
   ]
  },
  {
   "cell_type": "code",
   "execution_count": 19,
   "id": "da803adb",
   "metadata": {},
   "outputs": [
    {
     "data": {
      "image/png": "[encoded data removed]",
      "text/plain": [
       "<Figure size 640x480 with 1 Axes>"
      ]
     },
     "metadata": {},
     "output_type": "display_data"
    }
   ],
   "source": [
    "plot_confusion_matrix(np.argmax(y_test, axis=1), y_preds_test_ann_1, 'ANN (Model 1)')"
   ]
  },
  {
   "cell_type": "markdown",
   "id": "583c7d1c",
   "metadata": {},
   "source": [
    "## 1.2 Tuning number of layers"
   ]
  },
  {
   "cell_type": "code",
   "execution_count": 20,
   "id": "583c1763",
   "metadata": {},
   "outputs": [],
   "source": [
    "#defining function to tune layers\n",
    "def run_ann(num_layers, X_train, y_train):\n",
    "    #initialising model as a Sequential model\n",
    "    model = Sequential()\n",
    "\n",
    "    #first hidden layer\n",
    "    model.add(Dense(128, input_dim = (X_train.shape[1]), activation='relu'))\n",
    "    \n",
    "    if num_layers == 2:\n",
    "        model.add(Dense(64, activation='relu'))\n",
    "    if num_layers == 3: \n",
    "        model.add(Dense(64, activation='relu'))\n",
    "        model.add(Dense(32, activation='relu'))\n",
    "    if num_layers == 4: \n",
    "        model.add(Dense(64, activation='relu'))\n",
    "        model.add(Dense(32, activation='relu'))\n",
    "        model.add(Dense(16, activation='relu'))\n",
    "\n",
    "    #output layer with number of neurons corresponding to number of classes, softmax activation\n",
    "    model.add(Dense(y_train.shape[1] , activation='softmax'))\n",
    "\n",
    "    #compiling the model\n",
    "    model.compile(loss='categorical_crossentropy', optimizer='adam', metrics=['accuracy'])\n",
    "    \n",
    "    return model"
   ]
  },
  {
   "cell_type": "markdown",
   "id": "8c5ddcc0",
   "metadata": {},
   "source": [
    "**Defining Function to get cross validation score of each ann model:**"
   ]
  },
  {
   "cell_type": "code",
   "execution_count": 30,
   "id": "cee3135f",
   "metadata": {},
   "outputs": [],
   "source": [
    "def evaluate_ann_layers(num_layers, X, y):\n",
    "    s_kfold = StratifiedKFold(n_splits=3, shuffle=True, random_state=1)\n",
    "\n",
    "    train_acc, test_acc = [], []\n",
    "\n",
    "    for train_index, test_index in s_kfold.split(X, np.argmax(y, axis=1)): \n",
    "        X_train, X_test, y_train, y_test = X[train_index], X[test_index], y[train_index], y[test_index]\n",
    "        #compiling the model\n",
    "        model = run_ann(num_layers, X_train, y_train)\n",
    "        #fitting the model\n",
    "        model.fit(X_train, y_train, epochs=100, batch_size=100,  verbose=0)\n",
    "        #evaluating the model\n",
    "        train_loss, train_accuracy = model.evaluate(X_train, y_train, verbose=0)\n",
    "        test_loss, test_accuracy = model.evaluate(X_test, y_test, verbose=0)\n",
    "        #appending results\n",
    "        train_acc.append(train_accuracy)\n",
    "        test_acc.append(test_accuracy)\n",
    "    #returning the mean results\n",
    "    train_acc = np.mean(train_acc)\n",
    "    test_acc = np.mean(test_acc)\n",
    "    print(f'training accuracy:{train_acc}')\n",
    "    print(f'testing accuracy:{test_acc}')"
   ]
  },
  {
   "cell_type": "code",
   "execution_count": 31,
   "id": "f20d18f3",
   "metadata": {},
   "outputs": [
    {
     "name": "stdout",
     "output_type": "stream",
     "text": [
      "training accuracy:0.8610140681266785\n",
      "testing accuracy:0.8605455557505289\n"
     ]
    }
   ],
   "source": [
    "#running for two hidden layers\n",
    "evaluate_ann_layers(2, X, y)"
   ]
  },
  {
   "cell_type": "code",
   "execution_count": 32,
   "id": "9fb0a654",
   "metadata": {},
   "outputs": [
    {
     "name": "stdout",
     "output_type": "stream",
     "text": [
      "training accuracy:0.8745442032814026\n",
      "testing accuracy:0.872478703657786\n"
     ]
    }
   ],
   "source": [
    "#running for three hidden layers\n",
    "evaluate_ann_layers(3, X, y)"
   ]
  },
  {
   "cell_type": "code",
   "execution_count": 33,
   "id": "a0ad3d03",
   "metadata": {},
   "outputs": [
    {
     "name": "stdout",
     "output_type": "stream",
     "text": [
      "training accuracy:0.8055001894632975\n",
      "testing accuracy:0.7913043101628622\n"
     ]
    }
   ],
   "source": [
    "#running for four hidden layers\n",
    "evaluate_ann_layers(4, X, y)"
   ]
  },
  {
   "cell_type": "markdown",
   "id": "431e5c6b",
   "metadata": {},
   "source": [
    "**Therefore going with 3 hidden layer architecture**"
   ]
  },
  {
   "cell_type": "markdown",
   "id": "955a281f",
   "metadata": {},
   "source": [
    "## 1.3 Tuning hyperparameters \n",
    "\n",
    "Hyperparameters to be tuned: \n",
    "- hidden layer neurons\n",
    "- batch_size\n",
    "- optimizer\n",
    "- activiation (hidden layer/output)\n",
    "- epochs"
   ]
  },
  {
   "cell_type": "code",
   "execution_count": 34,
   "id": "4dd766b0",
   "metadata": {},
   "outputs": [],
   "source": [
    "#defining dictionary of hyperparams to be tuned\n",
    "param_grid = {\n",
    "    'layer_1':[64, 128, 256],\n",
    "    'layer_2':[32, 64, 128],\n",
    "    'layer_3':[16, 32, 64],\n",
    "    'epochs':[100, 120, 140],\n",
    "    'batch_size':[30, 60, 90, 120],\n",
    "    'activation_1':['relu','leaky_relu','tanh'],\n",
    "    'activation_2':['relu','leaky_relu','tanh'],\n",
    "    'activation_3':['relu','leaky_relu','tanh'],\n",
    "    'optimizer':['adam']}"
   ]
  },
  {
   "cell_type": "code",
   "execution_count": 35,
   "id": "09a15a21",
   "metadata": {},
   "outputs": [],
   "source": [
    "## need to create a function for the ANN model \n",
    "def create_ANN(layer_1, layer_2, layer_3, input_dim, activation_1, activation_2, activation_3):\n",
    "    #initialising model as a Sequential model\n",
    "    model = Sequential()\n",
    "    #first hidden layer\n",
    "    model.add(Dense(layer_1, input_dim=input_dim, activation=activation_1))\n",
    "    #second hidden layer\n",
    "    model.add(Dense(layer_2, activation=activation_2))\n",
    "    #third hidden layer\n",
    "    model.add(Dense(layer_3, activation=activation_3))\n",
    "    \n",
    "    #output layer\n",
    "    model.add(Dense(y_train.shape[1], activation='softmax'))\n",
    "    #compiling the model\n",
    "    model.compile(loss='categorical_crossentropy', optimizer='adam', metrics=['accuracy'])\n",
    "    return model"
   ]
  },
  {
   "cell_type": "markdown",
   "id": "425d3720",
   "metadata": {},
   "source": [
    "The below wrapper class (KerasClassifier) provided by scikeras enables keras models to be used as if it were a scikit-learn classifier, enabling BayesSearchCV \n",
    "\n",
    "reference: https://pypi.org/project/scikeras/0.1.8/"
   ]
  },
  {
   "cell_type": "code",
   "execution_count": 36,
   "id": "27b6e193",
   "metadata": {},
   "outputs": [],
   "source": [
    "#creating wrapper around the keras model feeding the parameter space\n",
    "keras_class = KerasClassifier(model=create_ANN,\n",
    "                              layer_1=param_grid['layer_1'],\n",
    "                              layer_2=param_grid['layer_2'],\n",
    "                              layer_3=param_grid['layer_3'],\n",
    "                              input_dim=X_train.shape[1],\n",
    "                              activation_1=param_grid['activation_1'],\n",
    "                              activation_2=param_grid['activation_2'],\n",
    "                              activation_3=param_grid['activation_3'],\n",
    "                              verbose=0)"
   ]
  },
  {
   "cell_type": "code",
   "execution_count": 37,
   "id": "b8ddf5ca",
   "metadata": {},
   "outputs": [],
   "source": [
    "#Using Bayesian Optimisation for hyperparameter tuning due to the computational time required for tuning all hyperparams\n",
    "bayesSearch = BayesSearchCV(\n",
    " estimator=keras_class,\n",
    " search_spaces=param_grid,\n",
    " scoring='accuracy',\n",
    " cv=3,\n",
    " n_iter=50,\n",
    ")"
   ]
  },
  {
   "cell_type": "code",
   "execution_count": 38,
   "id": "ffc2b3b1",
   "metadata": {},
   "outputs": [],
   "source": [
    "#splitting the data into training and testing (80% used for training, 20% for testing)\n",
    "X_train, X_test, y_train, y_test = train_test_split(X, y, \n",
    "                                                    test_size = 0.2, \n",
    "                                                    random_state = 1, \n",
    "                                                    shuffle = True, \n",
    "                                                    stratify = y)"
   ]
  },
  {
   "cell_type": "code",
   "execution_count": 39,
   "id": "2850ee2c",
   "metadata": {},
   "outputs": [],
   "source": [
    "bayesSearch.fit(X_train, y_train)"
   ]
  },
  {
   "cell_type": "code",
   "execution_count": 40,
   "id": "5693c446",
   "metadata": {},
   "outputs": [
    {
     "name": "stdout",
     "output_type": "stream",
     "text": [
      "OrderedDict([('batch_size', 80), ('epochs', 140), ('activation_1', 'relu'), ('activation_2', 'relu'), ('activation_2', 'relu'), ('layer_1', 128), ('layer_2', 128), ('layer_3', 64), ('optimizer', 'adam')])\n"
     ]
    }
   ],
   "source": [
    "print(bayesSearch.best_params_)"
   ]
  },
  {
   "cell_type": "markdown",
   "id": "5a9376ae",
   "metadata": {},
   "source": [
    "## 1.4 Running Tuned MLP"
   ]
  },
  {
   "cell_type": "code",
   "execution_count": 41,
   "id": "ec49bd6d",
   "metadata": {},
   "outputs": [],
   "source": [
    "#initialising ann model with tunedhyperparams\n",
    "ann_2 = create_ANN(layer_1=128,\n",
    "                   layer_2=128,\n",
    "                   layer_3=64,\n",
    "                   input_dim=X_train.shape[1],\n",
    "                   activation_1='relu',\n",
    "                   activation_2='relu',\n",
    "                   activation_3='relu'\n",
    "                   )"
   ]
  },
  {
   "cell_type": "code",
   "execution_count": 42,
   "id": "91c3e1af",
   "metadata": {},
   "outputs": [],
   "source": [
    "#fitting the model on to the training and testing data\n",
    "model_history_2 = ann_2.fit(X_train, y_train, epochs=140, batch_size=80,  verbose=0) "
   ]
  },
  {
   "cell_type": "code",
   "execution_count": 43,
   "id": "fc545a15",
   "metadata": {},
   "outputs": [
    {
     "data": {
      "image/png": "[encoded data removed]",
      "text/plain": [
       "<Figure size 1000x600 with 1 Axes>"
      ]
     },
     "metadata": {},
     "output_type": "display_data"
    }
   ],
   "source": [
    "#plotting the loss as a function of number of epochs to visualise how the model is learning\n",
    "plt.figure(figsize=(10,6))\n",
    "plt.plot(model_history_2.history['loss'], color='blue',label='loss')\n",
    "plt.plot(model_history_2.history['accuracy'], color='orange',label='accuracy')\n",
    "plt.title('Model loss and accuracy Progress during training')\n",
    "plt.xlabel('Epochs')\n",
    "plt.legend()\n",
    "plt.show()"
   ]
  },
  {
   "cell_type": "code",
   "execution_count": 44,
   "id": "04d5bfe8",
   "metadata": {},
   "outputs": [
    {
     "name": "stdout",
     "output_type": "stream",
     "text": [
      "55/55 [==============================] - 0s 1ms/step\n",
      "14/14 [==============================] - 0s 2ms/step\n"
     ]
    }
   ],
   "source": [
    "ann2_metrics, y_preds_test_ann_2, y_preds_train_ann_2 = get_metrics(ann_2, \n",
    "                                                      X_train, X_test, y_train, y_test)"
   ]
  },
  {
   "cell_type": "code",
   "execution_count": 114,
   "id": "dadf5c78",
   "metadata": {},
   "outputs": [
    {
     "data": {
      "text/html": [
       "<div>\n",
       "<style scoped>\n",
       "    .dataframe tbody tr th:only-of-type {\n",
       "        vertical-align: middle;\n",
       "    }\n",
       "\n",
       "    .dataframe tbody tr th {\n",
       "        vertical-align: top;\n",
       "    }\n",
       "\n",
       "    .dataframe thead th {\n",
       "        text-align: right;\n",
       "    }\n",
       "</style>\n",
       "<table border=\"1\" class=\"dataframe\">\n",
       "  <thead>\n",
       "    <tr style=\"text-align: right;\">\n",
       "      <th></th>\n",
       "      <th>model</th>\n",
       "      <th>accuracy</th>\n",
       "      <th>f1_score</th>\n",
       "      <th>QWK</th>\n",
       "      <th>MAE</th>\n",
       "      <th>sp_class_error</th>\n",
       "    </tr>\n",
       "  </thead>\n",
       "  <tbody>\n",
       "    <tr>\n",
       "      <th>0</th>\n",
       "      <td>&lt;keras.src.engine.sequential.Sequential object...</td>\n",
       "      <td>0.894495</td>\n",
       "      <td>0.908161</td>\n",
       "      <td>0.971722</td>\n",
       "      <td>0.112385</td>\n",
       "      <td>0.112385</td>\n",
       "    </tr>\n",
       "  </tbody>\n",
       "</table>\n",
       "</div>"
      ],
      "text/plain": [
       "                                               model  accuracy  f1_score  \\\n",
       "0  <keras.src.engine.sequential.Sequential object...  0.894495  0.908161   \n",
       "\n",
       "        QWK       MAE  sp_class_error  \n",
       "0  0.971722  0.112385        0.112385  "
      ]
     },
     "execution_count": 114,
     "metadata": {},
     "output_type": "execute_result"
    }
   ],
   "source": [
    "ann2_metrics"
   ]
  },
  {
   "cell_type": "code",
   "execution_count": 46,
   "id": "2c7483fe",
   "metadata": {},
   "outputs": [
    {
     "data": {
      "image/png": "[encoded data removed]",
      "text/plain": [
       "<Figure size 640x480 with 1 Axes>"
      ]
     },
     "metadata": {},
     "output_type": "display_data"
    }
   ],
   "source": [
    "plot_confusion_matrix(np.argmax(y_test, axis=1), y_preds_test_ann_2, 'ANN Classifier (Tuned)')"
   ]
  },
  {
   "cell_type": "code",
   "execution_count": 137,
   "id": "579b9a8e",
   "metadata": {},
   "outputs": [],
   "source": [
    "#defining function for running tuned mlp\n",
    "def run_mlp(X_train, X_test, y_train, y_test):\n",
    "    model = Sequential()\n",
    "    model.add(Dense(128, input_dim=X_train.shape[1], activation='relu'))\n",
    "    model.add(Dense(128, activation='relu'))\n",
    "    model.add(Dense(64, activation='relu'))\n",
    "    #output layer\n",
    "    model.add(Dense(y_train.shape[1], activation='softmax'))\n",
    "    #compiling the model\n",
    "    model.compile(loss='categorical_crossentropy', optimizer='adam', metrics=['accuracy'])\n",
    "    #fitting the model on to the training and testing data\n",
    "    model_history = model.fit(X_train, y_train, epochs=120, batch_size=80,  verbose=0)\n",
    "    return model, model_history"
   ]
  },
  {
   "cell_type": "markdown",
   "id": "a39bc832",
   "metadata": {},
   "source": [
    "## 1.5 PCA  + MLP"
   ]
  },
  {
   "cell_type": "markdown",
   "id": "5ca7739a",
   "metadata": {},
   "source": [
    "**using 24 principal components from data as determined from ML_Main_Class_Classification.ipynb**"
   ]
  },
  {
   "cell_type": "code",
   "execution_count": 163,
   "id": "509c4d95",
   "metadata": {},
   "outputs": [],
   "source": [
    "#using 24 principal components\n",
    "#setting n_components at None includes all principal components\n",
    "pca = PCA(n_components=24)"
   ]
  },
  {
   "cell_type": "code",
   "execution_count": 164,
   "id": "55e4dfc0",
   "metadata": {},
   "outputs": [],
   "source": [
    "X_pca = pca.fit_transform(X)"
   ]
  },
  {
   "cell_type": "code",
   "execution_count": 149,
   "id": "8bb36e7a",
   "metadata": {},
   "outputs": [],
   "source": [
    "X_train_pca = pca.fit_transform(X_train)\n",
    "X_test_pca = pca.transform(X_test)"
   ]
  },
  {
   "cell_type": "code",
   "execution_count": 151,
   "id": "9f19fbcd",
   "metadata": {},
   "outputs": [
    {
     "name": "stdout",
     "output_type": "stream",
     "text": [
      "training data reduced by 99.3158% after PCA applied\n"
     ]
    }
   ],
   "source": [
    "compression_ratio = 100 - ((X_train_pca.shape[1]) / (X_train.shape[1]))*100\n",
    "print(f'training data reduced by {compression_ratio:.4f}% after PCA applied')"
   ]
  },
  {
   "cell_type": "code",
   "execution_count": 52,
   "id": "db6bf8dd",
   "metadata": {},
   "outputs": [
    {
     "data": {
      "text/plain": [
       "<keras.src.callbacks.History at 0x150bda7d890>"
      ]
     },
     "execution_count": 52,
     "metadata": {},
     "output_type": "execute_result"
    }
   ],
   "source": [
    "#initialising ann model with tunedhyperparams\n",
    "ann_pca = create_ANN(layer_1=128,\n",
    "                   layer_2=128,\n",
    "                   layer_3=64,\n",
    "                   input_dim=X_train_pca.shape[1],\n",
    "                   activation_1='relu',\n",
    "                   activation_2='relu',\n",
    "                   activation_3='relu'\n",
    "                   )\n",
    "\n",
    "#fitting the model on to the training and testing data\n",
    "ann_pca.fit(X_train_pca, y_train, epochs=140, batch_size=80,  verbose=0) "
   ]
  },
  {
   "cell_type": "code",
   "execution_count": 53,
   "id": "74dbd7f2",
   "metadata": {},
   "outputs": [
    {
     "name": "stdout",
     "output_type": "stream",
     "text": [
      "55/55 [==============================] - 0s 920us/step\n",
      "14/14 [==============================] - 0s 2ms/step\n"
     ]
    }
   ],
   "source": [
    "ann_pca_metrics, y_preds_test_ann_pca, y_preds_train_ann_pca = get_metrics(ann_pca,\n",
    "                                                          X_train_pca, X_test_pca, y_train, y_test)"
   ]
  },
  {
   "cell_type": "code",
   "execution_count": 116,
   "id": "ff4e2041",
   "metadata": {},
   "outputs": [
    {
     "data": {
      "text/html": [
       "<div>\n",
       "<style scoped>\n",
       "    .dataframe tbody tr th:only-of-type {\n",
       "        vertical-align: middle;\n",
       "    }\n",
       "\n",
       "    .dataframe tbody tr th {\n",
       "        vertical-align: top;\n",
       "    }\n",
       "\n",
       "    .dataframe thead th {\n",
       "        text-align: right;\n",
       "    }\n",
       "</style>\n",
       "<table border=\"1\" class=\"dataframe\">\n",
       "  <thead>\n",
       "    <tr style=\"text-align: right;\">\n",
       "      <th></th>\n",
       "      <th>model</th>\n",
       "      <th>accuracy</th>\n",
       "      <th>f1_score</th>\n",
       "      <th>QWK</th>\n",
       "      <th>MAE</th>\n",
       "      <th>sp_class_error</th>\n",
       "    </tr>\n",
       "  </thead>\n",
       "  <tbody>\n",
       "    <tr>\n",
       "      <th>0</th>\n",
       "      <td>&lt;keras.src.engine.sequential.Sequential object...</td>\n",
       "      <td>0.901376</td>\n",
       "      <td>0.903819</td>\n",
       "      <td>0.973426</td>\n",
       "      <td>0.105505</td>\n",
       "      <td>0.105505</td>\n",
       "    </tr>\n",
       "  </tbody>\n",
       "</table>\n",
       "</div>"
      ],
      "text/plain": [
       "                                               model  accuracy  f1_score  \\\n",
       "0  <keras.src.engine.sequential.Sequential object...  0.901376  0.903819   \n",
       "\n",
       "        QWK       MAE  sp_class_error  \n",
       "0  0.973426  0.105505        0.105505  "
      ]
     },
     "execution_count": 116,
     "metadata": {},
     "output_type": "execute_result"
    }
   ],
   "source": [
    "ann_pca_metrics"
   ]
  },
  {
   "cell_type": "code",
   "execution_count": 55,
   "id": "e3b0ecc6",
   "metadata": {},
   "outputs": [
    {
     "data": {
      "image/png": "[encoded data removed]",
      "text/plain": [
       "<Figure size 640x480 with 1 Axes>"
      ]
     },
     "metadata": {},
     "output_type": "display_data"
    }
   ],
   "source": [
    "plot_confusion_matrix(np.argmax(y_test, axis=1), y_preds_test_ann_pca, 'ANN (PCA)')"
   ]
  },
  {
   "cell_type": "markdown",
   "id": "84851f0e",
   "metadata": {},
   "source": [
    "## 1.6 Using Class Weights to handle Imbalance"
   ]
  },
  {
   "cell_type": "code",
   "execution_count": 56,
   "id": "37414b79",
   "metadata": {},
   "outputs": [],
   "source": [
    "#creating weights for each class so that they are \"balanced\" (the smaller a class is the larger the weight)\n",
    "class_weights = class_weight.compute_class_weight('balanced',\n",
    "                                                   classes = np.unique(np.argmax(y_train,axis=1)),\n",
    "                                                   y = np.argmax(y_train,axis=1))"
   ]
  },
  {
   "cell_type": "code",
   "execution_count": 57,
   "id": "8ba4513f",
   "metadata": {},
   "outputs": [
    {
     "data": {
      "text/plain": [
       "{0: 8.304761904761905,\n",
       " 1: 1.3394777265745008,\n",
       " 2: 0.9656699889258029,\n",
       " 3: 0.8445520581113801,\n",
       " 4: 0.586218487394958,\n",
       " 5: 0.5960355434039645,\n",
       " 6: 1.8874458874458875}"
      ]
     },
     "execution_count": 57,
     "metadata": {},
     "output_type": "execute_result"
    }
   ],
   "source": [
    "class_weight_dict = dict(enumerate(class_weights))\n",
    "class_weight_dict"
   ]
  },
  {
   "cell_type": "code",
   "execution_count": 58,
   "id": "4fe75528",
   "metadata": {},
   "outputs": [],
   "source": [
    "#initialising ann model with tunedhyperparams\n",
    "ann_cl_weight = create_ANN(layer_1=128,\n",
    "                   layer_2=128,\n",
    "                   layer_3=64,\n",
    "                   input_dim=X_train.shape[1],\n",
    "                   activation_1='relu',\n",
    "                   activation_2='relu',\n",
    "                   activation_3='relu',\n",
    "                   )"
   ]
  },
  {
   "cell_type": "code",
   "execution_count": 59,
   "id": "8a753acd",
   "metadata": {},
   "outputs": [
    {
     "data": {
      "text/plain": [
       "<keras.src.callbacks.History at 0x150bf241a50>"
      ]
     },
     "execution_count": 59,
     "metadata": {},
     "output_type": "execute_result"
    }
   ],
   "source": [
    "#fitting the model on to the training and testing data\n",
    "ann_cl_weight.fit(X_train, y_train, epochs=140, batch_size=80,  verbose=0, class_weight=class_weight_dict) "
   ]
  },
  {
   "cell_type": "code",
   "execution_count": 60,
   "id": "3cc41a16",
   "metadata": {},
   "outputs": [
    {
     "name": "stdout",
     "output_type": "stream",
     "text": [
      "55/55 [==============================] - 0s 1ms/step\n",
      "14/14 [==============================] - 0s 2ms/step\n"
     ]
    }
   ],
   "source": [
    "ann_cl_weights_metrics, y_preds_test_ann_weights, y_preds_train_ann_weights = get_metrics(ann_cl_weight,\n",
    "                                                                  X_train, X_test, y_train, y_test)"
   ]
  },
  {
   "cell_type": "code",
   "execution_count": 118,
   "id": "c0151498",
   "metadata": {},
   "outputs": [
    {
     "data": {
      "text/html": [
       "<div>\n",
       "<style scoped>\n",
       "    .dataframe tbody tr th:only-of-type {\n",
       "        vertical-align: middle;\n",
       "    }\n",
       "\n",
       "    .dataframe tbody tr th {\n",
       "        vertical-align: top;\n",
       "    }\n",
       "\n",
       "    .dataframe thead th {\n",
       "        text-align: right;\n",
       "    }\n",
       "</style>\n",
       "<table border=\"1\" class=\"dataframe\">\n",
       "  <thead>\n",
       "    <tr style=\"text-align: right;\">\n",
       "      <th></th>\n",
       "      <th>model</th>\n",
       "      <th>accuracy</th>\n",
       "      <th>f1_score</th>\n",
       "      <th>QWK</th>\n",
       "      <th>MAE</th>\n",
       "      <th>sp_class_error</th>\n",
       "    </tr>\n",
       "  </thead>\n",
       "  <tbody>\n",
       "    <tr>\n",
       "      <th>0</th>\n",
       "      <td>&lt;keras.src.engine.sequential.Sequential object...</td>\n",
       "      <td>0.876147</td>\n",
       "      <td>0.881065</td>\n",
       "      <td>0.968897</td>\n",
       "      <td>0.130734</td>\n",
       "      <td>0.130734</td>\n",
       "    </tr>\n",
       "  </tbody>\n",
       "</table>\n",
       "</div>"
      ],
      "text/plain": [
       "                                               model  accuracy  f1_score  \\\n",
       "0  <keras.src.engine.sequential.Sequential object...  0.876147  0.881065   \n",
       "\n",
       "        QWK       MAE  sp_class_error  \n",
       "0  0.968897  0.130734        0.130734  "
      ]
     },
     "execution_count": 118,
     "metadata": {},
     "output_type": "execute_result"
    }
   ],
   "source": [
    "ann_cl_weights_metrics"
   ]
  },
  {
   "cell_type": "markdown",
   "id": "345257e0",
   "metadata": {},
   "source": [
    "## 1.7 Using Balanced Dataset\n",
    "Note: using optimised number of layers from imbalanced dataset"
   ]
  },
  {
   "cell_type": "code",
   "execution_count": 62,
   "id": "64042c5e",
   "metadata": {},
   "outputs": [],
   "source": [
    "##load in cleaned and processed balanced data\n",
    "balanced_df = pd.read_csv('../data/derived_tables/X_y_data/main_bal.csv', index_col=0)"
   ]
  },
  {
   "cell_type": "code",
   "execution_count": 63,
   "id": "8bd5d967",
   "metadata": {},
   "outputs": [],
   "source": [
    "#splitting into independent/input (X) and dependent/target (Y) variables\n",
    "X_bal = balanced_df.loc[:, balanced_df.columns != 'main_class']\n",
    "y_bal = balanced_df.loc[:, 'main_class']"
   ]
  },
  {
   "cell_type": "code",
   "execution_count": 64,
   "id": "f5bac5d8",
   "metadata": {},
   "outputs": [],
   "source": [
    "y_bal = y_bal.values\n",
    "X_bal = X_bal.values\n",
    "\n",
    "#one hot encoding y variable\n",
    "y_bal = np.array(y_bal)\n",
    "y_bal = to_categorical(y_bal)"
   ]
  },
  {
   "cell_type": "code",
   "execution_count": 65,
   "id": "af254cc6",
   "metadata": {},
   "outputs": [],
   "source": [
    "#splitting the data into training and testing (80% used for training, 20% for testing)\n",
    "X_train_bal, X_test_bal, y_train_bal, y_test_bal =  train_test_split(X_bal, y_bal, \n",
    "                                                                    test_size = 0.2,\n",
    "                                                                    random_state = 1)"
   ]
  },
  {
   "cell_type": "code",
   "execution_count": 66,
   "id": "0f5701f5",
   "metadata": {
    "scrolled": true
   },
   "outputs": [
    {
     "data": {
      "text/plain": [
       "((1736, 3508), (434, 3508), (1736, 7), (434, 7))"
      ]
     },
     "execution_count": 66,
     "metadata": {},
     "output_type": "execute_result"
    }
   ],
   "source": [
    "#looking at shapes\n",
    "X_train_bal.shape, X_test_bal.shape, y_train_bal.shape, y_test_bal.shape"
   ]
  },
  {
   "cell_type": "markdown",
   "id": "922bcc7c",
   "metadata": {},
   "source": [
    "### 1.7.1 Tuning hyperparameters \n",
    "\n",
    "Hyperparameters to be tuned: \n",
    "- hidden layer neurons\n",
    "- batch_size\n",
    "- optimizer\n",
    "- activiation (hidden layer/output)\n",
    "- epochs"
   ]
  },
  {
   "cell_type": "code",
   "execution_count": 67,
   "id": "b3ef24db",
   "metadata": {},
   "outputs": [],
   "source": [
    "#defining dictionary of hyperparams to be tuned\n",
    "param_grid = {\n",
    "    'layer_1':[64, 128],\n",
    "    'layer_2':[32, 64, 128],\n",
    "    'layer_3':[16, 32, 64],\n",
    "    'epochs':[100, 120, 140],\n",
    "    'batch_size':[30, 60, 90, 120],\n",
    "    'activation_1':['relu','leaky_relu', 'tanh'],\n",
    "    'activation_2':['relu','leaky_relu', 'tanh'],\n",
    "    'activation_3':['relu','leaky_relu','tanh'],\n",
    "    'optimizer':['adam']}"
   ]
  },
  {
   "cell_type": "code",
   "execution_count": 68,
   "id": "e99e97bc",
   "metadata": {},
   "outputs": [],
   "source": [
    "## need to create a function for the ANN model \n",
    "def create_ANN(layer_1, layer_2, layer_3, input_dim, activation_1, activation_2, activation_3):\n",
    "    #initialising model as a Sequential model\n",
    "    model = Sequential()\n",
    "    #first hidden layer\n",
    "    model.add(Dense(layer_1, input_dim=input_dim, activation=activation_1))\n",
    "    #second hidden layer\n",
    "    model.add(Dense(layer_2, activation=activation_2))\n",
    "    #third hidden layer\n",
    "    model.add(Dense(layer_3, activation=activation_3))\n",
    "    \n",
    "    #output layer\n",
    "    model.add(Dense(7, activation='softmax'))\n",
    "    #compiling the model\n",
    "    model.compile(loss='categorical_crossentropy', optimizer='adam', metrics=['accuracy'])\n",
    "    return model"
   ]
  },
  {
   "cell_type": "markdown",
   "id": "51b8e419",
   "metadata": {},
   "source": [
    "The below wrapper class (KerasClassifier) provided by scikeras enables keras models to be used as if it were a scikit-learn classifier, enabling BayesSearchCV \n",
    "\n",
    "reference: https://pypi.org/project/scikeras/0.1.8/"
   ]
  },
  {
   "cell_type": "code",
   "execution_count": 69,
   "id": "dc12a7f2",
   "metadata": {},
   "outputs": [],
   "source": [
    "#creating wrapper around the keras model feeding the parameter space\n",
    "keras_class = KerasClassifier(model=create_ANN,\n",
    "                              layer_1=param_grid['layer_1'],\n",
    "                              layer_2=param_grid['layer_2'],\n",
    "                              layer_3=param_grid['layer_3'],\n",
    "                              input_dim=X_train_bal.shape[1],\n",
    "                              activation_1=param_grid['activation_1'],\n",
    "                              activation_2=param_grid['activation_2'],\n",
    "                              activation_3=param_grid['activation_3'],\n",
    "                              verbose=0)"
   ]
  },
  {
   "cell_type": "code",
   "execution_count": 70,
   "id": "0fc3da4a",
   "metadata": {},
   "outputs": [],
   "source": [
    "#Using Bayesian Optimisation for hyperparameter tuning due to the computational time required for tuning all hyperparams\n",
    "bayesSearch = BayesSearchCV(\n",
    " estimator=keras_class,\n",
    " search_spaces=param_grid,\n",
    " scoring='accuracy',\n",
    " cv=3,\n",
    " n_iter=50,\n",
    ")"
   ]
  },
  {
   "cell_type": "code",
   "execution_count": 112,
   "id": "9f222ecd",
   "metadata": {},
   "outputs": [],
   "source": [
    "bayesSearch.fit(X_train_bal, y_train_bal)"
   ]
  },
  {
   "cell_type": "code",
   "execution_count": 113,
   "id": "866e261f",
   "metadata": {},
   "outputs": [
    {
     "name": "stdout",
     "output_type": "stream",
     "text": [
      "OrderedDict([('batch_size', 80), ('epochs', 140), ('activation_1', 'relu'), ('activation_2', 'relu'), ('activation_2', 'relu'), ('layer_1', 128), ('layer_2', 128), ('layer_3', 64), ('optimizer', 'adam')])\n"
     ]
    }
   ],
   "source": [
    "print(bayesSearch.best_params_)"
   ]
  },
  {
   "cell_type": "markdown",
   "id": "a2147ef3",
   "metadata": {},
   "source": [
    "### 1.7.2 Running Tuned MLP for balanced dataset"
   ]
  },
  {
   "cell_type": "code",
   "execution_count": 71,
   "id": "263c3fa1",
   "metadata": {},
   "outputs": [],
   "source": [
    "#initialising ann model with tunedhyperparams\n",
    "ann_bal = create_ANN(layer_1=128,\n",
    "                   layer_2=128,\n",
    "                   layer_3=64,\n",
    "                   input_dim=X_train_bal.shape[1],\n",
    "                   activation_1='relu',\n",
    "                   activation_2='relu',\n",
    "                   activation_3='relu'\n",
    "                   )"
   ]
  },
  {
   "cell_type": "code",
   "execution_count": 72,
   "id": "72264ae2",
   "metadata": {},
   "outputs": [],
   "source": [
    "#fitting the model on to the training and testing data\n",
    "model_history_bal = ann_bal.fit(X_train_bal, y_train_bal, epochs=140, batch_size=80,  verbose=0) "
   ]
  },
  {
   "cell_type": "code",
   "execution_count": 73,
   "id": "5e80c741",
   "metadata": {},
   "outputs": [
    {
     "name": "stdout",
     "output_type": "stream",
     "text": [
      "55/55 [==============================] - 0s 1ms/step\n",
      "14/14 [==============================] - 0s 2ms/step\n"
     ]
    }
   ],
   "source": [
    "annbal_metrics, y_preds_test_ann_bal, y_preds_train_ann_bal = get_metrics(ann_bal, \n",
    "                                                                          X_train, X_test, y_train, y_test)"
   ]
  },
  {
   "cell_type": "code",
   "execution_count": 9,
   "id": "1e55318f",
   "metadata": {},
   "outputs": [
    {
     "data": {
      "text/html": [
       "<div>\n",
       "<style scoped>\n",
       "    .dataframe tbody tr th:only-of-type {\n",
       "        vertical-align: middle;\n",
       "    }\n",
       "\n",
       "    .dataframe tbody tr th {\n",
       "        vertical-align: top;\n",
       "    }\n",
       "\n",
       "    .dataframe thead th {\n",
       "        text-align: right;\n",
       "    }\n",
       "</style>\n",
       "<table border=\"1\" class=\"dataframe\">\n",
       "  <thead>\n",
       "    <tr style=\"text-align: right;\">\n",
       "      <th></th>\n",
       "      <th>model</th>\n",
       "      <th>accuracy</th>\n",
       "      <th>f1_score</th>\n",
       "      <th>QWK</th>\n",
       "      <th>MAE</th>\n",
       "      <th>sp_class_error</th>\n",
       "    </tr>\n",
       "  </thead>\n",
       "  <tbody>\n",
       "    <tr>\n",
       "      <th>0</th>\n",
       "      <td>&lt;keras.src.engine.sequential.Sequential object...</td>\n",
       "      <td>0.892202</td>\n",
       "      <td>0.900898</td>\n",
       "      <td>0.970936</td>\n",
       "      <td>0.114679</td>\n",
       "      <td>0.114679</td>\n",
       "    </tr>\n",
       "  </tbody>\n",
       "</table>\n",
       "</div>"
      ],
      "text/plain": [
       "                                               model  accuracy  f1_score  \\\n",
       "0  <keras.src.engine.sequential.Sequential object...  0.892202  0.900898   \n",
       "\n",
       "        QWK       MAE  sp_class_error  \n",
       "0  0.970936  0.114679        0.114679  "
      ]
     },
     "execution_count": 9,
     "metadata": {},
     "output_type": "execute_result"
    }
   ],
   "source": [
    "annbal_metrics"
   ]
  },
  {
   "cell_type": "code",
   "execution_count": 76,
   "id": "9d62f19d",
   "metadata": {},
   "outputs": [
    {
     "data": {
      "image/png": "[encoded data removed]",
      "text/plain": [
       "<Figure size 640x480 with 1 Axes>"
      ]
     },
     "metadata": {},
     "output_type": "display_data"
    }
   ],
   "source": [
    "plot_confusion_matrix(np.argmax(y_test, axis=1), y_preds_test_ann_bal, 'ANN Classifier (Tuned)')"
   ]
  },
  {
   "cell_type": "code",
   "execution_count": 138,
   "id": "694f4440",
   "metadata": {},
   "outputs": [],
   "source": [
    "#defining function for running balanced dataset mlp\n",
    "def run_mlp_bal(X_train, X_test, y_train, y_test):\n",
    "    model = Sequential()\n",
    "    model.add(Dense(128, input_dim=X_train.shape[1], activation='relu'))\n",
    "    model.add(Dense(128, activation='relu'))\n",
    "    model.add(Dense(64, activation='relu'))\n",
    "    #output layer\n",
    "    model.add(Dense(y_train.shape[1], activation='softmax'))\n",
    "    #compiling the model\n",
    "    model.compile(loss='categorical_crossentropy', optimizer='adam', metrics=['accuracy'])\n",
    "    #fitting the model on to the training and testing data\n",
    "    model_history = model.fit(X_train, y_train, epochs=120, batch_size=80,  verbose=0)\n",
    "    return model, model_history"
   ]
  },
  {
   "cell_type": "markdown",
   "id": "d99a648f",
   "metadata": {},
   "source": [
    "### 1.9 Running MLP using balanced dataset and 24 PCs"
   ]
  },
  {
   "cell_type": "code",
   "execution_count": 163,
   "id": "27f612f4",
   "metadata": {},
   "outputs": [],
   "source": [
    "#using 24 principal components\n",
    "#setting n_components at None includes all principal components\n",
    "pca = PCA(n_components=24)"
   ]
  },
  {
   "cell_type": "code",
   "execution_count": 164,
   "id": "0a4592be",
   "metadata": {},
   "outputs": [],
   "source": [
    "X_pca_bal = pca.fit_transform(X_bal)"
   ]
  },
  {
   "cell_type": "code",
   "execution_count": 149,
   "id": "ff555306",
   "metadata": {},
   "outputs": [],
   "source": [
    "X_train_pca_bal = pca.fit_transform(X_train_bal)\n",
    "X_test_pca_bal = pca.transform(X_test_bal)"
   ]
  },
  {
   "cell_type": "code",
   "execution_count": 52,
   "id": "9a2a1b9b",
   "metadata": {},
   "outputs": [
    {
     "data": {
      "text/plain": [
       "<keras.src.callbacks.History at 0x150bda7d890>"
      ]
     },
     "execution_count": 52,
     "metadata": {},
     "output_type": "execute_result"
    }
   ],
   "source": [
    "#initialising ann model with tunedhyperparams\n",
    "ann_pca_bal = create_ANN(layer_1=128,\n",
    "                   layer_2=128,\n",
    "                   layer_3=64,\n",
    "                   input_dim=X_train_pca.shape[1],\n",
    "                   activation_1='relu',\n",
    "                   activation_2='relu',\n",
    "                   activation_3='relu'\n",
    "                   )\n",
    "\n",
    "#fitting the model on to the training and testing data\n",
    "ann_pca_bal.fit(X_train_pca_bal, y_train, epochs=140, batch_size=80,  verbose=0) "
   ]
  },
  {
   "cell_type": "markdown",
   "id": "1612be35",
   "metadata": {},
   "source": [
    "--------\n",
    "# 2. CNN multiclass classification"
   ]
  },
  {
   "cell_type": "code",
   "execution_count": 12,
   "id": "c474815a",
   "metadata": {},
   "outputs": [],
   "source": [
    "#splitting the training/testing data\n",
    "X_train, X_test, y_train, y_test = split_cnn_data(X, y)"
   ]
  },
  {
   "cell_type": "markdown",
   "id": "f1f40968",
   "metadata": {},
   "source": [
    "**NOTE**: the notebook *CNN_Tuning.ipynb* Section 1 using google colab was used to tune the CNN architecture and hyperparameters resulting in the below model:\n",
    "\n",
    "- CNN layer 1: filters = 32, kernel = 3, strides = 1, activation = relu\n",
    "- CNN layer 2: filters = 64, kernel = 5, strides = 2, activation = relu\n",
    "- maxpooling size = 2\n",
    "- Dense layer = 128 neurons\n",
    "- optimizer = Adam\n",
    "- learning rate = 0.001 (default)\n",
    "- batch size = 32"
   ]
  },
  {
   "cell_type": "code",
   "execution_count": 13,
   "id": "36d645bf",
   "metadata": {},
   "outputs": [
    {
     "data": {
      "text/plain": [
       "((1744, 3508, 1), (1744, 7), (436, 3508, 1), (436, 7))"
      ]
     },
     "execution_count": 13,
     "metadata": {},
     "output_type": "execute_result"
    }
   ],
   "source": [
    "X_train.shape, y_train.shape, X_test.shape, y_test.shape"
   ]
  },
  {
   "cell_type": "code",
   "execution_count": 14,
   "id": "7327483a",
   "metadata": {},
   "outputs": [],
   "source": [
    "def run_cnn(X_train, X_test, y_train, y_test):\n",
    "    model = models.Sequential()\n",
    "    model.add(Conv1D(32, kernel_size=3, strides=1, padding='valid', activation='relu', input_shape=(X_test.shape[1], 1)))\n",
    "    model.add(layers.Conv1D(64,  kernel_size=5, strides=2, activation='relu'))\n",
    "    model.add(MaxPooling1D(pool_size=2))\n",
    "\n",
    "    #Flatten output of conv\n",
    "    model.add(layers.Flatten())\n",
    "\n",
    "    # Fully connected Network as classifier\n",
    "    # Hidden layer with tunable number of units\n",
    "    model.add(Dense(128, activation='relu'))\n",
    "\n",
    "    # Output layer\n",
    "    model.add(layers.Dense(y_train.shape[1], activation='softmax'))\n",
    "\n",
    "    model.compile(loss='categorical_crossentropy', metrics=['accuracy'], optimizer='adam')\n",
    "\n",
    "    #setting early stopping to halt epochs if model has reached max accuracy\n",
    "    early_stopping_cb = keras.callbacks.EarlyStopping(patience=10,\n",
    "                                                      restore_best_weights=True)\n",
    "\n",
    "    model_history = model.fit(X_train, y_train, batch_size=32, epochs=100, verbose=0,\n",
    "                              validation_data=(X_test, y_test), callbacks=[early_stopping_cb])\n",
    "    return model, model_history"
   ]
  },
  {
   "cell_type": "code",
   "execution_count": 15,
   "id": "5dc9f213",
   "metadata": {},
   "outputs": [],
   "source": [
    "cnn_model_main, model_history = run_cnn(X_train, X_test, y_train, y_test)"
   ]
  },
  {
   "cell_type": "code",
   "execution_count": 16,
   "id": "e6a52234",
   "metadata": {},
   "outputs": [
    {
     "name": "stdout",
     "output_type": "stream",
     "text": [
      "55/55 [==============================] - 1s 16ms/step\n",
      "14/14 [==============================] - 0s 16ms/step\n"
     ]
    }
   ],
   "source": [
    "cnn_metrics, y_preds_test_cnn, y_preds_train_cnn = get_metrics(cnn_model_main, X_train, X_test, y_train, y_test)"
   ]
  },
  {
   "cell_type": "code",
   "execution_count": 11,
   "id": "6abafae9",
   "metadata": {},
   "outputs": [
    {
     "data": {
      "text/html": [
       "<div>\n",
       "<style scoped>\n",
       "    .dataframe tbody tr th:only-of-type {\n",
       "        vertical-align: middle;\n",
       "    }\n",
       "\n",
       "    .dataframe tbody tr th {\n",
       "        vertical-align: top;\n",
       "    }\n",
       "\n",
       "    .dataframe thead th {\n",
       "        text-align: right;\n",
       "    }\n",
       "</style>\n",
       "<table border=\"1\" class=\"dataframe\">\n",
       "  <thead>\n",
       "    <tr style=\"text-align: right;\">\n",
       "      <th></th>\n",
       "      <th>model</th>\n",
       "      <th>accuracy</th>\n",
       "      <th>f1_score</th>\n",
       "      <th>QWK</th>\n",
       "      <th>MAE</th>\n",
       "      <th>sp_class_error</th>\n",
       "    </tr>\n",
       "  </thead>\n",
       "  <tbody>\n",
       "    <tr>\n",
       "      <th>0</th>\n",
       "      <td>&lt;keras.src.engine.sequential.Sequential object...</td>\n",
       "      <td>0.917431</td>\n",
       "      <td>0.917973</td>\n",
       "      <td>0.982287</td>\n",
       "      <td>0.082569</td>\n",
       "      <td>0.082569</td>\n",
       "    </tr>\n",
       "  </tbody>\n",
       "</table>\n",
       "</div>"
      ],
      "text/plain": [
       "                                               model  accuracy  f1_score  \\\n",
       "0  <keras.src.engine.sequential.Sequential object...  0.917431  0.917973   \n",
       "\n",
       "        QWK       MAE  sp_class_error  \n",
       "0  0.982287  0.082569        0.082569  "
      ]
     },
     "execution_count": 11,
     "metadata": {},
     "output_type": "execute_result"
    }
   ],
   "source": [
    "cnn_metrics"
   ]
  },
  {
   "cell_type": "code",
   "execution_count": 17,
   "id": "a270ed3f",
   "metadata": {},
   "outputs": [
    {
     "data": {
      "image/png": "[encoded data removed]",
      "text/plain": [
       "<Figure size 640x480 with 1 Axes>"
      ]
     },
     "metadata": {},
     "output_type": "display_data"
    }
   ],
   "source": [
    "plot_confusion_matrix(np.argmax(y_test, axis=1), y_preds_test_cnn, 'CNN (Tuned model)')"
   ]
  },
  {
   "cell_type": "code",
   "execution_count": 18,
   "id": "211577d2",
   "metadata": {},
   "outputs": [],
   "source": [
    "#saving model in CNN directory to remove necessity to retrain model\n",
    "#model.save('saved_models/CNNModel_1.h5')"
   ]
  },
  {
   "cell_type": "markdown",
   "id": "64501c39",
   "metadata": {},
   "source": [
    "# 2.1 Weight Balancing"
   ]
  },
  {
   "cell_type": "code",
   "execution_count": 92,
   "id": "aa10211b",
   "metadata": {},
   "outputs": [],
   "source": [
    "#creating weights for each class so that they are \"balanced\" (the smaller a class is the larger the weight)\n",
    "class_weights = class_weight.compute_class_weight('balanced',\n",
    "                                                   classes = np.unique(np.argmax(y_train,axis=1)),\n",
    "                                                   y = np.argmax(y_train,axis=1))"
   ]
  },
  {
   "cell_type": "code",
   "execution_count": 93,
   "id": "ee4ff2a9",
   "metadata": {},
   "outputs": [
    {
     "data": {
      "text/plain": [
       "{0: 8.304761904761905,\n",
       " 1: 1.3394777265745008,\n",
       " 2: 0.9656699889258029,\n",
       " 3: 0.8445520581113801,\n",
       " 4: 0.586218487394958,\n",
       " 5: 0.5960355434039645,\n",
       " 6: 1.8874458874458875}"
      ]
     },
     "execution_count": 93,
     "metadata": {},
     "output_type": "execute_result"
    }
   ],
   "source": [
    "class_weight_dict = dict(enumerate(class_weights))\n",
    "class_weight_dict"
   ]
  },
  {
   "cell_type": "code",
   "execution_count": 94,
   "id": "75153263",
   "metadata": {},
   "outputs": [
    {
     "data": {
      "text/plain": [
       "((1744, 3508, 1), (1744, 7), (436, 3508, 1), (436, 7))"
      ]
     },
     "execution_count": 94,
     "metadata": {},
     "output_type": "execute_result"
    }
   ],
   "source": [
    "X_train.shape, y_train.shape, X_test.shape, y_test.shape"
   ]
  },
  {
   "cell_type": "code",
   "execution_count": 95,
   "id": "18ff2792",
   "metadata": {},
   "outputs": [],
   "source": [
    "model = models.Sequential()\n",
    "model.add(Conv1D(32, kernel_size=3, strides=1, padding='valid', activation='tanh', input_shape=(X_test.shape[1], 1)))\n",
    "model.add(layers.Conv1D(64,  kernel_size=5, strides=2, activation='relu'))\n",
    "model.add(MaxPooling1D(pool_size=2))\n",
    "\n",
    "#Flatten output of conv\n",
    "model.add(layers.Flatten())\n",
    "\n",
    "# Fully connected Network as classifier\n",
    "# Hidden layer with tunable number of units\n",
    "model.add(Dense(128, activation='relu'))\n",
    "\n",
    "# Output layer\n",
    "model.add(layers.Dense(y_train.shape[1], activation='softmax'))\n",
    "\n",
    "model.compile(loss='categorical_crossentropy', metrics=['accuracy'], optimizer='adam')\n",
    "\n",
    "#setting early stopping to halt epochs if model has reached max accuracy\n",
    "early_stopping_cb = keras.callbacks.EarlyStopping(patience=10,\n",
    "                                                  restore_best_weights=True)\n",
    "\n",
    "model_history = model.fit(X_train, y_train, batch_size=32, epochs=100, verbose=0,\n",
    "                      validation_data=(X_test, y_test), callbacks=[early_stopping_cb],\n",
    "                      class_weight=class_weight_dict)"
   ]
  },
  {
   "cell_type": "code",
   "execution_count": 96,
   "id": "e7ae42f0",
   "metadata": {},
   "outputs": [
    {
     "name": "stdout",
     "output_type": "stream",
     "text": [
      "55/55 [==============================] - 1s 19ms/step\n",
      "14/14 [==============================] - 0s 19ms/step\n"
     ]
    }
   ],
   "source": [
    "cnn_cl_weights_metrics, y_preds_test_cnn, y_preds_train_cnn = get_metrics(model, X_train, X_test,\n",
    "                                                                          y_train, y_test)"
   ]
  },
  {
   "cell_type": "code",
   "execution_count": 97,
   "id": "840a5605",
   "metadata": {},
   "outputs": [
    {
     "data": {
      "image/png": "[encoded data removed]",
      "text/plain": [
       "<Figure size 640x480 with 1 Axes>"
      ]
     },
     "metadata": {},
     "output_type": "display_data"
    }
   ],
   "source": [
    "plot_confusion_matrix(np.argmax(y_test, axis=1), y_preds_test_cnn, 'CNN (class weights)')"
   ]
  },
  {
   "cell_type": "markdown",
   "id": "dddcf1bd",
   "metadata": {},
   "source": [
    "## 2.2 Using Balanced Dataset"
   ]
  },
  {
   "cell_type": "code",
   "execution_count": 13,
   "id": "a8d04a72",
   "metadata": {},
   "outputs": [],
   "source": [
    "##load in cleaned and processed balanced data\n",
    "balanced_df = pd.read_csv('../data/derived_tables/X_y_data/main_bal.csv', index_col=0)"
   ]
  },
  {
   "cell_type": "code",
   "execution_count": 14,
   "id": "f4b54487",
   "metadata": {},
   "outputs": [],
   "source": [
    "#splitting into independent/input (X) and dependent/target (Y) variables\n",
    "X_bal = balanced_df.loc[:, balanced_df.columns != 'main_class']\n",
    "y_bal = balanced_df.loc[:, 'main_class']"
   ]
  },
  {
   "cell_type": "code",
   "execution_count": 15,
   "id": "5bbf6351",
   "metadata": {},
   "outputs": [],
   "source": [
    "y_bal = y_bal.values\n",
    "X_bal = X_bal.values\n",
    "\n",
    "#one hot encoding y variable\n",
    "y_bal = np.array(y_bal)\n",
    "y_bal = to_categorical(y_bal)"
   ]
  },
  {
   "cell_type": "code",
   "execution_count": 16,
   "id": "2c4ca802",
   "metadata": {},
   "outputs": [],
   "source": [
    "#splitting the data into training and testing (80% used for training, 20% for testing)\n",
    "X_train_bal, X_test_bal, y_train_bal, y_test_bal =  train_test_split(X_bal, y_bal, \n",
    "                                                                    test_size = 0.2,\n",
    "                                                                    random_state = 1)\n",
    "#reshaping X variables\n",
    "X_train_bal = X_train_bal.reshape((X_train_bal.shape[0], X_train_bal.shape[1], 1))\n",
    "X_test_bal = X_test_bal.reshape((X_test_bal.shape[0], X_test_bal.shape[1], 1))  "
   ]
  },
  {
   "cell_type": "code",
   "execution_count": 17,
   "id": "ae1017e2",
   "metadata": {},
   "outputs": [
    {
     "data": {
      "text/plain": [
       "((1736, 3508, 1), (434, 3508, 1), (1736, 7), (434, 7))"
      ]
     },
     "execution_count": 17,
     "metadata": {},
     "output_type": "execute_result"
    }
   ],
   "source": [
    "#looking at shapes\n",
    "X_train_bal.shape, X_test_bal.shape, y_train_bal.shape, y_test_bal.shape"
   ]
  },
  {
   "cell_type": "markdown",
   "id": "b2f8a10e",
   "metadata": {},
   "source": [
    "**NOTE**: the notebook *CNN_Tuning.ipynb* Section 1 using google colab was used to tune the CNN architecture and hyperparameters resulting in the below model:\n",
    "\n",
    "Therefore best model for CNN main class classification is:\n",
    "- layer 1: filters = 32, kernel = 3, strides = 1, activation = relu\n",
    "- maxpooling size = 2\n",
    "- layer 2: filters = 64, kernel = 5, strides = 2, activation = relu\n",
    "- maxpooling size = 2\n",
    "- 3 Dense layer = 128 neurons, 64 neurons, 64 neurons\n",
    "- optimizer = Adam\n",
    "- learning rate = 0.001 (default)\n",
    "- batch size = 32\n"
   ]
  },
  {
   "cell_type": "code",
   "execution_count": 18,
   "id": "5df45d89",
   "metadata": {},
   "outputs": [],
   "source": [
    "def run_cnn_bal(X_train, X_test, y_train, y_test):\n",
    "    model = models.Sequential()\n",
    "    model.add(Conv1D(32, kernel_size=3, strides=1, padding='valid', activation='relu', input_shape=(X_test.shape[1], 1)))\n",
    "    model.add(MaxPooling1D(pool_size=2))\n",
    "    model.add(layers.Conv1D(64,  kernel_size=5, strides=2, activation='relu'))\n",
    "    model.add(MaxPooling1D(pool_size=2))\n",
    "\n",
    "    #Flatten output of conv\n",
    "    model.add(layers.Flatten())\n",
    "\n",
    "    # Fully connected Network as classifier\n",
    "    # Hidden layer with tunable number of units\n",
    "    model.add(Dense(128, activation='relu'))\n",
    "    model.add(Dense(64, activation='relu'))\n",
    "    model.add(Dense(64, activation='relu'))\n",
    "\n",
    "    # Output layer\n",
    "    model.add(layers.Dense(y_train.shape[1], activation='softmax'))\n",
    "\n",
    "    model.compile(loss='categorical_crossentropy', metrics=['accuracy'], optimizer='adam')\n",
    "\n",
    "    #setting early stopping to halt epochs if model has reached max accuracy\n",
    "    early_stopping_cb = keras.callbacks.EarlyStopping(patience=10,\n",
    "                                                      restore_best_weights=True)\n",
    "\n",
    "    model_history = model.fit(X_train, y_train, batch_size=32, epochs=100, verbose=0,\n",
    "                              validation_data=(X_test, y_test), callbacks=[early_stopping_cb])\n",
    "    return model, model_history"
   ]
  },
  {
   "cell_type": "code",
   "execution_count": 20,
   "id": "ec192734",
   "metadata": {},
   "outputs": [],
   "source": [
    "#running model with balanced data\n",
    "cnn_model_main_bal, model_history = run_cnn_bal(X_train_bal, X_test_bal, y_train_bal, y_test_bal)"
   ]
  },
  {
   "cell_type": "code",
   "execution_count": 22,
   "id": "0dbd7c5e",
   "metadata": {},
   "outputs": [
    {
     "name": "stdout",
     "output_type": "stream",
     "text": [
      "55/55 [==============================] - 2s 30ms/step\n",
      "14/14 [==============================] - 0s 33ms/step\n"
     ]
    }
   ],
   "source": [
    "cnn_bal_metrics, y_preds_test_cnn, y_preds_train_cnn = get_metrics(cnn_model_main_bal,\n",
    "                                                  X_train_bal, X_test, y_train_bal, y_test)"
   ]
  },
  {
   "cell_type": "code",
   "execution_count": 13,
   "id": "fa949fa4",
   "metadata": {},
   "outputs": [
    {
     "data": {
      "text/html": [
       "<div>\n",
       "<style scoped>\n",
       "    .dataframe tbody tr th:only-of-type {\n",
       "        vertical-align: middle;\n",
       "    }\n",
       "\n",
       "    .dataframe tbody tr th {\n",
       "        vertical-align: top;\n",
       "    }\n",
       "\n",
       "    .dataframe thead th {\n",
       "        text-align: right;\n",
       "    }\n",
       "</style>\n",
       "<table border=\"1\" class=\"dataframe\">\n",
       "  <thead>\n",
       "    <tr style=\"text-align: right;\">\n",
       "      <th></th>\n",
       "      <th>model</th>\n",
       "      <th>accuracy</th>\n",
       "      <th>f1_score</th>\n",
       "      <th>QWK</th>\n",
       "      <th>MAE</th>\n",
       "      <th>sp_class_error</th>\n",
       "    </tr>\n",
       "  </thead>\n",
       "  <tbody>\n",
       "    <tr>\n",
       "      <th>0</th>\n",
       "      <td>&lt;keras.src.engine.sequential.Sequential object...</td>\n",
       "      <td>0.93578</td>\n",
       "      <td>0.937238</td>\n",
       "      <td>0.986294</td>\n",
       "      <td>0.06422</td>\n",
       "      <td>0.06422</td>\n",
       "    </tr>\n",
       "  </tbody>\n",
       "</table>\n",
       "</div>"
      ],
      "text/plain": [
       "                                               model  accuracy  f1_score  \\\n",
       "0  <keras.src.engine.sequential.Sequential object...   0.93578  0.937238   \n",
       "\n",
       "        QWK      MAE  sp_class_error  \n",
       "0  0.986294  0.06422         0.06422  "
      ]
     },
     "execution_count": 13,
     "metadata": {},
     "output_type": "execute_result"
    }
   ],
   "source": [
    "cnn_bal_metrics"
   ]
  },
  {
   "cell_type": "code",
   "execution_count": 24,
   "id": "c82b6fe9",
   "metadata": {},
   "outputs": [
    {
     "data": {
      "image/png": "[encoded data removed]",
      "text/plain": [
       "<Figure size 640x480 with 1 Axes>"
      ]
     },
     "metadata": {},
     "output_type": "display_data"
    }
   ],
   "source": [
    "plot_confusion_matrix(np.argmax(y_test, axis=1), y_preds_test_cnn, 'CNN (Balanced)')"
   ]
  },
  {
   "cell_type": "code",
   "execution_count": 40,
   "id": "abf6fbf7",
   "metadata": {},
   "outputs": [
    {
     "data": {
      "text/plain": [
       "48"
      ]
     },
     "execution_count": 40,
     "metadata": {},
     "output_type": "execute_result"
    }
   ],
   "source": [
    "len(model_history.history['accuracy'])"
   ]
  },
  {
   "cell_type": "code",
   "execution_count": 39,
   "id": "74a31e9d",
   "metadata": {},
   "outputs": [
    {
     "data": {
      "image/png": "[encoded data removed]",
      "text/plain": [
       "<Figure size 1200x600 with 1 Axes>"
      ]
     },
     "metadata": {},
     "output_type": "display_data"
    }
   ],
   "source": [
    "#plotting the loss/accuracies\n",
    "plt.figure(figsize=(12,6))\n",
    "plt.plot(model_history.history['val_accuracy'], label='test accuracy')\n",
    "plt.plot(model_history.history['val_loss'], label='test loss')\n",
    "plt.plot(model_history.history['accuracy'], label='train accuracy')\n",
    "plt.plot(model_history.history['loss'], label='train loss')\n",
    "plt.grid(True, alpha=0.3)\n",
    "plt.xlabel('Epochs')\n",
    "plt.title('Learning Curve for CNN Classifier (Balanced) on Main Class')\n",
    "plt.legend()\n",
    "plt.ylim(0,1)\n",
    "plt.xlim(0,50)\n",
    "plt.show()"
   ]
  },
  {
   "cell_type": "code",
   "execution_count": null,
   "id": "31cd1dbb",
   "metadata": {},
   "outputs": [],
   "source": []
  },
  {
   "cell_type": "markdown",
   "id": "8484ade3",
   "metadata": {},
   "source": [
    "# 3. running stratified K-fold cross validation for NN model comparisons"
   ]
  },
  {
   "cell_type": "code",
   "execution_count": 161,
   "id": "6f71b6f3",
   "metadata": {},
   "outputs": [],
   "source": [
    "def get_cross_val_score(model_name, X, y):\n",
    "    s_kfold = StratifiedKFold(n_splits=5, shuffle=True, random_state=1)\n",
    "    f1, accuracy, qwk, mae, average_error = [], [], [], [], []\n",
    "    \n",
    "    #creating the train/test split\n",
    "    for train_index, test_index in s_kfold.split(X, np.argmax(y,axis=1)):\n",
    "\n",
    "        \n",
    "        #splitting X and y\n",
    "        X_train, X_test, y_train, y_test  = X[train_index], X[test_index], y[train_index], y[test_index]\n",
    "        #changin X_train/X_test based on models\n",
    "        if model_name[:3]=='cnn':\n",
    "            #reshaping X variables to be compatible with CNNs\n",
    "            X_train = X_train.reshape((X_train.shape[0], X_train.shape[1], 1))\n",
    "            X_test = X_test.reshape((X_test.shape[0], X_test.shape[1], 1))\n",
    "            \n",
    "        #initialising models\n",
    "        if model_name == 'cnn':\n",
    "            model, model_history = run_cnn(X_train, X_test, y_train, y_test) \n",
    "        elif model_name == 'cnn_bal':\n",
    "            model, model_history = run_cnn_bal(X_train, X_test, y_train, y_test)\n",
    "        elif model_name == 'mlp':\n",
    "            model, model_history = run_mlp(X_train, X_test, y_train, y_test) \n",
    "        elif model_name == 'mlp_bal':   \n",
    "            model, model_history = run_mlp_bal(X_train, X_test, y_train, y_test) \n",
    "        elif model_name == 'mlp_pca':   \n",
    "            model, model_history = run_mlp(X_train, X_test, y_train, y_test)  \n",
    "        elif model_name == 'mlp_bal_pca':   \n",
    "            model, model_history = run_mlp(X_train, X_test, y_train, y_test)  \n",
    "                   \n",
    "        #making predictions from the model on the train and test data\n",
    "        y_preds_train = model.predict(X_train)\n",
    "        y_preds_test = model.predict(X_test)\n",
    "\n",
    "        #need to convert prediction probabilities to predicted classes\n",
    "        y_preds_train = np.argmax(y_preds_train, axis=1)\n",
    "        y_preds_test = np.argmax(y_preds_test, axis=1)\n",
    "\n",
    "        # Convert one-hot encoded variables back to categorical labels\n",
    "        y_train = np.argmax(y_train, axis=1)\n",
    "        y_test = np.argmax(y_test, axis=1)\n",
    "    \n",
    "        #calculating metrics\n",
    "            # F1-score\n",
    "        f1.append(metrics.f1_score(y_test, y_preds_test, average='weighted'))\n",
    "        #accuracy\n",
    "        accuracy.append(metrics.accuracy_score(y_test, y_preds_test))\n",
    "        #quadratic weighted kappa\n",
    "        qwk.append(metrics.cohen_kappa_score(y_test, y_preds_test, weights='quadratic'))\n",
    "        #mean absolute error\n",
    "        mae.append(metrics.mean_absolute_error(y_test, y_preds_test))\n",
    "        #getting the class error for test set\n",
    "        average_error.append(np.mean(abs(y_test - y_preds_test)))\n",
    "        \n",
    "    \n",
    "    model_metrics = pd.DataFrame({'model':[model_name], \n",
    "                                  'accuracy':[np.mean(accuracy)], \n",
    "                                  'f1_score':[np.mean(f1)],\n",
    "                                  'QWK':[np.mean(qwk)], \n",
    "                                  'MAE':[np.mean(mae)],\n",
    "                                  'sp_class_error':[np.mean(average_error)]})\n",
    "    return model_metrics"
   ]
  },
  {
   "cell_type": "code",
   "execution_count": 170,
   "id": "8a70c748",
   "metadata": {},
   "outputs": [
    {
     "name": "stdout",
     "output_type": "stream",
     "text": [
      "46/46 [==============================] - 0s 1ms/step\n",
      "23/23 [==============================] - 0s 1ms/step\n",
      "46/46 [==============================] - 0s 1ms/step\n",
      "23/23 [==============================] - 0s 1ms/step\n",
      "46/46 [==============================] - 0s 1ms/step\n",
      "23/23 [==============================] - 0s 2ms/step\n",
      "46/46 [==============================] - 0s 818us/step\n",
      "23/23 [==============================] - 0s 927us/step\n",
      "46/46 [==============================] - 0s 870us/step\n",
      "23/23 [==============================] - 0s 744us/step\n",
      "46/46 [==============================] - 0s 725us/step\n",
      "23/23 [==============================] - 0s 846us/step\n",
      "46/46 [==============================] - 0s 1ms/step\n",
      "23/23 [==============================] - 0s 706us/step\n",
      "46/46 [==============================] - 0s 1ms/step\n",
      "23/23 [==============================] - 0s 1ms/step\n",
      "46/46 [==============================] - 0s 1ms/step\n",
      "23/23 [==============================] - 0s 1ms/step\n"
     ]
    }
   ],
   "source": [
    "#running for all mlp models\n",
    "mlp_df = get_cross_val_score('mlp', X, y)\n",
    "mlp_pca_df = get_cross_val_score('mlp_pca', X_pca, y)\n",
    "mlp_bal_df = get_cross_val_score('mlp_bal', X_bal, y_bal)\n",
    "mlp_bal_pca_df = get_cross_val_score('mlp_bal_pca', X_bal_pca, y_bal)"
   ]
  },
  {
   "cell_type": "code",
   "execution_count": 173,
   "id": "b242bfc8",
   "metadata": {},
   "outputs": [
    {
     "name": "stdout",
     "output_type": "stream",
     "text": [
      "46/46 [==============================] - 1s 21ms/step\n",
      "23/23 [==============================] - 0s 20ms/step\n",
      "46/46 [==============================] - 1s 19ms/step\n",
      "23/23 [==============================] - 0s 20ms/step\n",
      "46/46 [==============================] - 3s 55ms/step\n",
      "23/23 [==============================] - 1s 52ms/step\n",
      "46/46 [==============================] - 3s 47ms/step\n",
      "23/23 [==============================] - 1s 35ms/step\n",
      "46/46 [==============================] - 2s 36ms/step\n",
      "23/23 [==============================] - 1s 45ms/step\n",
      "46/46 [==============================] - 2s 42ms/step\n",
      "23/23 [==============================] - 1s 42ms/step\n"
     ]
    }
   ],
   "source": [
    "#running for all cnn models\n",
    "cnn_df = get_cross_val_score('cnn', X, y)\n",
    "cnn_bal_df = get_cross_val_score('cnn_bal', X_bal, y_bal)"
   ]
  },
  {
   "cell_type": "code",
   "execution_count": 120,
   "id": "5a2c1e4d",
   "metadata": {},
   "outputs": [],
   "source": [
    "nn_comparison_df = pd.concat([mlp_df, mlp_pca_df, mlp_bal_df, mlp_bal_pca_df,\n",
    "                              cnn_df, cnn_bal_df])\n",
    "nn_comparison_df = ml_comparison_df.reset_index().drop(columns=['index'])"
   ]
  },
  {
   "cell_type": "code",
   "execution_count": 119,
   "id": "a930e41f",
   "metadata": {},
   "outputs": [
    {
     "data": {
      "text/html": [
       "<div>\n",
       "<style scoped>\n",
       "    .dataframe tbody tr th:only-of-type {\n",
       "        vertical-align: middle;\n",
       "    }\n",
       "\n",
       "    .dataframe tbody tr th {\n",
       "        vertical-align: top;\n",
       "    }\n",
       "\n",
       "    .dataframe thead th {\n",
       "        text-align: right;\n",
       "    }\n",
       "</style>\n",
       "<table border=\"1\" class=\"dataframe\">\n",
       "  <thead>\n",
       "    <tr style=\"text-align: right;\">\n",
       "      <th></th>\n",
       "      <th>model</th>\n",
       "      <th>accuracy</th>\n",
       "      <th>f1_score</th>\n",
       "      <th>QWK</th>\n",
       "      <th>MAE</th>\n",
       "      <th>sp_class_error</th>\n",
       "    </tr>\n",
       "  </thead>\n",
       "  <tbody>\n",
       "    <tr>\n",
       "      <th>0</th>\n",
       "      <td>mlp</td>\n",
       "      <td>0.847241</td>\n",
       "      <td>0.860171</td>\n",
       "      <td>0.965598</td>\n",
       "      <td>0.155511</td>\n",
       "      <td>0.155511</td>\n",
       "    </tr>\n",
       "    <tr>\n",
       "      <th>1</th>\n",
       "      <td>mlp_pca</td>\n",
       "      <td>0.892365</td>\n",
       "      <td>0.901315</td>\n",
       "      <td>0.976213</td>\n",
       "      <td>0.102743</td>\n",
       "      <td>0.102743</td>\n",
       "    </tr>\n",
       "    <tr>\n",
       "      <th>2</th>\n",
       "      <td>mlp_bal</td>\n",
       "      <td>0.845159</td>\n",
       "      <td>0.850035</td>\n",
       "      <td>0.979773</td>\n",
       "      <td>0.158067</td>\n",
       "      <td>0.158067</td>\n",
       "    </tr>\n",
       "    <tr>\n",
       "      <th>3</th>\n",
       "      <td>mlp_bal_pca</td>\n",
       "      <td>0.899009</td>\n",
       "      <td>0.904673</td>\n",
       "      <td>0.978323</td>\n",
       "      <td>0.101443</td>\n",
       "      <td>0.101443</td>\n",
       "    </tr>\n",
       "    <tr>\n",
       "      <th>4</th>\n",
       "      <td>cnn</td>\n",
       "      <td>0.912667</td>\n",
       "      <td>0.913977</td>\n",
       "      <td>0.978132</td>\n",
       "      <td>0.094626</td>\n",
       "      <td>0.094626</td>\n",
       "    </tr>\n",
       "    <tr>\n",
       "      <th>5</th>\n",
       "      <td>cnn_bal</td>\n",
       "      <td>0.938569</td>\n",
       "      <td>0.938362</td>\n",
       "      <td>0.989441</td>\n",
       "      <td>0.072735</td>\n",
       "      <td>0.072735</td>\n",
       "    </tr>\n",
       "  </tbody>\n",
       "</table>\n",
       "</div>"
      ],
      "text/plain": [
       "         model  accuracy  f1_score       QWK       MAE  sp_class_error\n",
       "0          mlp  0.847241  0.860171  0.965598  0.155511        0.155511\n",
       "1      mlp_pca  0.892365  0.901315  0.976213  0.102743        0.102743\n",
       "2      mlp_bal  0.845159  0.850035  0.979773  0.158067        0.158067\n",
       "3  mlp_bal_pca  0.899009  0.904673  0.978323  0.101443        0.101443\n",
       "4          cnn  0.912667  0.913977  0.978132  0.094626        0.094626\n",
       "5      cnn_bal  0.938569  0.938362  0.989441  0.072735        0.072735"
      ]
     },
     "execution_count": 119,
     "metadata": {},
     "output_type": "execute_result"
    }
   ],
   "source": [
    "nn_comparison_df"
   ]
  },
  {
   "cell_type": "code",
   "execution_count": 121,
   "id": "2b050b1b",
   "metadata": {},
   "outputs": [],
   "source": [
    "nn_comparison_df.to_csv('../data/derived_tables/model_comparisons/nn_main_class.csv')"
   ]
  },
  {
   "cell_type": "markdown",
   "id": "531453c8",
   "metadata": {},
   "source": [
    "# 4. Saving CNN models:"
   ]
  },
  {
   "cell_type": "code",
   "execution_count": 35,
   "id": "6effb03e",
   "metadata": {},
   "outputs": [],
   "source": [
    "cnn_model_main.save('saved_models/cnn_model_main.h5')\n",
    "cnn_model_main_bal.save('saved_models/cnn_model_main_bal.h5')"
   ]
  }
 ],
 "metadata": {
  "kernelspec": {
   "display_name": "Python 3 (ipykernel)",
   "language": "python",
   "name": "python3"
  },
  "language_info": {
   "codemirror_mode": {
    "name": "ipython",
    "version": 3
   },
   "file_extension": ".py",
   "mimetype": "text/x-python",
   "name": "python",
   "nbconvert_exporter": "python",
   "pygments_lexer": "ipython3",
   "version": "3.11.4"
  }
 },
 "nbformat": 4,
 "nbformat_minor": 5
}
