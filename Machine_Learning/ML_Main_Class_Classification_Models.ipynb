{
 "cells": [
  {
   "cell_type": "markdown",
   "id": "2007c76b",
   "metadata": {},
   "source": [
    "# <U>Notebook Table Of Contents<u>\n",
    "    \n",
    "**1. Loading in the data for models**<br>\n",
    "&nbsp;&nbsp;&nbsp;&nbsp;1.1 Determining Sampling Strategy for train/test split<br>\n",
    "&nbsp;&nbsp;&nbsp;&nbsp;&nbsp;&nbsp;&nbsp;&nbsp;1.1.1 Random Sampling<br>\n",
    "&nbsp;&nbsp;&nbsp;&nbsp;&nbsp;&nbsp;&nbsp;&nbsp;1.1.2 Stratified Sampling<br>\n",
    "**2. Defining some functions to help removing repeated code when evaluating models**<br>\n",
    "**3. Random Forest Models**<br>\n",
    "&nbsp;&nbsp;&nbsp;&nbsp;3.1 Random Forest Multi-Class Classification<br>\n",
    "&nbsp;&nbsp;&nbsp;&nbsp;&nbsp;&nbsp;&nbsp;&nbsp;3.1.2 Hyperparameter tuning - Random Forest<br>\n",
    "&nbsp;&nbsp;&nbsp;&nbsp;3.2 Support Vector Machine<br>\n",
    "&nbsp;&nbsp;&nbsp;&nbsp;&nbsp;&nbsp;&nbsp;&nbsp;3.2.1 Support Vector Machine Classification<br> \n",
    "&nbsp;&nbsp;&nbsp;&nbsp;&nbsp;&nbsp;&nbsp;&nbsp;3.2.2 hyperparameter tuning - SVM<br>\n",
    "**4. Principal Component Analysis**<br>\n",
    "&nbsp;&nbsp;&nbsp;&nbsp;4.1 using 24 principal components from data<br>\n",
    "&nbsp;&nbsp;&nbsp;&nbsp;4.2 Applying PCA reduced training data to Models previously utilised<br>\n",
    "&nbsp;&nbsp;&nbsp;&nbsp;&nbsp;&nbsp;&nbsp;&nbsp;4.2.1 PCA1: Random Forest Classifier<br>\n",
    "&nbsp;&nbsp;&nbsp;&nbsp;&nbsp;&nbsp;&nbsp;&nbsp;4.2.2 PCA2: SVM Classifier<br>\n",
    "**5. Using Balanced Dataset**<br>\n",
    "&nbsp;&nbsp;&nbsp;&nbsp;5.1 SVM Classifier<br>\n",
    "&nbsp;&nbsp;&nbsp;&nbsp;&nbsp;&nbsp;&nbsp;&nbsp;5.1.1 Using balanced class weights to handle class imbalance<br>\n",
    "&nbsp;&nbsp;&nbsp;&nbsp;&nbsp;&nbsp;&nbsp;&nbsp;5.1.2 Balanced Dataset<br>\n",
    "&nbsp;&nbsp;&nbsp;&nbsp;&nbsp;&nbsp;&nbsp;&nbsp;5.1.3 using 24 PCs of balanced dataset<br>\n",
    "&nbsp;&nbsp;&nbsp;&nbsp;5.2 Random Forest Classifier<br>\n",
    "&nbsp;&nbsp;&nbsp;&nbsp;&nbsp;&nbsp;&nbsp;&nbsp;5.2.1 Using balanced class weights to handle class imbalance<br>\n",
    "&nbsp;&nbsp;&nbsp;&nbsp;&nbsp;&nbsp;&nbsp;&nbsp;5.2.2 Balanced dataset<br>\n",
    "&nbsp;&nbsp;&nbsp;&nbsp;&nbsp;&nbsp;&nbsp;&nbsp;5.2.3 using 24 PCs on balanced dataset<br>\n",
    "**6. Model Comparisons**<br>  "
   ]
  },
  {
   "cell_type": "code",
   "execution_count": 2,
   "id": "10a30751",
   "metadata": {},
   "outputs": [],
   "source": [
    "#pip install tqdm"
   ]
  },
  {
   "cell_type": "code",
   "execution_count": 3,
   "id": "00bc5ca9",
   "metadata": {},
   "outputs": [],
   "source": [
    "#pip install scikit-optimize"
   ]
  },
  {
   "cell_type": "code",
   "execution_count": 4,
   "id": "567c27cb",
   "metadata": {},
   "outputs": [],
   "source": [
    "import pandas as pd\n",
    "import numpy as np\n",
    "\n",
    "## plotting modules\n",
    "import seaborn as sns\n",
    "import matplotlib.pyplot as plt \n",
    "%matplotlib inline \n",
    "\n",
    "#Machine Learning\n",
    "from sklearn.metrics import classification_report\n",
    "from sklearn.model_selection import GridSearchCV, RandomizedSearchCV\n",
    "from skopt import BayesSearchCV\n",
    "from sklearn.preprocessing import StandardScaler, MinMaxScaler\n",
    "from sklearn import metrics\n",
    "from sklearn.model_selection import train_test_split\n",
    "from sklearn.ensemble import RandomForestClassifier, RandomForestRegressor\n",
    "from sklearn.preprocessing import LabelEncoder, OneHotEncoder\n",
    "from joblib import dump, load\n",
    "from sklearn.model_selection import cross_val_score,KFold, StratifiedKFold\n",
    "from sklearn.svm import SVC, SVR\n",
    "from scikeras.wrappers import KerasClassifier\n",
    "from sklearn.decomposition import PCA\n",
    "from sklearn.utils import class_weight\n",
    "from sklearn.metrics import roc_auc_score\n",
    "from sklearn.metrics import cohen_kappa_score\n",
    "\n",
    "#importing tensorflow and keras packages\n",
    "from keras.models import Sequential\n",
    "from keras.layers import Dense\n",
    "from tensorflow.keras.layers import Dropout\n",
    "import tensorflow as tf\n",
    "from tensorflow import keras\n",
    "from scikeras.wrappers import KerasRegressor\n",
    "from keras.utils import to_categorical\n",
    "\n",
    "#stats modules\n",
    "from scipy.stats import randint\n",
    "\n",
    "#supressing warnings\n",
    "import warnings\n",
    "warnings.filterwarnings('ignore')"
   ]
  },
  {
   "cell_type": "markdown",
   "id": "224fb4f9",
   "metadata": {},
   "source": [
    "# 1. Loading in the data for models:"
   ]
  },
  {
   "cell_type": "code",
   "execution_count": 5,
   "id": "68cfc5a3",
   "metadata": {},
   "outputs": [],
   "source": [
    "##load in cleaned and processed data\n",
    "main_class_data = pd.read_csv('../data/derived_tables/X_y_data/main_class_data.csv', index_col=0)"
   ]
  },
  {
   "cell_type": "code",
   "execution_count": 6,
   "id": "b71e4de3",
   "metadata": {},
   "outputs": [],
   "source": [
    "#splitting into independent/input (X) and dependent/target (Y) variables\n",
    "X = main_class_data.loc[:, main_class_data.columns != 'main_class']\n",
    "y = main_class_data.loc[:, 'main_class']"
   ]
  },
  {
   "cell_type": "code",
   "execution_count": 7,
   "id": "210b5679",
   "metadata": {},
   "outputs": [],
   "source": [
    "#loading in the wavelength values and setting to list for plotting purposes\n",
    "wavelengths = pd.read_csv('../data/derived_tables/wavelengths.csv', index_col=0)\n",
    "wavelengths = list(wavelengths['wavelength'])"
   ]
  },
  {
   "cell_type": "markdown",
   "id": "f118e400",
   "metadata": {},
   "source": [
    "## 1.1 Determining Sampling Strategy for train/test split"
   ]
  },
  {
   "cell_type": "markdown",
   "id": "eee1c9ee",
   "metadata": {},
   "source": [
    "#### 1.1.1 Random Sampling: "
   ]
  },
  {
   "cell_type": "code",
   "execution_count": 8,
   "id": "6929941f",
   "metadata": {},
   "outputs": [],
   "source": [
    "#splitting the data into training and testing (80% used for training, 20% for testing)\n",
    "X_train, X_test, y_train, y_test = train_test_split(X, y, \n",
    "                                                    test_size = 0.2, \n",
    "                                                    random_state = 1, \n",
    "                                                    shuffle = True)"
   ]
  },
  {
   "cell_type": "code",
   "execution_count": 9,
   "id": "58b6085f",
   "metadata": {},
   "outputs": [
    {
     "data": {
      "text/html": [
       "<div>\n",
       "<style scoped>\n",
       "    .dataframe tbody tr th:only-of-type {\n",
       "        vertical-align: middle;\n",
       "    }\n",
       "\n",
       "    .dataframe tbody tr th {\n",
       "        vertical-align: top;\n",
       "    }\n",
       "\n",
       "    .dataframe thead th {\n",
       "        text-align: right;\n",
       "    }\n",
       "</style>\n",
       "<table border=\"1\" class=\"dataframe\">\n",
       "  <thead>\n",
       "    <tr style=\"text-align: right;\">\n",
       "      <th></th>\n",
       "      <th>main_class</th>\n",
       "      <th>proportion (%)</th>\n",
       "      <th>orig_class_dist</th>\n",
       "      <th>orig_class_prop (%)</th>\n",
       "    </tr>\n",
       "  </thead>\n",
       "  <tbody>\n",
       "    <tr>\n",
       "      <th>4</th>\n",
       "      <td>422</td>\n",
       "      <td>24.197248</td>\n",
       "      <td>531</td>\n",
       "      <td>24.357798</td>\n",
       "    </tr>\n",
       "    <tr>\n",
       "      <th>5</th>\n",
       "      <td>418</td>\n",
       "      <td>23.967890</td>\n",
       "      <td>523</td>\n",
       "      <td>23.990826</td>\n",
       "    </tr>\n",
       "    <tr>\n",
       "      <th>3</th>\n",
       "      <td>292</td>\n",
       "      <td>16.743119</td>\n",
       "      <td>369</td>\n",
       "      <td>16.926606</td>\n",
       "    </tr>\n",
       "    <tr>\n",
       "      <th>2</th>\n",
       "      <td>255</td>\n",
       "      <td>14.621560</td>\n",
       "      <td>322</td>\n",
       "      <td>14.770642</td>\n",
       "    </tr>\n",
       "    <tr>\n",
       "      <th>1</th>\n",
       "      <td>190</td>\n",
       "      <td>10.894495</td>\n",
       "      <td>232</td>\n",
       "      <td>10.642202</td>\n",
       "    </tr>\n",
       "    <tr>\n",
       "      <th>6</th>\n",
       "      <td>134</td>\n",
       "      <td>7.683486</td>\n",
       "      <td>165</td>\n",
       "      <td>7.568807</td>\n",
       "    </tr>\n",
       "    <tr>\n",
       "      <th>0</th>\n",
       "      <td>33</td>\n",
       "      <td>1.892202</td>\n",
       "      <td>38</td>\n",
       "      <td>1.743119</td>\n",
       "    </tr>\n",
       "  </tbody>\n",
       "</table>\n",
       "</div>"
      ],
      "text/plain": [
       "   main_class  proportion (%)  orig_class_dist  orig_class_prop (%)\n",
       "4         422       24.197248              531            24.357798\n",
       "5         418       23.967890              523            23.990826\n",
       "3         292       16.743119              369            16.926606\n",
       "2         255       14.621560              322            14.770642\n",
       "1         190       10.894495              232            10.642202\n",
       "6         134        7.683486              165             7.568807\n",
       "0          33        1.892202               38             1.743119"
      ]
     },
     "execution_count": 9,
     "metadata": {},
     "output_type": "execute_result"
    }
   ],
   "source": [
    "#checking the proportion of samples from each class after data is sampled for training\n",
    "class_dist = pd.DataFrame({'orig_class_dist':y.value_counts(), \n",
    "                           'orig_class_prop (%)':((y.value_counts())/(len(y)))*100})\n",
    "\n",
    "#getting the distribution of the main classes\n",
    "training_dist = pd.DataFrame(y_train.value_counts())\n",
    "training_dist['proportion (%)'] = (training_dist/len(y_train))*100\n",
    "training_samples = training_dist.merge(class_dist,left_index=True, right_index=True)\n",
    "training_samples"
   ]
  },
  {
   "cell_type": "markdown",
   "id": "f3c46470",
   "metadata": {},
   "source": [
    "#### 1.1.2 Stratified Sampling:"
   ]
  },
  {
   "cell_type": "code",
   "execution_count": 10,
   "id": "8881a426",
   "metadata": {},
   "outputs": [],
   "source": [
    "#splitting the data into training and testing (80% used for training, 20% for testing)\n",
    "X_train, X_test, y_train, y_test = train_test_split(X, y, \n",
    "                                                    test_size = 0.2, \n",
    "                                                    random_state = 1, \n",
    "                                                    shuffle = True, \n",
    "                                                    stratify = y)"
   ]
  },
  {
   "cell_type": "code",
   "execution_count": 11,
   "id": "ea94a1c7",
   "metadata": {},
   "outputs": [
    {
     "data": {
      "text/html": [
       "<div>\n",
       "<style scoped>\n",
       "    .dataframe tbody tr th:only-of-type {\n",
       "        vertical-align: middle;\n",
       "    }\n",
       "\n",
       "    .dataframe tbody tr th {\n",
       "        vertical-align: top;\n",
       "    }\n",
       "\n",
       "    .dataframe thead th {\n",
       "        text-align: right;\n",
       "    }\n",
       "</style>\n",
       "<table border=\"1\" class=\"dataframe\">\n",
       "  <thead>\n",
       "    <tr style=\"text-align: right;\">\n",
       "      <th></th>\n",
       "      <th>main_class</th>\n",
       "      <th>proportion (%)</th>\n",
       "      <th>orig_class_dist</th>\n",
       "      <th>orig_class_prop (%)</th>\n",
       "    </tr>\n",
       "  </thead>\n",
       "  <tbody>\n",
       "    <tr>\n",
       "      <th>4</th>\n",
       "      <td>425</td>\n",
       "      <td>24.369266</td>\n",
       "      <td>531</td>\n",
       "      <td>24.357798</td>\n",
       "    </tr>\n",
       "    <tr>\n",
       "      <th>5</th>\n",
       "      <td>418</td>\n",
       "      <td>23.967890</td>\n",
       "      <td>523</td>\n",
       "      <td>23.990826</td>\n",
       "    </tr>\n",
       "    <tr>\n",
       "      <th>3</th>\n",
       "      <td>295</td>\n",
       "      <td>16.915138</td>\n",
       "      <td>369</td>\n",
       "      <td>16.926606</td>\n",
       "    </tr>\n",
       "    <tr>\n",
       "      <th>2</th>\n",
       "      <td>258</td>\n",
       "      <td>14.793578</td>\n",
       "      <td>322</td>\n",
       "      <td>14.770642</td>\n",
       "    </tr>\n",
       "    <tr>\n",
       "      <th>1</th>\n",
       "      <td>186</td>\n",
       "      <td>10.665138</td>\n",
       "      <td>232</td>\n",
       "      <td>10.642202</td>\n",
       "    </tr>\n",
       "    <tr>\n",
       "      <th>6</th>\n",
       "      <td>132</td>\n",
       "      <td>7.568807</td>\n",
       "      <td>165</td>\n",
       "      <td>7.568807</td>\n",
       "    </tr>\n",
       "    <tr>\n",
       "      <th>0</th>\n",
       "      <td>30</td>\n",
       "      <td>1.720183</td>\n",
       "      <td>38</td>\n",
       "      <td>1.743119</td>\n",
       "    </tr>\n",
       "  </tbody>\n",
       "</table>\n",
       "</div>"
      ],
      "text/plain": [
       "   main_class  proportion (%)  orig_class_dist  orig_class_prop (%)\n",
       "4         425       24.369266              531            24.357798\n",
       "5         418       23.967890              523            23.990826\n",
       "3         295       16.915138              369            16.926606\n",
       "2         258       14.793578              322            14.770642\n",
       "1         186       10.665138              232            10.642202\n",
       "6         132        7.568807              165             7.568807\n",
       "0          30        1.720183               38             1.743119"
      ]
     },
     "execution_count": 11,
     "metadata": {},
     "output_type": "execute_result"
    }
   ],
   "source": [
    "#checking the proportion of samples from each class after data is sampled for training\n",
    "class_dist = pd.DataFrame({'orig_class_dist':y.value_counts(), \n",
    "                           'orig_class_prop (%)':((y.value_counts())/(len(y)))*100})\n",
    "\n",
    "#getting the distribution of the main classes\n",
    "training_dist = pd.DataFrame(y_train.value_counts())\n",
    "training_dist['proportion (%)'] = (training_dist/len(y_train))*100\n",
    "training_samples = training_dist.merge(class_dist,left_index=True, right_index=True)\n",
    "training_samples"
   ]
  },
  {
   "cell_type": "markdown",
   "id": "67e3845f",
   "metadata": {},
   "source": [
    "##### Sticking to stratified random sampling for training the models as it is the best at representing the original dataset"
   ]
  },
  {
   "cell_type": "code",
   "execution_count": 12,
   "id": "09dcce33",
   "metadata": {},
   "outputs": [],
   "source": [
    "#changing shape of y to (n_samples, ) \n",
    "#y = y.main_class.values"
   ]
  },
  {
   "cell_type": "code",
   "execution_count": 13,
   "id": "267ef7eb",
   "metadata": {},
   "outputs": [
    {
     "data": {
      "text/plain": [
       "{0, 1, 2, 3, 4, 5, 6}"
      ]
     },
     "execution_count": 13,
     "metadata": {},
     "output_type": "execute_result"
    }
   ],
   "source": [
    "class_order = set(y)\n",
    "class_order"
   ]
  },
  {
   "cell_type": "code",
   "execution_count": 14,
   "id": "042b44f2",
   "metadata": {},
   "outputs": [
    {
     "data": {
      "text/plain": [
       "((1744, 3508), (436, 3508), (1744,), (436,))"
      ]
     },
     "execution_count": 14,
     "metadata": {},
     "output_type": "execute_result"
    }
   ],
   "source": [
    "X_train.shape, X_test.shape, y_train.shape, y_test.shape"
   ]
  },
  {
   "cell_type": "markdown",
   "id": "56e1a8ed",
   "metadata": {},
   "source": [
    " **ML Models to compare:**\n",
    "\n",
    "- Random Forests\n",
    "- SVM \n",
    "- PCA techniques\n"
   ]
  },
  {
   "cell_type": "markdown",
   "id": "befe4222",
   "metadata": {},
   "source": [
    "## 2. Defining some functions to help removing repeated code when evaluating models:"
   ]
  },
  {
   "cell_type": "code",
   "execution_count": 15,
   "id": "9486e689",
   "metadata": {},
   "outputs": [],
   "source": [
    "#defining function for evaluating metrics \n",
    "def get_metrics(model, X_train, X_test, y_train, y_test, class_type='class'):\n",
    "    #making predictions from the model on the train and test data\n",
    "    y_preds_train = model.predict(X_train)\n",
    "    y_preds_test = model.predict(X_test)\n",
    "\n",
    "    #calculating metrics\n",
    "    # F1-score\n",
    "    test_f1 = metrics.f1_score(y_test, y_preds_test, average='weighted')\n",
    "    train_f1 = metrics.f1_score(y_train, y_preds_train, average='weighted')\n",
    "\n",
    "    #accuracy\n",
    "    test_accuracy = metrics.accuracy_score(y_test, y_preds_test)\n",
    "    train_accuracy =  metrics.accuracy_score(y_train, y_preds_train)\n",
    "\n",
    "    #quadratic weighted kappa\n",
    "    test_qwk = metrics.cohen_kappa_score(y_test, y_preds_test, weights='quadratic')\n",
    "    train_qwk = metrics.cohen_kappa_score(y_train, y_preds_train, weights='quadratic')\n",
    "    \n",
    "    #mean absolute error\n",
    "    test_mae = metrics.mean_absolute_error(y_test, y_preds_test)\n",
    "    train_mae =  metrics.mean_absolute_error(y_train, y_preds_train)\n",
    "    \n",
    "    #getting the class error for test set\n",
    "    average_error = np.mean(abs(y_test - y_preds_test))\n",
    "    \n",
    "    model_metrics = pd.DataFrame({'model':[str(model)], \n",
    "                                  'accuracy':[test_accuracy], \n",
    "                                  'f1_score':[test_f1],\n",
    "                                  'QWK':[test_qwk], \n",
    "                                  'MAE':[test_mae],\n",
    "                                   'sp_class_error':[average_error]})\n",
    "\n",
    "    return model_metrics, y_preds_test, y_preds_train"
   ]
  },
  {
   "cell_type": "code",
   "execution_count": 16,
   "id": "ef7cd1b3",
   "metadata": {},
   "outputs": [],
   "source": [
    "def plot_confusion_matrix(y_test, y_pred, model_name):\n",
    "    #plotting the confusion matrix\n",
    "    confusion = metrics.confusion_matrix(y_test, y_pred)\n",
    "\n",
    "    class_names=['O', 'B', 'A', 'F', 'G', 'K', 'M']\n",
    "\n",
    "    fig, ax = plt.subplots()\n",
    "    sns.heatmap(pd.DataFrame(confusion), annot=True, cmap=\"YlGnBu\" ,fmt='g',\n",
    "                xticklabels=class_names,yticklabels=class_names,cbar=False)\n",
    "    plt.title(f'Confusion matrix: {model_name}')\n",
    "    plt.ylabel('Actual label')\n",
    "    plt.xlabel('Predicted label')\n",
    "    plt.tight_layout()\n",
    "    plt.show() "
   ]
  },
  {
   "cell_type": "markdown",
   "id": "5706d37a",
   "metadata": {},
   "source": [
    "----------\n",
    "# 3. Random Forest Models:"
   ]
  },
  {
   "cell_type": "markdown",
   "id": "e895d97f",
   "metadata": {},
   "source": [
    "### 3.1 <u>Random Forest Multi-Class Classification<u>\n",
    "\n",
    "- ref (stellar spectral classification): https://iopscience.iop.org/article/10.1088/1674-4527/19/8/111/pdf\n",
    "- ref (random forest classifier): https://www.datacamp.com/tutorial/random-forests-classifier-python"
   ]
  },
  {
   "cell_type": "code",
   "execution_count": 17,
   "id": "83dc7043",
   "metadata": {},
   "outputs": [
    {
     "data": {
      "text/html": [
       "<style>#sk-container-id-1 {color: black;background-color: white;}#sk-container-id-1 pre{padding: 0;}#sk-container-id-1 div.sk-toggleable {background-color: white;}#sk-container-id-1 label.sk-toggleable__label {cursor: pointer;display: block;width: 100%;margin-bottom: 0;padding: 0.3em;box-sizing: border-box;text-align: center;}#sk-container-id-1 label.sk-toggleable__label-arrow:before {content: \"▸\";float: left;margin-right: 0.25em;color: #696969;}#sk-container-id-1 label.sk-toggleable__label-arrow:hover:before {color: black;}#sk-container-id-1 div.sk-estimator:hover label.sk-toggleable__label-arrow:before {color: black;}#sk-container-id-1 div.sk-toggleable__content {max-height: 0;max-width: 0;overflow: hidden;text-align: left;background-color: #f0f8ff;}#sk-container-id-1 div.sk-toggleable__content pre {margin: 0.2em;color: black;border-radius: 0.25em;background-color: #f0f8ff;}#sk-container-id-1 input.sk-toggleable__control:checked~div.sk-toggleable__content {max-height: 200px;max-width: 100%;overflow: auto;}#sk-container-id-1 input.sk-toggleable__control:checked~label.sk-toggleable__label-arrow:before {content: \"▾\";}#sk-container-id-1 div.sk-estimator input.sk-toggleable__control:checked~label.sk-toggleable__label {background-color: #d4ebff;}#sk-container-id-1 div.sk-label input.sk-toggleable__control:checked~label.sk-toggleable__label {background-color: #d4ebff;}#sk-container-id-1 input.sk-hidden--visually {border: 0;clip: rect(1px 1px 1px 1px);clip: rect(1px, 1px, 1px, 1px);height: 1px;margin: -1px;overflow: hidden;padding: 0;position: absolute;width: 1px;}#sk-container-id-1 div.sk-estimator {font-family: monospace;background-color: #f0f8ff;border: 1px dotted black;border-radius: 0.25em;box-sizing: border-box;margin-bottom: 0.5em;}#sk-container-id-1 div.sk-estimator:hover {background-color: #d4ebff;}#sk-container-id-1 div.sk-parallel-item::after {content: \"\";width: 100%;border-bottom: 1px solid gray;flex-grow: 1;}#sk-container-id-1 div.sk-label:hover label.sk-toggleable__label {background-color: #d4ebff;}#sk-container-id-1 div.sk-serial::before {content: \"\";position: absolute;border-left: 1px solid gray;box-sizing: border-box;top: 0;bottom: 0;left: 50%;z-index: 0;}#sk-container-id-1 div.sk-serial {display: flex;flex-direction: column;align-items: center;background-color: white;padding-right: 0.2em;padding-left: 0.2em;position: relative;}#sk-container-id-1 div.sk-item {position: relative;z-index: 1;}#sk-container-id-1 div.sk-parallel {display: flex;align-items: stretch;justify-content: center;background-color: white;position: relative;}#sk-container-id-1 div.sk-item::before, #sk-container-id-1 div.sk-parallel-item::before {content: \"\";position: absolute;border-left: 1px solid gray;box-sizing: border-box;top: 0;bottom: 0;left: 50%;z-index: -1;}#sk-container-id-1 div.sk-parallel-item {display: flex;flex-direction: column;z-index: 1;position: relative;background-color: white;}#sk-container-id-1 div.sk-parallel-item:first-child::after {align-self: flex-end;width: 50%;}#sk-container-id-1 div.sk-parallel-item:last-child::after {align-self: flex-start;width: 50%;}#sk-container-id-1 div.sk-parallel-item:only-child::after {width: 0;}#sk-container-id-1 div.sk-dashed-wrapped {border: 1px dashed gray;margin: 0 0.4em 0.5em 0.4em;box-sizing: border-box;padding-bottom: 0.4em;background-color: white;}#sk-container-id-1 div.sk-label label {font-family: monospace;font-weight: bold;display: inline-block;line-height: 1.2em;}#sk-container-id-1 div.sk-label-container {text-align: center;}#sk-container-id-1 div.sk-container {/* jupyter's `normalize.less` sets `[hidden] { display: none; }` but bootstrap.min.css set `[hidden] { display: none !important; }` so we also need the `!important` here to be able to override the default hidden behavior on the sphinx rendered scikit-learn.org. See: https://github.com/scikit-learn/scikit-learn/issues/21755 */display: inline-block !important;position: relative;}#sk-container-id-1 div.sk-text-repr-fallback {display: none;}</style><div id=\"sk-container-id-1\" class=\"sk-top-container\"><div class=\"sk-text-repr-fallback\"><pre>RandomForestClassifier(random_state=42)</pre><b>In a Jupyter environment, please rerun this cell to show the HTML representation or trust the notebook. <br />On GitHub, the HTML representation is unable to render, please try loading this page with nbviewer.org.</b></div><div class=\"sk-container\" hidden><div class=\"sk-item\"><div class=\"sk-estimator sk-toggleable\"><input class=\"sk-toggleable__control sk-hidden--visually\" id=\"sk-estimator-id-1\" type=\"checkbox\" checked><label for=\"sk-estimator-id-1\" class=\"sk-toggleable__label sk-toggleable__label-arrow\">RandomForestClassifier</label><div class=\"sk-toggleable__content\"><pre>RandomForestClassifier(random_state=42)</pre></div></div></div></div></div>"
      ],
      "text/plain": [
       "RandomForestClassifier(random_state=42)"
      ]
     },
     "execution_count": 17,
     "metadata": {},
     "output_type": "execute_result"
    }
   ],
   "source": [
    "# Create a Random Forest Classifier\n",
    "rf_1 = RandomForestClassifier(random_state=42)\n",
    "\n",
    "#training the model using X_train, y_train\n",
    "rf_1.fit(X_train, y_train)"
   ]
  },
  {
   "cell_type": "code",
   "execution_count": 18,
   "id": "1a3a5b41",
   "metadata": {},
   "outputs": [
    {
     "data": {
      "text/html": [
       "<div>\n",
       "<style scoped>\n",
       "    .dataframe tbody tr th:only-of-type {\n",
       "        vertical-align: middle;\n",
       "    }\n",
       "\n",
       "    .dataframe tbody tr th {\n",
       "        vertical-align: top;\n",
       "    }\n",
       "\n",
       "    .dataframe thead th {\n",
       "        text-align: right;\n",
       "    }\n",
       "</style>\n",
       "<table border=\"1\" class=\"dataframe\">\n",
       "  <thead>\n",
       "    <tr style=\"text-align: right;\">\n",
       "      <th></th>\n",
       "      <th>model</th>\n",
       "      <th>accuracy</th>\n",
       "      <th>f1_score</th>\n",
       "      <th>QWK</th>\n",
       "      <th>MAE</th>\n",
       "      <th>sp_class_error</th>\n",
       "    </tr>\n",
       "  </thead>\n",
       "  <tbody>\n",
       "    <tr>\n",
       "      <th>0</th>\n",
       "      <td>RandomForestClassifier(random_state=42)</td>\n",
       "      <td>0.91055</td>\n",
       "      <td>0.910415</td>\n",
       "      <td>0.979372</td>\n",
       "      <td>0.091743</td>\n",
       "      <td>0.091743</td>\n",
       "    </tr>\n",
       "  </tbody>\n",
       "</table>\n",
       "</div>"
      ],
      "text/plain": [
       "                                     model  accuracy  f1_score       QWK  \\\n",
       "0  RandomForestClassifier(random_state=42)   0.91055  0.910415  0.979372   \n",
       "\n",
       "        MAE  sp_class_error  \n",
       "0  0.091743        0.091743  "
      ]
     },
     "execution_count": 18,
     "metadata": {},
     "output_type": "execute_result"
    }
   ],
   "source": [
    "rf1_metrics, y_preds_test_rf1, y_preds_train_rf1 = get_metrics(rf_1, X_train, X_test, y_train, y_test)\n",
    "rf1_metrics"
   ]
  },
  {
   "cell_type": "code",
   "execution_count": 19,
   "id": "5684a8c0",
   "metadata": {},
   "outputs": [
    {
     "data": {
      "image/png": "[encoded data removed]",
      "text/plain": [
       "<Figure size 640x480 with 1 Axes>"
      ]
     },
     "metadata": {},
     "output_type": "display_data"
    }
   ],
   "source": [
    "plot_confusion_matrix(y_test, y_preds_test_rf1, 'Random Forest Classifier (Model 1)')"
   ]
  },
  {
   "cell_type": "markdown",
   "id": "9eb53eac",
   "metadata": {},
   "source": [
    "### 3.1.2 Hyperparameter tuning - Random Forest"
   ]
  },
  {
   "cell_type": "markdown",
   "id": "b47709d3",
   "metadata": {},
   "source": [
    "There are some hyperparameters that may be tuned to improve the model accuracy. \n",
    "The most important settings are the number of trees in the forest (n_estimators) and the number of features considered for splitting at each leaf node (max_features).\n",
    "<br>\n",
    "The hyperparameters that will be tuned as part of this research project are: <br>\n",
    "- a) **n_estimators** : the number of decision trees in the forest\n",
    "- b) **max_depth** : the maximum depth of each decision tree in the forest\n",
    "- c) **max_features** : max number of features considered for splitting a node\n",
    "- d) **min_samples_split**: min number of data points placed in a node before the node is split\n",
    "- e) **min_samples_leaf**: min number of data points allowed in a leaf node\n",
    "\n"
   ]
  },
  {
   "cell_type": "code",
   "execution_count": 19,
   "id": "18458da5",
   "metadata": {},
   "outputs": [],
   "source": [
    "##defining hyperparameter space to iterate through - might want to outline reason for below choices\n",
    "param_grid = {'n_estimators':[10, 100, 200, 500, 1000], #number of trees (default = 100)\n",
    "              'max_depth': [None, 5, 10, 20, 50], #max depth of tree (default = None)\n",
    "              'max_features': ['sqrt', 'log2'],  #num features to consider when looking for best split\n",
    "              'min_samples_leaf': [1, 2, 4] , \n",
    "              'min_samples_split': [2, 5, 10]\n",
    "              } \n",
    "\n",
    "#Create a random forest classifier\n",
    "rf = RandomForestClassifier()\n",
    "\n",
    "#running gridSearch on params, with the default k-fold cross validation set to 3\n",
    "grid_search_rf = GridSearchCV(estimator=rf, \n",
    "                              param_grid=param_grid, \n",
    "                              cv=3,  # 3-fold cross-validation\n",
    "                              verbose=0) \n",
    "\n",
    "#Fit the grid search object to the data\n",
    "grid_search_rf.fit(X_train, y_train)"
   ]
  },
  {
   "cell_type": "code",
   "execution_count": 38,
   "id": "916ea1e9",
   "metadata": {},
   "outputs": [
    {
     "name": "stdout",
     "output_type": "stream",
     "text": [
      "Best hyperparameters: {'n_estimators': 500, 'min_samples_split': 2, 'min_samples_leaf': 1, 'max_features': 'sqrt', 'max_depth': 10}\n"
     ]
    }
   ],
   "source": [
    "## Create a variable for the best model\n",
    "best_rf = grid_search_rf.best_estimator_\n",
    "\n",
    "# Print the best hyperparameters\n",
    "print('Best hyperparameters:',  grid_search_rf.best_params_)"
   ]
  },
  {
   "cell_type": "code",
   "execution_count": 56,
   "id": "12e28480",
   "metadata": {},
   "outputs": [],
   "source": [
    "rf_2 = RandomForestClassifier(n_estimators = 500, max_depth = 10, min_samples_split=2, \n",
    "                              min_samples_leaf=1, max_features='sqrt', random_state=42)"
   ]
  },
  {
   "cell_type": "code",
   "execution_count": 57,
   "id": "7b5acbd2",
   "metadata": {
    "scrolled": true
   },
   "outputs": [
    {
     "data": {
      "text/html": [
       "<style>#sk-container-id-2 {color: black;background-color: white;}#sk-container-id-2 pre{padding: 0;}#sk-container-id-2 div.sk-toggleable {background-color: white;}#sk-container-id-2 label.sk-toggleable__label {cursor: pointer;display: block;width: 100%;margin-bottom: 0;padding: 0.3em;box-sizing: border-box;text-align: center;}#sk-container-id-2 label.sk-toggleable__label-arrow:before {content: \"▸\";float: left;margin-right: 0.25em;color: #696969;}#sk-container-id-2 label.sk-toggleable__label-arrow:hover:before {color: black;}#sk-container-id-2 div.sk-estimator:hover label.sk-toggleable__label-arrow:before {color: black;}#sk-container-id-2 div.sk-toggleable__content {max-height: 0;max-width: 0;overflow: hidden;text-align: left;background-color: #f0f8ff;}#sk-container-id-2 div.sk-toggleable__content pre {margin: 0.2em;color: black;border-radius: 0.25em;background-color: #f0f8ff;}#sk-container-id-2 input.sk-toggleable__control:checked~div.sk-toggleable__content {max-height: 200px;max-width: 100%;overflow: auto;}#sk-container-id-2 input.sk-toggleable__control:checked~label.sk-toggleable__label-arrow:before {content: \"▾\";}#sk-container-id-2 div.sk-estimator input.sk-toggleable__control:checked~label.sk-toggleable__label {background-color: #d4ebff;}#sk-container-id-2 div.sk-label input.sk-toggleable__control:checked~label.sk-toggleable__label {background-color: #d4ebff;}#sk-container-id-2 input.sk-hidden--visually {border: 0;clip: rect(1px 1px 1px 1px);clip: rect(1px, 1px, 1px, 1px);height: 1px;margin: -1px;overflow: hidden;padding: 0;position: absolute;width: 1px;}#sk-container-id-2 div.sk-estimator {font-family: monospace;background-color: #f0f8ff;border: 1px dotted black;border-radius: 0.25em;box-sizing: border-box;margin-bottom: 0.5em;}#sk-container-id-2 div.sk-estimator:hover {background-color: #d4ebff;}#sk-container-id-2 div.sk-parallel-item::after {content: \"\";width: 100%;border-bottom: 1px solid gray;flex-grow: 1;}#sk-container-id-2 div.sk-label:hover label.sk-toggleable__label {background-color: #d4ebff;}#sk-container-id-2 div.sk-serial::before {content: \"\";position: absolute;border-left: 1px solid gray;box-sizing: border-box;top: 0;bottom: 0;left: 50%;z-index: 0;}#sk-container-id-2 div.sk-serial {display: flex;flex-direction: column;align-items: center;background-color: white;padding-right: 0.2em;padding-left: 0.2em;position: relative;}#sk-container-id-2 div.sk-item {position: relative;z-index: 1;}#sk-container-id-2 div.sk-parallel {display: flex;align-items: stretch;justify-content: center;background-color: white;position: relative;}#sk-container-id-2 div.sk-item::before, #sk-container-id-2 div.sk-parallel-item::before {content: \"\";position: absolute;border-left: 1px solid gray;box-sizing: border-box;top: 0;bottom: 0;left: 50%;z-index: -1;}#sk-container-id-2 div.sk-parallel-item {display: flex;flex-direction: column;z-index: 1;position: relative;background-color: white;}#sk-container-id-2 div.sk-parallel-item:first-child::after {align-self: flex-end;width: 50%;}#sk-container-id-2 div.sk-parallel-item:last-child::after {align-self: flex-start;width: 50%;}#sk-container-id-2 div.sk-parallel-item:only-child::after {width: 0;}#sk-container-id-2 div.sk-dashed-wrapped {border: 1px dashed gray;margin: 0 0.4em 0.5em 0.4em;box-sizing: border-box;padding-bottom: 0.4em;background-color: white;}#sk-container-id-2 div.sk-label label {font-family: monospace;font-weight: bold;display: inline-block;line-height: 1.2em;}#sk-container-id-2 div.sk-label-container {text-align: center;}#sk-container-id-2 div.sk-container {/* jupyter's `normalize.less` sets `[hidden] { display: none; }` but bootstrap.min.css set `[hidden] { display: none !important; }` so we also need the `!important` here to be able to override the default hidden behavior on the sphinx rendered scikit-learn.org. See: https://github.com/scikit-learn/scikit-learn/issues/21755 */display: inline-block !important;position: relative;}#sk-container-id-2 div.sk-text-repr-fallback {display: none;}</style><div id=\"sk-container-id-2\" class=\"sk-top-container\"><div class=\"sk-text-repr-fallback\"><pre>RandomForestClassifier(max_depth=10, n_estimators=500, random_state=42)</pre><b>In a Jupyter environment, please rerun this cell to show the HTML representation or trust the notebook. <br />On GitHub, the HTML representation is unable to render, please try loading this page with nbviewer.org.</b></div><div class=\"sk-container\" hidden><div class=\"sk-item\"><div class=\"sk-estimator sk-toggleable\"><input class=\"sk-toggleable__control sk-hidden--visually\" id=\"sk-estimator-id-2\" type=\"checkbox\" checked><label for=\"sk-estimator-id-2\" class=\"sk-toggleable__label sk-toggleable__label-arrow\">RandomForestClassifier</label><div class=\"sk-toggleable__content\"><pre>RandomForestClassifier(max_depth=10, n_estimators=500, random_state=42)</pre></div></div></div></div></div>"
      ],
      "text/plain": [
       "RandomForestClassifier(max_depth=10, n_estimators=500, random_state=42)"
      ]
     },
     "execution_count": 57,
     "metadata": {},
     "output_type": "execute_result"
    }
   ],
   "source": [
    "rf_2.fit(X_train, y_train)"
   ]
  },
  {
   "cell_type": "code",
   "execution_count": 58,
   "id": "6221f150",
   "metadata": {
    "scrolled": false
   },
   "outputs": [],
   "source": [
    "rf2_metrics, y_preds_test_rf2, y_preds_train_rf2 = get_metrics(rf_2, X_train, X_test, y_train, y_test)"
   ]
  },
  {
   "cell_type": "code",
   "execution_count": 59,
   "id": "680e4b7a",
   "metadata": {},
   "outputs": [
    {
     "data": {
      "text/html": [
       "<div>\n",
       "<style scoped>\n",
       "    .dataframe tbody tr th:only-of-type {\n",
       "        vertical-align: middle;\n",
       "    }\n",
       "\n",
       "    .dataframe tbody tr th {\n",
       "        vertical-align: top;\n",
       "    }\n",
       "\n",
       "    .dataframe thead th {\n",
       "        text-align: right;\n",
       "    }\n",
       "</style>\n",
       "<table border=\"1\" class=\"dataframe\">\n",
       "  <thead>\n",
       "    <tr style=\"text-align: right;\">\n",
       "      <th></th>\n",
       "      <th>model</th>\n",
       "      <th>accuracy</th>\n",
       "      <th>f1_score</th>\n",
       "      <th>QWK</th>\n",
       "      <th>MAE</th>\n",
       "      <th>sp_class_error</th>\n",
       "    </tr>\n",
       "  </thead>\n",
       "  <tbody>\n",
       "    <tr>\n",
       "      <th>0</th>\n",
       "      <td>RandomForestClassifier(max_depth=10, n_estimat...</td>\n",
       "      <td>0.912844</td>\n",
       "      <td>0.912713</td>\n",
       "      <td>0.979864</td>\n",
       "      <td>0.08945</td>\n",
       "      <td>0.08945</td>\n",
       "    </tr>\n",
       "  </tbody>\n",
       "</table>\n",
       "</div>"
      ],
      "text/plain": [
       "                                               model  accuracy  f1_score  \\\n",
       "0  RandomForestClassifier(max_depth=10, n_estimat...  0.912844  0.912713   \n",
       "\n",
       "        QWK      MAE  sp_class_error  \n",
       "0  0.979864  0.08945         0.08945  "
      ]
     },
     "execution_count": 59,
     "metadata": {},
     "output_type": "execute_result"
    }
   ],
   "source": [
    "rf2_metrics"
   ]
  },
  {
   "cell_type": "code",
   "execution_count": 24,
   "id": "4d542233",
   "metadata": {},
   "outputs": [
    {
     "data": {
      "image/png": "[encoded data removed]",
      "text/plain": [
       "<Figure size 640x480 with 1 Axes>"
      ]
     },
     "metadata": {},
     "output_type": "display_data"
    }
   ],
   "source": [
    "plot_confusion_matrix(y_test, y_preds_test_rf2, 'Random Forest Classifier (Tuned)')"
   ]
  },
  {
   "cell_type": "code",
   "execution_count": 27,
   "id": "e14b3283",
   "metadata": {},
   "outputs": [
    {
     "data": {
      "text/plain": [
       "flux_0    0.003345\n",
       "flux_1    0.004081\n",
       "flux_2    0.002250\n",
       "flux_3    0.002475\n",
       "flux_4    0.005040\n",
       "dtype: float64"
      ]
     },
     "execution_count": 27,
     "metadata": {},
     "output_type": "execute_result"
    }
   ],
   "source": [
    "#feature importance - how significant each feature is in pridicting the target variable\n",
    "feature_imp = pd.Series(rf_2.feature_importances_, index=list(X_train.columns))\n",
    "feature_imp.head()"
   ]
  },
  {
   "cell_type": "code",
   "execution_count": 28,
   "id": "3455a3b2",
   "metadata": {},
   "outputs": [],
   "source": [
    "feature_importance = pd.DataFrame({'wavelength':wavelengths,'feature_importance':feature_imp.values})"
   ]
  },
  {
   "cell_type": "code",
   "execution_count": 29,
   "id": "2fcc587e",
   "metadata": {},
   "outputs": [
    {
     "data": {
      "text/plain": [
       "Text(0, 0.5, 'feature importance score')"
      ]
     },
     "execution_count": 29,
     "metadata": {},
     "output_type": "execute_result"
    },
    {
     "data": {
      "image/png": "[encoded data removed]",
      "text/plain": [
       "<Figure size 1200x600 with 1 Axes>"
      ]
     },
     "metadata": {},
     "output_type": "display_data"
    }
   ],
   "source": [
    "plt.figure(figsize=(12,6))\n",
    "plt.title('Feature importance of each wavelength flux for Random Forest Classifier (RF2)')\n",
    "plt.plot(feature_importance.wavelength,feature_importance.feature_importance)\n",
    "plt.xlabel('wavelength')\n",
    "plt.ylabel('feature importance score')"
   ]
  },
  {
   "cell_type": "markdown",
   "id": "235aee42",
   "metadata": {},
   "source": [
    "### 3.1.3 Stratified K Fold Cross Validation\n",
    "We essentially perform holdout cross-validation multiple times in k-fold cross-validation. Therefore, we divide the dataset into k equal-sized samples for k-fold cross-validation. The remaining k1 subsamples are utilized as training data, and just one subsample of these many k subsamples is used as validation data for testing the model. The cross-validation procedure is then carried out k times, using the validation data from each of the k subsamples exactly once each time. Then, an estimation can be created by averaging the k results."
   ]
  },
  {
   "cell_type": "code",
   "execution_count": 37,
   "id": "40f30790",
   "metadata": {},
   "outputs": [
    {
     "data": {
      "text/plain": [
       "0.9031054407907797"
      ]
     },
     "execution_count": 37,
     "metadata": {},
     "output_type": "execute_result"
    }
   ],
   "source": [
    "#k-fold cross validation using stratified K_fold\n",
    "s_cv_forest = RandomForestClassifier(n_estimators = 500, max_depth = 10, min_samples_split=2, \n",
    "                                     min_samples_leaf=1, max_features='sqrt', random_state=42)\n",
    "\n",
    "s_kfold = StratifiedKFold(n_splits=5, shuffle=True, random_state=1)\n",
    "\n",
    "cross_val_score(s_cv_forest, X, y, scoring='accuracy', cv = s_kfold).mean()"
   ]
  },
  {
   "cell_type": "markdown",
   "id": "cca9dbab",
   "metadata": {},
   "source": [
    "## 3.2 Support Vector Machine"
   ]
  },
  {
   "cell_type": "markdown",
   "id": "6d64e324",
   "metadata": {},
   "source": [
    "### 3.2.1 <u> Support Vector Machine Classification <u>\n",
    "\n",
    "- ref to paper:  https://iopscience.iop.org/article/10.1088/1674-4527/15/8/004/pdf\n",
    "Note from this paper: O and B types are merged into one class since there are only very few O type\n",
    "stars in the sample. - might be considered for this project\n",
    "- ref to SVM notes: https://www.geeksforgeeks.org/support-vector-machine-algorithm/\n",
    "\n",
    "Reasons why SVM was chosen: \n",
    "1) Effective in high-dimensional cases.\n",
    "2) Still effective in cases where number of dimensions is greater than the number of samples.\n",
    "3) Memory efficient.\n"
   ]
  },
  {
   "cell_type": "code",
   "execution_count": 60,
   "id": "31a5efd3",
   "metadata": {},
   "outputs": [
    {
     "data": {
      "text/plain": [
       "((1744, 3508), (436, 3508), (1744,), (436,))"
      ]
     },
     "execution_count": 60,
     "metadata": {},
     "output_type": "execute_result"
    }
   ],
   "source": [
    "#looking at training and testing data shapes\n",
    "X_train.shape, X_test.shape, y_train.shape, y_test.shape"
   ]
  },
  {
   "cell_type": "code",
   "execution_count": 61,
   "id": "a16a8556",
   "metadata": {},
   "outputs": [],
   "source": [
    "# Create an object svmModel by calling a method SVC() - using default hyperparameters\n",
    "#kernel = 'rbf',C = 1, gamma = 'scale'\n",
    "svm_1 = SVC()"
   ]
  },
  {
   "cell_type": "code",
   "execution_count": 62,
   "id": "0b2f8a20",
   "metadata": {},
   "outputs": [
    {
     "data": {
      "text/html": [
       "<style>#sk-container-id-3 {color: black;background-color: white;}#sk-container-id-3 pre{padding: 0;}#sk-container-id-3 div.sk-toggleable {background-color: white;}#sk-container-id-3 label.sk-toggleable__label {cursor: pointer;display: block;width: 100%;margin-bottom: 0;padding: 0.3em;box-sizing: border-box;text-align: center;}#sk-container-id-3 label.sk-toggleable__label-arrow:before {content: \"▸\";float: left;margin-right: 0.25em;color: #696969;}#sk-container-id-3 label.sk-toggleable__label-arrow:hover:before {color: black;}#sk-container-id-3 div.sk-estimator:hover label.sk-toggleable__label-arrow:before {color: black;}#sk-container-id-3 div.sk-toggleable__content {max-height: 0;max-width: 0;overflow: hidden;text-align: left;background-color: #f0f8ff;}#sk-container-id-3 div.sk-toggleable__content pre {margin: 0.2em;color: black;border-radius: 0.25em;background-color: #f0f8ff;}#sk-container-id-3 input.sk-toggleable__control:checked~div.sk-toggleable__content {max-height: 200px;max-width: 100%;overflow: auto;}#sk-container-id-3 input.sk-toggleable__control:checked~label.sk-toggleable__label-arrow:before {content: \"▾\";}#sk-container-id-3 div.sk-estimator input.sk-toggleable__control:checked~label.sk-toggleable__label {background-color: #d4ebff;}#sk-container-id-3 div.sk-label input.sk-toggleable__control:checked~label.sk-toggleable__label {background-color: #d4ebff;}#sk-container-id-3 input.sk-hidden--visually {border: 0;clip: rect(1px 1px 1px 1px);clip: rect(1px, 1px, 1px, 1px);height: 1px;margin: -1px;overflow: hidden;padding: 0;position: absolute;width: 1px;}#sk-container-id-3 div.sk-estimator {font-family: monospace;background-color: #f0f8ff;border: 1px dotted black;border-radius: 0.25em;box-sizing: border-box;margin-bottom: 0.5em;}#sk-container-id-3 div.sk-estimator:hover {background-color: #d4ebff;}#sk-container-id-3 div.sk-parallel-item::after {content: \"\";width: 100%;border-bottom: 1px solid gray;flex-grow: 1;}#sk-container-id-3 div.sk-label:hover label.sk-toggleable__label {background-color: #d4ebff;}#sk-container-id-3 div.sk-serial::before {content: \"\";position: absolute;border-left: 1px solid gray;box-sizing: border-box;top: 0;bottom: 0;left: 50%;z-index: 0;}#sk-container-id-3 div.sk-serial {display: flex;flex-direction: column;align-items: center;background-color: white;padding-right: 0.2em;padding-left: 0.2em;position: relative;}#sk-container-id-3 div.sk-item {position: relative;z-index: 1;}#sk-container-id-3 div.sk-parallel {display: flex;align-items: stretch;justify-content: center;background-color: white;position: relative;}#sk-container-id-3 div.sk-item::before, #sk-container-id-3 div.sk-parallel-item::before {content: \"\";position: absolute;border-left: 1px solid gray;box-sizing: border-box;top: 0;bottom: 0;left: 50%;z-index: -1;}#sk-container-id-3 div.sk-parallel-item {display: flex;flex-direction: column;z-index: 1;position: relative;background-color: white;}#sk-container-id-3 div.sk-parallel-item:first-child::after {align-self: flex-end;width: 50%;}#sk-container-id-3 div.sk-parallel-item:last-child::after {align-self: flex-start;width: 50%;}#sk-container-id-3 div.sk-parallel-item:only-child::after {width: 0;}#sk-container-id-3 div.sk-dashed-wrapped {border: 1px dashed gray;margin: 0 0.4em 0.5em 0.4em;box-sizing: border-box;padding-bottom: 0.4em;background-color: white;}#sk-container-id-3 div.sk-label label {font-family: monospace;font-weight: bold;display: inline-block;line-height: 1.2em;}#sk-container-id-3 div.sk-label-container {text-align: center;}#sk-container-id-3 div.sk-container {/* jupyter's `normalize.less` sets `[hidden] { display: none; }` but bootstrap.min.css set `[hidden] { display: none !important; }` so we also need the `!important` here to be able to override the default hidden behavior on the sphinx rendered scikit-learn.org. See: https://github.com/scikit-learn/scikit-learn/issues/21755 */display: inline-block !important;position: relative;}#sk-container-id-3 div.sk-text-repr-fallback {display: none;}</style><div id=\"sk-container-id-3\" class=\"sk-top-container\"><div class=\"sk-text-repr-fallback\"><pre>SVC()</pre><b>In a Jupyter environment, please rerun this cell to show the HTML representation or trust the notebook. <br />On GitHub, the HTML representation is unable to render, please try loading this page with nbviewer.org.</b></div><div class=\"sk-container\" hidden><div class=\"sk-item\"><div class=\"sk-estimator sk-toggleable\"><input class=\"sk-toggleable__control sk-hidden--visually\" id=\"sk-estimator-id-3\" type=\"checkbox\" checked><label for=\"sk-estimator-id-3\" class=\"sk-toggleable__label sk-toggleable__label-arrow\">SVC</label><div class=\"sk-toggleable__content\"><pre>SVC()</pre></div></div></div></div></div>"
      ],
      "text/plain": [
       "SVC()"
      ]
     },
     "execution_count": 62,
     "metadata": {},
     "output_type": "execute_result"
    }
   ],
   "source": [
    "# Train the model by calling a method fit()\n",
    "svm_1.fit(X_train,y_train)"
   ]
  },
  {
   "cell_type": "code",
   "execution_count": 63,
   "id": "9923c03a",
   "metadata": {
    "scrolled": false
   },
   "outputs": [],
   "source": [
    "smv1_metrics, y_preds_test_svm1, y_preds_train_svm1 = get_metrics(svm_1,\n",
    "                                                    X_train, X_test, y_train, y_test)"
   ]
  },
  {
   "cell_type": "code",
   "execution_count": 64,
   "id": "32d458a0",
   "metadata": {},
   "outputs": [
    {
     "data": {
      "text/html": [
       "<div>\n",
       "<style scoped>\n",
       "    .dataframe tbody tr th:only-of-type {\n",
       "        vertical-align: middle;\n",
       "    }\n",
       "\n",
       "    .dataframe tbody tr th {\n",
       "        vertical-align: top;\n",
       "    }\n",
       "\n",
       "    .dataframe thead th {\n",
       "        text-align: right;\n",
       "    }\n",
       "</style>\n",
       "<table border=\"1\" class=\"dataframe\">\n",
       "  <thead>\n",
       "    <tr style=\"text-align: right;\">\n",
       "      <th></th>\n",
       "      <th>model</th>\n",
       "      <th>accuracy</th>\n",
       "      <th>f1_score</th>\n",
       "      <th>QWK</th>\n",
       "      <th>MAE</th>\n",
       "      <th>sp_class_error</th>\n",
       "    </tr>\n",
       "  </thead>\n",
       "  <tbody>\n",
       "    <tr>\n",
       "      <th>0</th>\n",
       "      <td>SVC()</td>\n",
       "      <td>0.802752</td>\n",
       "      <td>0.803194</td>\n",
       "      <td>0.957752</td>\n",
       "      <td>0.197248</td>\n",
       "      <td>0.197248</td>\n",
       "    </tr>\n",
       "  </tbody>\n",
       "</table>\n",
       "</div>"
      ],
      "text/plain": [
       "   model  accuracy  f1_score       QWK       MAE  sp_class_error\n",
       "0  SVC()  0.802752  0.803194  0.957752  0.197248        0.197248"
      ]
     },
     "execution_count": 64,
     "metadata": {},
     "output_type": "execute_result"
    }
   ],
   "source": [
    "smv1_metrics"
   ]
  },
  {
   "cell_type": "code",
   "execution_count": 30,
   "id": "49ae36b5",
   "metadata": {},
   "outputs": [
    {
     "data": {
      "image/png": "[encoded data removed]",
      "text/plain": [
       "<Figure size 640x480 with 1 Axes>"
      ]
     },
     "metadata": {},
     "output_type": "display_data"
    }
   ],
   "source": [
    "plot_confusion_matrix(y_test, y_preds_test_svm1, 'SVM Classifier (Model 1)')"
   ]
  },
  {
   "cell_type": "markdown",
   "id": "44fe7625",
   "metadata": {},
   "source": [
    "### 3.2.2 hyperparameter tuning - SVM\n",
    "\n",
    "- **Kernel**: The mathematical function, which is used in SVM to map the original input data points into high-dimensional feature spaces, so, that the hyperplane can be easily found out even if the data points are not linearly separable in the original input space. Some of the common kernel functions are linear, polynomial, radial basis function(RBF), and sigmoid. RBF or gaussian kernal is a popular choice for complex non-linear data ref: https://www.geeksforgeeks.org/support-vector-machine-algorithm/<br>\n",
    "more on kernals: https://www.geeksforgeeks.org/major-kernel-functions-in-support-vector-machine-svm/ <br>\n",
    "<br>\n",
    "- **C**: Regularization parameter; trades off misclassification of training examples against simplicity of the decision surface. A low C makes the decision surface smooth, while a high C aims at classifying all training examples correctly. A stricter penalty is imposed with a greater value of C, which results in a smaller margin and perhaps fewer misclassification.\n",
    "ref: https://scikit-learn.org/stable/modules/svm.html#kernel-functions\n",
    "<br>\n",
    "\n",
    "- **gamma**:Defines how much influence a single training example has. A lower value of Gamma will loosely fit the training dataset, whereas a higher value of gamma will exactly fit the training dataset, which causes over-fitting.a low value of gamma considers only nearby points in calculating the separation line, while the a value of gamma considers all the data points in the calculation of the separation line. ref: https://www.datacamp.com/tutorial/svm-classification-scikit-learn-python\n",
    "<br>\n",
    "\n",
    "- Notes from https://www.linkedin.com/advice/0/how-do-you-optimize-hyperparameters-svm#:~:text=SVM%20hyperparameters%20are%20the%20settings,decision%20boundary%20can%20be%20found.:  \"use a logarithmic scale for C and gamma values to capture the wide range of possible values and reflect their relative importance.\""
   ]
  },
  {
   "cell_type": "code",
   "execution_count": 31,
   "id": "2f9e8665",
   "metadata": {},
   "outputs": [],
   "source": [
    "#using grid search CV\n",
    "\n",
    "#defining parameter range \n",
    "param_grid = {'C': [0.01, 0.1, 1, 10, 100, 1000],  \n",
    "              'gamma': [100, 10, 1, 0.1, 0.01, 0.001, 'scale'], \n",
    "              'kernel': ['rbf', 'poly'], \n",
    "              'degree':[2, 3]}  \n",
    "\n",
    "grid_search_svc = GridSearchCV(SVC(), param_grid, refit = True, verbose = 0) \n",
    "  \n",
    "# fitting the model for grid search \n",
    "grid_search_svc.fit(X_train, y_train)"
   ]
  },
  {
   "cell_type": "code",
   "execution_count": 77,
   "id": "960ff930",
   "metadata": {
    "scrolled": true
   },
   "outputs": [
    {
     "name": "stdout",
     "output_type": "stream",
     "text": [
      "{'C': 100, 'gamma': 0.01, 'kernel': 'rbf'}\n",
      "SVC(C=100, gamma=0.01)\n"
     ]
    }
   ],
   "source": [
    "# print best parameter after tuning \n",
    "print(grid_search_svc.best_params_) \n",
    "  \n",
    "# print how our model looks after hyper-parameter tuning \n",
    "print(grid_search_svc.best_estimator_) "
   ]
  },
  {
   "cell_type": "code",
   "execution_count": 65,
   "id": "0b6d9559",
   "metadata": {},
   "outputs": [],
   "source": [
    "#initialising model with tuned parameters\n",
    "svm_2 = SVC(C=100, gamma=0.01, kernel='rbf')"
   ]
  },
  {
   "cell_type": "code",
   "execution_count": 66,
   "id": "0967725b",
   "metadata": {},
   "outputs": [
    {
     "data": {
      "text/html": [
       "<style>#sk-container-id-4 {color: black;background-color: white;}#sk-container-id-4 pre{padding: 0;}#sk-container-id-4 div.sk-toggleable {background-color: white;}#sk-container-id-4 label.sk-toggleable__label {cursor: pointer;display: block;width: 100%;margin-bottom: 0;padding: 0.3em;box-sizing: border-box;text-align: center;}#sk-container-id-4 label.sk-toggleable__label-arrow:before {content: \"▸\";float: left;margin-right: 0.25em;color: #696969;}#sk-container-id-4 label.sk-toggleable__label-arrow:hover:before {color: black;}#sk-container-id-4 div.sk-estimator:hover label.sk-toggleable__label-arrow:before {color: black;}#sk-container-id-4 div.sk-toggleable__content {max-height: 0;max-width: 0;overflow: hidden;text-align: left;background-color: #f0f8ff;}#sk-container-id-4 div.sk-toggleable__content pre {margin: 0.2em;color: black;border-radius: 0.25em;background-color: #f0f8ff;}#sk-container-id-4 input.sk-toggleable__control:checked~div.sk-toggleable__content {max-height: 200px;max-width: 100%;overflow: auto;}#sk-container-id-4 input.sk-toggleable__control:checked~label.sk-toggleable__label-arrow:before {content: \"▾\";}#sk-container-id-4 div.sk-estimator input.sk-toggleable__control:checked~label.sk-toggleable__label {background-color: #d4ebff;}#sk-container-id-4 div.sk-label input.sk-toggleable__control:checked~label.sk-toggleable__label {background-color: #d4ebff;}#sk-container-id-4 input.sk-hidden--visually {border: 0;clip: rect(1px 1px 1px 1px);clip: rect(1px, 1px, 1px, 1px);height: 1px;margin: -1px;overflow: hidden;padding: 0;position: absolute;width: 1px;}#sk-container-id-4 div.sk-estimator {font-family: monospace;background-color: #f0f8ff;border: 1px dotted black;border-radius: 0.25em;box-sizing: border-box;margin-bottom: 0.5em;}#sk-container-id-4 div.sk-estimator:hover {background-color: #d4ebff;}#sk-container-id-4 div.sk-parallel-item::after {content: \"\";width: 100%;border-bottom: 1px solid gray;flex-grow: 1;}#sk-container-id-4 div.sk-label:hover label.sk-toggleable__label {background-color: #d4ebff;}#sk-container-id-4 div.sk-serial::before {content: \"\";position: absolute;border-left: 1px solid gray;box-sizing: border-box;top: 0;bottom: 0;left: 50%;z-index: 0;}#sk-container-id-4 div.sk-serial {display: flex;flex-direction: column;align-items: center;background-color: white;padding-right: 0.2em;padding-left: 0.2em;position: relative;}#sk-container-id-4 div.sk-item {position: relative;z-index: 1;}#sk-container-id-4 div.sk-parallel {display: flex;align-items: stretch;justify-content: center;background-color: white;position: relative;}#sk-container-id-4 div.sk-item::before, #sk-container-id-4 div.sk-parallel-item::before {content: \"\";position: absolute;border-left: 1px solid gray;box-sizing: border-box;top: 0;bottom: 0;left: 50%;z-index: -1;}#sk-container-id-4 div.sk-parallel-item {display: flex;flex-direction: column;z-index: 1;position: relative;background-color: white;}#sk-container-id-4 div.sk-parallel-item:first-child::after {align-self: flex-end;width: 50%;}#sk-container-id-4 div.sk-parallel-item:last-child::after {align-self: flex-start;width: 50%;}#sk-container-id-4 div.sk-parallel-item:only-child::after {width: 0;}#sk-container-id-4 div.sk-dashed-wrapped {border: 1px dashed gray;margin: 0 0.4em 0.5em 0.4em;box-sizing: border-box;padding-bottom: 0.4em;background-color: white;}#sk-container-id-4 div.sk-label label {font-family: monospace;font-weight: bold;display: inline-block;line-height: 1.2em;}#sk-container-id-4 div.sk-label-container {text-align: center;}#sk-container-id-4 div.sk-container {/* jupyter's `normalize.less` sets `[hidden] { display: none; }` but bootstrap.min.css set `[hidden] { display: none !important; }` so we also need the `!important` here to be able to override the default hidden behavior on the sphinx rendered scikit-learn.org. See: https://github.com/scikit-learn/scikit-learn/issues/21755 */display: inline-block !important;position: relative;}#sk-container-id-4 div.sk-text-repr-fallback {display: none;}</style><div id=\"sk-container-id-4\" class=\"sk-top-container\"><div class=\"sk-text-repr-fallback\"><pre>SVC(C=100, gamma=0.01)</pre><b>In a Jupyter environment, please rerun this cell to show the HTML representation or trust the notebook. <br />On GitHub, the HTML representation is unable to render, please try loading this page with nbviewer.org.</b></div><div class=\"sk-container\" hidden><div class=\"sk-item\"><div class=\"sk-estimator sk-toggleable\"><input class=\"sk-toggleable__control sk-hidden--visually\" id=\"sk-estimator-id-4\" type=\"checkbox\" checked><label for=\"sk-estimator-id-4\" class=\"sk-toggleable__label sk-toggleable__label-arrow\">SVC</label><div class=\"sk-toggleable__content\"><pre>SVC(C=100, gamma=0.01)</pre></div></div></div></div></div>"
      ],
      "text/plain": [
       "SVC(C=100, gamma=0.01)"
      ]
     },
     "execution_count": 66,
     "metadata": {},
     "output_type": "execute_result"
    }
   ],
   "source": [
    "# Train the model by calling a method fit()\n",
    "svm_2.fit(X_train,y_train)"
   ]
  },
  {
   "cell_type": "code",
   "execution_count": 67,
   "id": "99701204",
   "metadata": {
    "scrolled": false
   },
   "outputs": [],
   "source": [
    "svm2_metrics, y_preds_test_svm2, y_preds_train_svm2 = get_metrics(svm_2, \n",
    "                                                    X_train, X_test, y_train, y_test)"
   ]
  },
  {
   "cell_type": "code",
   "execution_count": 68,
   "id": "4c0a4605",
   "metadata": {},
   "outputs": [
    {
     "data": {
      "text/html": [
       "<div>\n",
       "<style scoped>\n",
       "    .dataframe tbody tr th:only-of-type {\n",
       "        vertical-align: middle;\n",
       "    }\n",
       "\n",
       "    .dataframe tbody tr th {\n",
       "        vertical-align: top;\n",
       "    }\n",
       "\n",
       "    .dataframe thead th {\n",
       "        text-align: right;\n",
       "    }\n",
       "</style>\n",
       "<table border=\"1\" class=\"dataframe\">\n",
       "  <thead>\n",
       "    <tr style=\"text-align: right;\">\n",
       "      <th></th>\n",
       "      <th>model</th>\n",
       "      <th>accuracy</th>\n",
       "      <th>f1_score</th>\n",
       "      <th>QWK</th>\n",
       "      <th>MAE</th>\n",
       "      <th>sp_class_error</th>\n",
       "    </tr>\n",
       "  </thead>\n",
       "  <tbody>\n",
       "    <tr>\n",
       "      <th>0</th>\n",
       "      <td>SVC(C=100, gamma=0.01)</td>\n",
       "      <td>0.90367</td>\n",
       "      <td>0.90338</td>\n",
       "      <td>0.976496</td>\n",
       "      <td>0.100917</td>\n",
       "      <td>0.100917</td>\n",
       "    </tr>\n",
       "  </tbody>\n",
       "</table>\n",
       "</div>"
      ],
      "text/plain": [
       "                    model  accuracy  f1_score       QWK       MAE  \\\n",
       "0  SVC(C=100, gamma=0.01)   0.90367   0.90338  0.976496  0.100917   \n",
       "\n",
       "   sp_class_error  \n",
       "0        0.100917  "
      ]
     },
     "execution_count": 68,
     "metadata": {},
     "output_type": "execute_result"
    }
   ],
   "source": [
    "svm2_metrics"
   ]
  },
  {
   "cell_type": "code",
   "execution_count": 36,
   "id": "386bd4ef",
   "metadata": {},
   "outputs": [
    {
     "data": {
      "image/png": "[encoded data removed]",
      "text/plain": [
       "<Figure size 640x480 with 1 Axes>"
      ]
     },
     "metadata": {},
     "output_type": "display_data"
    }
   ],
   "source": [
    "plot_confusion_matrix(y_test, y_preds_test_svm2, 'SVM Classifier (Tuned)')"
   ]
  },
  {
   "cell_type": "code",
   "execution_count": 51,
   "id": "316ff417",
   "metadata": {},
   "outputs": [],
   "source": [
    "#saving best model \n",
    "#dump(svmModel_2, filename='saved_models/svmModel.py')"
   ]
  },
  {
   "cell_type": "code",
   "execution_count": 64,
   "id": "fbf208b2",
   "metadata": {},
   "outputs": [
    {
     "data": {
      "text/plain": [
       "0.9035756454865573"
      ]
     },
     "execution_count": 64,
     "metadata": {},
     "output_type": "execute_result"
    }
   ],
   "source": [
    "#k-fold cross validation using stratified K_fold\n",
    "s_cv_svc = SVC(C=100, gamma=0.01 , kernel='rbf')\n",
    "\n",
    "s_kfold = StratifiedKFold(n_splits=5, shuffle=True, random_state=1)\n",
    "\n",
    "cross_val_score(s_cv_svc, X, y, scoring='accuracy', cv = s_kfold).mean()"
   ]
  },
  {
   "cell_type": "markdown",
   "id": "9fdfc8e7",
   "metadata": {},
   "source": [
    "------\n",
    "# 4. Principal Component Analysis\n",
    "\n",
    "- https://scikit-learn.org/stable/modules/generated/sklearn.decomposition.PCA.html\n",
    "- https://ogrisel.github.io/scikit-learn.org/sklearn-tutorial/tutorial/astronomy/dimensionality_reduction.html"
   ]
  },
  {
   "cell_type": "markdown",
   "id": "708a9901",
   "metadata": {},
   "source": [
    "\n",
    "First step involved in PCA is determining the number of components I want to leave in the model:"
   ]
  },
  {
   "cell_type": "code",
   "execution_count": 69,
   "id": "78f965f8",
   "metadata": {},
   "outputs": [
    {
     "data": {
      "text/plain": [
       "(3508, 2180)"
      ]
     },
     "execution_count": 69,
     "metadata": {},
     "output_type": "execute_result"
    }
   ],
   "source": [
    "n_features = X.shape[1]\n",
    "n_samples = X.shape[0]\n",
    "n_features, n_samples"
   ]
  },
  {
   "cell_type": "code",
   "execution_count": 71,
   "id": "466d2346",
   "metadata": {},
   "outputs": [
    {
     "name": "stdout",
     "output_type": "stream",
     "text": [
      "max number of components: 2180\n"
     ]
    }
   ],
   "source": [
    "n_components = min(n_samples, n_features)\n",
    "print(f'max number of components: {n_components}')"
   ]
  },
  {
   "cell_type": "code",
   "execution_count": 72,
   "id": "6d0d25ef",
   "metadata": {},
   "outputs": [],
   "source": [
    "#setting n_components at None includes all principal components\n",
    "pca = PCA(n_components=None)"
   ]
  },
  {
   "cell_type": "code",
   "execution_count": 73,
   "id": "33cba722",
   "metadata": {},
   "outputs": [],
   "source": [
    "#fitting the model to the dataset\n",
    "X_pca = pca.fit_transform(X)"
   ]
  },
  {
   "cell_type": "code",
   "execution_count": 74,
   "id": "985336fd",
   "metadata": {},
   "outputs": [],
   "source": [
    "# Store the explained variance and explained variance ratio\n",
    "explained_variance_ratio = pca.explained_variance_ratio_\n",
    "explained_variance = pca.explained_variance_"
   ]
  },
  {
   "cell_type": "code",
   "execution_count": 75,
   "id": "cd599374",
   "metadata": {},
   "outputs": [],
   "source": [
    "#getting the cumulative sum of the variance ratioe\n",
    "cumulative_explained_variance_ratio = np.cumsum(explained_variance_ratio)"
   ]
  },
  {
   "cell_type": "code",
   "execution_count": 76,
   "id": "95fe115d",
   "metadata": {},
   "outputs": [],
   "source": [
    "#getting list of principal components\n",
    "pcs = np.arange(1, len(explained_variance_ratio) + 1)"
   ]
  },
  {
   "cell_type": "code",
   "execution_count": 77,
   "id": "281f0ef5",
   "metadata": {},
   "outputs": [
    {
     "data": {
      "text/html": [
       "<div>\n",
       "<style scoped>\n",
       "    .dataframe tbody tr th:only-of-type {\n",
       "        vertical-align: middle;\n",
       "    }\n",
       "\n",
       "    .dataframe tbody tr th {\n",
       "        vertical-align: top;\n",
       "    }\n",
       "\n",
       "    .dataframe thead th {\n",
       "        text-align: right;\n",
       "    }\n",
       "</style>\n",
       "<table border=\"1\" class=\"dataframe\">\n",
       "  <thead>\n",
       "    <tr style=\"text-align: right;\">\n",
       "      <th></th>\n",
       "      <th>principal_component</th>\n",
       "      <th>explained_variance</th>\n",
       "      <th>explained_variance_ratio</th>\n",
       "      <th>cumulative_variance_ratio</th>\n",
       "    </tr>\n",
       "  </thead>\n",
       "  <tbody>\n",
       "    <tr>\n",
       "      <th>0</th>\n",
       "      <td>1</td>\n",
       "      <td>1026.506841</td>\n",
       "      <td>0.712334</td>\n",
       "      <td>0.712334</td>\n",
       "    </tr>\n",
       "    <tr>\n",
       "      <th>1</th>\n",
       "      <td>2</td>\n",
       "      <td>386.310495</td>\n",
       "      <td>0.268076</td>\n",
       "      <td>0.980410</td>\n",
       "    </tr>\n",
       "    <tr>\n",
       "      <th>2</th>\n",
       "      <td>3</td>\n",
       "      <td>9.106523</td>\n",
       "      <td>0.006319</td>\n",
       "      <td>0.986729</td>\n",
       "    </tr>\n",
       "    <tr>\n",
       "      <th>3</th>\n",
       "      <td>4</td>\n",
       "      <td>7.009041</td>\n",
       "      <td>0.004864</td>\n",
       "      <td>0.991593</td>\n",
       "    </tr>\n",
       "    <tr>\n",
       "      <th>4</th>\n",
       "      <td>5</td>\n",
       "      <td>3.453984</td>\n",
       "      <td>0.002397</td>\n",
       "      <td>0.993990</td>\n",
       "    </tr>\n",
       "    <tr>\n",
       "      <th>5</th>\n",
       "      <td>6</td>\n",
       "      <td>1.767375</td>\n",
       "      <td>0.001226</td>\n",
       "      <td>0.995217</td>\n",
       "    </tr>\n",
       "    <tr>\n",
       "      <th>6</th>\n",
       "      <td>7</td>\n",
       "      <td>1.127503</td>\n",
       "      <td>0.000782</td>\n",
       "      <td>0.995999</td>\n",
       "    </tr>\n",
       "    <tr>\n",
       "      <th>7</th>\n",
       "      <td>8</td>\n",
       "      <td>0.854041</td>\n",
       "      <td>0.000593</td>\n",
       "      <td>0.996592</td>\n",
       "    </tr>\n",
       "    <tr>\n",
       "      <th>8</th>\n",
       "      <td>9</td>\n",
       "      <td>0.671427</td>\n",
       "      <td>0.000466</td>\n",
       "      <td>0.997058</td>\n",
       "    </tr>\n",
       "    <tr>\n",
       "      <th>9</th>\n",
       "      <td>10</td>\n",
       "      <td>0.453266</td>\n",
       "      <td>0.000315</td>\n",
       "      <td>0.997372</td>\n",
       "    </tr>\n",
       "  </tbody>\n",
       "</table>\n",
       "</div>"
      ],
      "text/plain": [
       "   principal_component  explained_variance  explained_variance_ratio  \\\n",
       "0                    1         1026.506841                  0.712334   \n",
       "1                    2          386.310495                  0.268076   \n",
       "2                    3            9.106523                  0.006319   \n",
       "3                    4            7.009041                  0.004864   \n",
       "4                    5            3.453984                  0.002397   \n",
       "5                    6            1.767375                  0.001226   \n",
       "6                    7            1.127503                  0.000782   \n",
       "7                    8            0.854041                  0.000593   \n",
       "8                    9            0.671427                  0.000466   \n",
       "9                   10            0.453266                  0.000315   \n",
       "\n",
       "   cumulative_variance_ratio  \n",
       "0                   0.712334  \n",
       "1                   0.980410  \n",
       "2                   0.986729  \n",
       "3                   0.991593  \n",
       "4                   0.993990  \n",
       "5                   0.995217  \n",
       "6                   0.995999  \n",
       "7                   0.996592  \n",
       "8                   0.997058  \n",
       "9                   0.997372  "
      ]
     },
     "execution_count": 77,
     "metadata": {},
     "output_type": "execute_result"
    }
   ],
   "source": [
    "pc_df= pd.DataFrame({'principal_component':pcs,\n",
    "                     'explained_variance':explained_variance,\n",
    "                     'explained_variance_ratio':explained_variance_ratio,\n",
    "                     'cumulative_variance_ratio':cumulative_explained_variance_ratio})\n",
    "pc_df.head(10)"
   ]
  },
  {
   "cell_type": "code",
   "execution_count": 79,
   "id": "a931e099",
   "metadata": {},
   "outputs": [
    {
     "data": {
      "image/png": "[encoded data removed]",
      "text/plain": [
       "<Figure size 1000x500 with 1 Axes>"
      ]
     },
     "metadata": {},
     "output_type": "display_data"
    }
   ],
   "source": [
    "# Plot cumulative explained variance\n",
    "plt.figure(figsize=(10, 5))\n",
    "plt.plot(pc_df['principal_component'], pc_df['explained_variance_ratio'], \n",
    "         marker='o', linestyle=':')\n",
    "plt.xlabel('Number of Principal Components')\n",
    "plt.ylabel('Explained Variance Ratio')\n",
    "plt.title('plot of explained variance ratio for each PC')\n",
    "#plt.grid(True)\n",
    "plt.show()"
   ]
  },
  {
   "cell_type": "markdown",
   "id": "b4c9c9b5",
   "metadata": {},
   "source": [
    "**Note**: PCA loadings are the coefficients of the linear combination of the original variables from which the principal components (PCs) are constructed.\n",
    "\n",
    "ref: https://scentellegher.github.io/machine-learning/2020/01/27/pca-loadings-sklearn.html#:~:text=PCA%20loadings%20are%20the%20coefficients,components%20(PCs)%20are%20constructed."
   ]
  },
  {
   "cell_type": "code",
   "execution_count": 80,
   "id": "18014c55",
   "metadata": {},
   "outputs": [
    {
     "data": {
      "text/html": [
       "<div>\n",
       "<style scoped>\n",
       "    .dataframe tbody tr th:only-of-type {\n",
       "        vertical-align: middle;\n",
       "    }\n",
       "\n",
       "    .dataframe tbody tr th {\n",
       "        vertical-align: top;\n",
       "    }\n",
       "\n",
       "    .dataframe thead th {\n",
       "        text-align: right;\n",
       "    }\n",
       "</style>\n",
       "<table border=\"1\" class=\"dataframe\">\n",
       "  <thead>\n",
       "    <tr style=\"text-align: right;\">\n",
       "      <th></th>\n",
       "      <th>PC1</th>\n",
       "      <th>PC2</th>\n",
       "      <th>PC3</th>\n",
       "      <th>PC4</th>\n",
       "      <th>PC5</th>\n",
       "      <th>PC6</th>\n",
       "      <th>PC7</th>\n",
       "      <th>PC8</th>\n",
       "      <th>PC9</th>\n",
       "      <th>PC10</th>\n",
       "      <th>...</th>\n",
       "      <th>PC2171</th>\n",
       "      <th>PC2172</th>\n",
       "      <th>PC2173</th>\n",
       "      <th>PC2174</th>\n",
       "      <th>PC2175</th>\n",
       "      <th>PC2176</th>\n",
       "      <th>PC2177</th>\n",
       "      <th>PC2178</th>\n",
       "      <th>PC2179</th>\n",
       "      <th>PC2180</th>\n",
       "    </tr>\n",
       "  </thead>\n",
       "  <tbody>\n",
       "    <tr>\n",
       "      <th>flux_0</th>\n",
       "      <td>-0.014314</td>\n",
       "      <td>0.044682</td>\n",
       "      <td>0.032040</td>\n",
       "      <td>-0.053119</td>\n",
       "      <td>0.055176</td>\n",
       "      <td>-0.018573</td>\n",
       "      <td>-0.005935</td>\n",
       "      <td>-0.020799</td>\n",
       "      <td>-0.013866</td>\n",
       "      <td>0.012960</td>\n",
       "      <td>...</td>\n",
       "      <td>-0.097770</td>\n",
       "      <td>-0.064483</td>\n",
       "      <td>-0.086648</td>\n",
       "      <td>-0.000123</td>\n",
       "      <td>-0.113679</td>\n",
       "      <td>-0.094827</td>\n",
       "      <td>-0.015036</td>\n",
       "      <td>-0.000329</td>\n",
       "      <td>0.003624</td>\n",
       "      <td>-0.039446</td>\n",
       "    </tr>\n",
       "    <tr>\n",
       "      <th>flux_1</th>\n",
       "      <td>-0.014461</td>\n",
       "      <td>0.045542</td>\n",
       "      <td>0.032258</td>\n",
       "      <td>-0.052418</td>\n",
       "      <td>0.046114</td>\n",
       "      <td>-0.014962</td>\n",
       "      <td>-0.008656</td>\n",
       "      <td>-0.018573</td>\n",
       "      <td>-0.013827</td>\n",
       "      <td>0.014760</td>\n",
       "      <td>...</td>\n",
       "      <td>0.095582</td>\n",
       "      <td>0.114089</td>\n",
       "      <td>0.071231</td>\n",
       "      <td>-0.015310</td>\n",
       "      <td>0.144529</td>\n",
       "      <td>0.127114</td>\n",
       "      <td>0.057191</td>\n",
       "      <td>-0.003650</td>\n",
       "      <td>-0.002615</td>\n",
       "      <td>0.093204</td>\n",
       "    </tr>\n",
       "    <tr>\n",
       "      <th>flux_2</th>\n",
       "      <td>-0.014566</td>\n",
       "      <td>0.046438</td>\n",
       "      <td>0.034855</td>\n",
       "      <td>-0.053970</td>\n",
       "      <td>0.035707</td>\n",
       "      <td>-0.020401</td>\n",
       "      <td>-0.013480</td>\n",
       "      <td>-0.020080</td>\n",
       "      <td>-0.014243</td>\n",
       "      <td>0.002116</td>\n",
       "      <td>...</td>\n",
       "      <td>-0.000023</td>\n",
       "      <td>-0.039275</td>\n",
       "      <td>-0.016425</td>\n",
       "      <td>-0.020904</td>\n",
       "      <td>-0.028842</td>\n",
       "      <td>-0.038251</td>\n",
       "      <td>-0.063236</td>\n",
       "      <td>0.003154</td>\n",
       "      <td>0.003179</td>\n",
       "      <td>-0.058574</td>\n",
       "    </tr>\n",
       "    <tr>\n",
       "      <th>flux_3</th>\n",
       "      <td>-0.014346</td>\n",
       "      <td>0.046996</td>\n",
       "      <td>0.035213</td>\n",
       "      <td>-0.055392</td>\n",
       "      <td>0.029396</td>\n",
       "      <td>-0.017842</td>\n",
       "      <td>-0.017321</td>\n",
       "      <td>-0.013675</td>\n",
       "      <td>-0.016910</td>\n",
       "      <td>-0.007467</td>\n",
       "      <td>...</td>\n",
       "      <td>-0.014086</td>\n",
       "      <td>0.003832</td>\n",
       "      <td>0.058178</td>\n",
       "      <td>0.024910</td>\n",
       "      <td>0.015903</td>\n",
       "      <td>-0.025274</td>\n",
       "      <td>0.075006</td>\n",
       "      <td>0.004013</td>\n",
       "      <td>-0.014535</td>\n",
       "      <td>0.048294</td>\n",
       "    </tr>\n",
       "    <tr>\n",
       "      <th>flux_4</th>\n",
       "      <td>-0.014200</td>\n",
       "      <td>0.047671</td>\n",
       "      <td>0.035652</td>\n",
       "      <td>-0.056043</td>\n",
       "      <td>0.021777</td>\n",
       "      <td>-0.020870</td>\n",
       "      <td>-0.022101</td>\n",
       "      <td>-0.012486</td>\n",
       "      <td>-0.017836</td>\n",
       "      <td>-0.012276</td>\n",
       "      <td>...</td>\n",
       "      <td>0.021029</td>\n",
       "      <td>-0.074868</td>\n",
       "      <td>0.010664</td>\n",
       "      <td>-0.044582</td>\n",
       "      <td>-0.036797</td>\n",
       "      <td>0.011125</td>\n",
       "      <td>-0.077255</td>\n",
       "      <td>0.006679</td>\n",
       "      <td>0.017641</td>\n",
       "      <td>-0.101458</td>\n",
       "    </tr>\n",
       "  </tbody>\n",
       "</table>\n",
       "<p>5 rows × 2180 columns</p>\n",
       "</div>"
      ],
      "text/plain": [
       "             PC1       PC2       PC3       PC4       PC5       PC6       PC7  \\\n",
       "flux_0 -0.014314  0.044682  0.032040 -0.053119  0.055176 -0.018573 -0.005935   \n",
       "flux_1 -0.014461  0.045542  0.032258 -0.052418  0.046114 -0.014962 -0.008656   \n",
       "flux_2 -0.014566  0.046438  0.034855 -0.053970  0.035707 -0.020401 -0.013480   \n",
       "flux_3 -0.014346  0.046996  0.035213 -0.055392  0.029396 -0.017842 -0.017321   \n",
       "flux_4 -0.014200  0.047671  0.035652 -0.056043  0.021777 -0.020870 -0.022101   \n",
       "\n",
       "             PC8       PC9      PC10  ...    PC2171    PC2172    PC2173  \\\n",
       "flux_0 -0.020799 -0.013866  0.012960  ... -0.097770 -0.064483 -0.086648   \n",
       "flux_1 -0.018573 -0.013827  0.014760  ...  0.095582  0.114089  0.071231   \n",
       "flux_2 -0.020080 -0.014243  0.002116  ... -0.000023 -0.039275 -0.016425   \n",
       "flux_3 -0.013675 -0.016910 -0.007467  ... -0.014086  0.003832  0.058178   \n",
       "flux_4 -0.012486 -0.017836 -0.012276  ...  0.021029 -0.074868  0.010664   \n",
       "\n",
       "          PC2174    PC2175    PC2176    PC2177    PC2178    PC2179    PC2180  \n",
       "flux_0 -0.000123 -0.113679 -0.094827 -0.015036 -0.000329  0.003624 -0.039446  \n",
       "flux_1 -0.015310  0.144529  0.127114  0.057191 -0.003650 -0.002615  0.093204  \n",
       "flux_2 -0.020904 -0.028842 -0.038251 -0.063236  0.003154  0.003179 -0.058574  \n",
       "flux_3  0.024910  0.015903 -0.025274  0.075006  0.004013 -0.014535  0.048294  \n",
       "flux_4 -0.044582 -0.036797  0.011125 -0.077255  0.006679  0.017641 -0.101458  \n",
       "\n",
       "[5 rows x 2180 columns]"
      ]
     },
     "execution_count": 80,
     "metadata": {},
     "output_type": "execute_result"
    }
   ],
   "source": [
    "#constructing the loading dataframe to see how each feature contributes to each PC\n",
    "loadings_df = pd.DataFrame(pca.components_.T, \n",
    "                           columns=[f'PC{i+1}' for i in range(pca.components_.shape[0])], \n",
    "                           index=[f'flux_{i}' for i in range(pca.components_.shape[1])])\n",
    "\n",
    "loadings_df.head()\n",
    "#could use this to interpret the most/least significant features"
   ]
  },
  {
   "cell_type": "markdown",
   "id": "a347b529",
   "metadata": {},
   "source": [
    "**Notes on PCs used in literature**: \n",
    "\n",
    "- 280, 400, 700 principal components used in Kheirdastan et al.(https://arxiv.org/pdf/1609.03147.pdf) with 700 concluded as best. \n",
    "\n",
    "-  It is desirable to reduce the dimensionality of this data array to obtain an n × p array where p p m since it will help to significantly reduce the ANN computational time and to build a simpler network. singh et al. (https://academic.oup.com/mnras/article/295/2/312/987486) Even the first two components account for 95.8 per cent of the variance and if used will give an impressive data compression of 330 : 1. An enormous reduction in the dimensionality of the data array has been achieved. show the reconstructed spectra for stars of four different spectral types out of the 158 test spectra by using the first 20, 10, five, two and one principal components.\n",
    "\n",
    "- The quality of reconstruction increases dramatically over the first 25 or so eigenvectors. Bailer-Jones et al. (https://academic.oup.com/mnras/article/298/2/361/1056578)\n"
   ]
  },
  {
   "cell_type": "code",
   "execution_count": 81,
   "id": "aaa6ddfb",
   "metadata": {
    "scrolled": true
   },
   "outputs": [
    {
     "data": {
      "text/plain": [
       "24"
      ]
     },
     "execution_count": 81,
     "metadata": {},
     "output_type": "execute_result"
    }
   ],
   "source": [
    "#determining the number of principal components for the cumulative variance ratio to be at least 0.999\n",
    "list(pc_df[pc_df['cumulative_variance_ratio']>0.999].principal_component)[0]"
   ]
  },
  {
   "cell_type": "markdown",
   "id": "5ca7739a",
   "metadata": {},
   "source": [
    "### 4.1 using 24 principal components from data"
   ]
  },
  {
   "cell_type": "code",
   "execution_count": 92,
   "id": "509c4d95",
   "metadata": {},
   "outputs": [],
   "source": [
    "#using 24 principal components\n",
    "#setting n_components at None includes all principal components\n",
    "pca = PCA(n_components=24)"
   ]
  },
  {
   "cell_type": "code",
   "execution_count": 93,
   "id": "55e4dfc0",
   "metadata": {},
   "outputs": [],
   "source": [
    "X_pca = pca.fit_transform(X)"
   ]
  },
  {
   "cell_type": "code",
   "execution_count": 94,
   "id": "8bb36e7a",
   "metadata": {},
   "outputs": [],
   "source": [
    "X_train_pca = pca.fit_transform(X_train)\n",
    "X_test_pca = pca.transform(X_test)"
   ]
  },
  {
   "cell_type": "code",
   "execution_count": 90,
   "id": "cf20fc38",
   "metadata": {},
   "outputs": [
    {
     "data": {
      "text/plain": [
       "((1744, 24), (1744, 3508), (436, 24), (436, 3508))"
      ]
     },
     "execution_count": 90,
     "metadata": {},
     "output_type": "execute_result"
    }
   ],
   "source": [
    "X_train_pca.shape, X_train.shape, X_test_pca.shape, X_test.shape"
   ]
  },
  {
   "cell_type": "code",
   "execution_count": 91,
   "id": "9f19fbcd",
   "metadata": {},
   "outputs": [
    {
     "name": "stdout",
     "output_type": "stream",
     "text": [
      "training data reduced by 99.3158% after PCA applied\n"
     ]
    }
   ],
   "source": [
    "compression_ratio = 100 - ((X_train_pca.shape[1]) / (X_train.shape[1]))*100\n",
    "print(f'training data reduced by {compression_ratio:.4f}% after PCA applied')"
   ]
  },
  {
   "cell_type": "markdown",
   "id": "63e6c45a",
   "metadata": {},
   "source": [
    "## 4.2 Applying PCA reduced training data to Models previously utilised"
   ]
  },
  {
   "cell_type": "markdown",
   "id": "a9fd0287",
   "metadata": {},
   "source": [
    "### 4.2.1 PCA1: Random Forest Classifier"
   ]
  },
  {
   "cell_type": "code",
   "execution_count": 95,
   "id": "b2311dc7",
   "metadata": {},
   "outputs": [
    {
     "data": {
      "text/html": [
       "<style>#sk-container-id-5 {color: black;background-color: white;}#sk-container-id-5 pre{padding: 0;}#sk-container-id-5 div.sk-toggleable {background-color: white;}#sk-container-id-5 label.sk-toggleable__label {cursor: pointer;display: block;width: 100%;margin-bottom: 0;padding: 0.3em;box-sizing: border-box;text-align: center;}#sk-container-id-5 label.sk-toggleable__label-arrow:before {content: \"▸\";float: left;margin-right: 0.25em;color: #696969;}#sk-container-id-5 label.sk-toggleable__label-arrow:hover:before {color: black;}#sk-container-id-5 div.sk-estimator:hover label.sk-toggleable__label-arrow:before {color: black;}#sk-container-id-5 div.sk-toggleable__content {max-height: 0;max-width: 0;overflow: hidden;text-align: left;background-color: #f0f8ff;}#sk-container-id-5 div.sk-toggleable__content pre {margin: 0.2em;color: black;border-radius: 0.25em;background-color: #f0f8ff;}#sk-container-id-5 input.sk-toggleable__control:checked~div.sk-toggleable__content {max-height: 200px;max-width: 100%;overflow: auto;}#sk-container-id-5 input.sk-toggleable__control:checked~label.sk-toggleable__label-arrow:before {content: \"▾\";}#sk-container-id-5 div.sk-estimator input.sk-toggleable__control:checked~label.sk-toggleable__label {background-color: #d4ebff;}#sk-container-id-5 div.sk-label input.sk-toggleable__control:checked~label.sk-toggleable__label {background-color: #d4ebff;}#sk-container-id-5 input.sk-hidden--visually {border: 0;clip: rect(1px 1px 1px 1px);clip: rect(1px, 1px, 1px, 1px);height: 1px;margin: -1px;overflow: hidden;padding: 0;position: absolute;width: 1px;}#sk-container-id-5 div.sk-estimator {font-family: monospace;background-color: #f0f8ff;border: 1px dotted black;border-radius: 0.25em;box-sizing: border-box;margin-bottom: 0.5em;}#sk-container-id-5 div.sk-estimator:hover {background-color: #d4ebff;}#sk-container-id-5 div.sk-parallel-item::after {content: \"\";width: 100%;border-bottom: 1px solid gray;flex-grow: 1;}#sk-container-id-5 div.sk-label:hover label.sk-toggleable__label {background-color: #d4ebff;}#sk-container-id-5 div.sk-serial::before {content: \"\";position: absolute;border-left: 1px solid gray;box-sizing: border-box;top: 0;bottom: 0;left: 50%;z-index: 0;}#sk-container-id-5 div.sk-serial {display: flex;flex-direction: column;align-items: center;background-color: white;padding-right: 0.2em;padding-left: 0.2em;position: relative;}#sk-container-id-5 div.sk-item {position: relative;z-index: 1;}#sk-container-id-5 div.sk-parallel {display: flex;align-items: stretch;justify-content: center;background-color: white;position: relative;}#sk-container-id-5 div.sk-item::before, #sk-container-id-5 div.sk-parallel-item::before {content: \"\";position: absolute;border-left: 1px solid gray;box-sizing: border-box;top: 0;bottom: 0;left: 50%;z-index: -1;}#sk-container-id-5 div.sk-parallel-item {display: flex;flex-direction: column;z-index: 1;position: relative;background-color: white;}#sk-container-id-5 div.sk-parallel-item:first-child::after {align-self: flex-end;width: 50%;}#sk-container-id-5 div.sk-parallel-item:last-child::after {align-self: flex-start;width: 50%;}#sk-container-id-5 div.sk-parallel-item:only-child::after {width: 0;}#sk-container-id-5 div.sk-dashed-wrapped {border: 1px dashed gray;margin: 0 0.4em 0.5em 0.4em;box-sizing: border-box;padding-bottom: 0.4em;background-color: white;}#sk-container-id-5 div.sk-label label {font-family: monospace;font-weight: bold;display: inline-block;line-height: 1.2em;}#sk-container-id-5 div.sk-label-container {text-align: center;}#sk-container-id-5 div.sk-container {/* jupyter's `normalize.less` sets `[hidden] { display: none; }` but bootstrap.min.css set `[hidden] { display: none !important; }` so we also need the `!important` here to be able to override the default hidden behavior on the sphinx rendered scikit-learn.org. See: https://github.com/scikit-learn/scikit-learn/issues/21755 */display: inline-block !important;position: relative;}#sk-container-id-5 div.sk-text-repr-fallback {display: none;}</style><div id=\"sk-container-id-5\" class=\"sk-top-container\"><div class=\"sk-text-repr-fallback\"><pre>RandomForestClassifier(max_depth=10, n_estimators=500, random_state=42)</pre><b>In a Jupyter environment, please rerun this cell to show the HTML representation or trust the notebook. <br />On GitHub, the HTML representation is unable to render, please try loading this page with nbviewer.org.</b></div><div class=\"sk-container\" hidden><div class=\"sk-item\"><div class=\"sk-estimator sk-toggleable\"><input class=\"sk-toggleable__control sk-hidden--visually\" id=\"sk-estimator-id-5\" type=\"checkbox\" checked><label for=\"sk-estimator-id-5\" class=\"sk-toggleable__label sk-toggleable__label-arrow\">RandomForestClassifier</label><div class=\"sk-toggleable__content\"><pre>RandomForestClassifier(max_depth=10, n_estimators=500, random_state=42)</pre></div></div></div></div></div>"
      ],
      "text/plain": [
       "RandomForestClassifier(max_depth=10, n_estimators=500, random_state=42)"
      ]
     },
     "execution_count": 95,
     "metadata": {},
     "output_type": "execute_result"
    }
   ],
   "source": [
    "rf_pca = RandomForestClassifier(n_estimators = 500, max_depth = 10, min_samples_split=2, \n",
    "                              min_samples_leaf=1, random_state=42)\n",
    "\n",
    "rf_pca.fit(X_train_pca, y_train)"
   ]
  },
  {
   "cell_type": "code",
   "execution_count": 96,
   "id": "fc38686a",
   "metadata": {
    "scrolled": false
   },
   "outputs": [],
   "source": [
    "rf_pca_metrics, y_preds_test_rfpca, y_preds_train_rfpca = get_metrics(rf_pca,\n",
    "                                                      X_train_pca, X_test_pca, y_train, y_test)"
   ]
  },
  {
   "cell_type": "code",
   "execution_count": 97,
   "id": "27027229",
   "metadata": {},
   "outputs": [
    {
     "data": {
      "text/html": [
       "<div>\n",
       "<style scoped>\n",
       "    .dataframe tbody tr th:only-of-type {\n",
       "        vertical-align: middle;\n",
       "    }\n",
       "\n",
       "    .dataframe tbody tr th {\n",
       "        vertical-align: top;\n",
       "    }\n",
       "\n",
       "    .dataframe thead th {\n",
       "        text-align: right;\n",
       "    }\n",
       "</style>\n",
       "<table border=\"1\" class=\"dataframe\">\n",
       "  <thead>\n",
       "    <tr style=\"text-align: right;\">\n",
       "      <th></th>\n",
       "      <th>model</th>\n",
       "      <th>accuracy</th>\n",
       "      <th>f1_score</th>\n",
       "      <th>QWK</th>\n",
       "      <th>MAE</th>\n",
       "      <th>sp_class_error</th>\n",
       "    </tr>\n",
       "  </thead>\n",
       "  <tbody>\n",
       "    <tr>\n",
       "      <th>0</th>\n",
       "      <td>RandomForestClassifier(max_depth=10, n_estimat...</td>\n",
       "      <td>0.905963</td>\n",
       "      <td>0.905781</td>\n",
       "      <td>0.97989</td>\n",
       "      <td>0.094037</td>\n",
       "      <td>0.094037</td>\n",
       "    </tr>\n",
       "  </tbody>\n",
       "</table>\n",
       "</div>"
      ],
      "text/plain": [
       "                                               model  accuracy  f1_score  \\\n",
       "0  RandomForestClassifier(max_depth=10, n_estimat...  0.905963  0.905781   \n",
       "\n",
       "       QWK       MAE  sp_class_error  \n",
       "0  0.97989  0.094037        0.094037  "
      ]
     },
     "execution_count": 97,
     "metadata": {},
     "output_type": "execute_result"
    }
   ],
   "source": [
    "rf_pca_metrics"
   ]
  },
  {
   "cell_type": "code",
   "execution_count": 47,
   "id": "0b635c58",
   "metadata": {},
   "outputs": [
    {
     "data": {
      "image/png": "[encoded data removed]",
      "text/plain": [
       "<Figure size 640x480 with 1 Axes>"
      ]
     },
     "metadata": {},
     "output_type": "display_data"
    }
   ],
   "source": [
    "plot_confusion_matrix(y_test, y_preds_test_rfpca, 'Random Forest Classifier (PCA)')"
   ]
  },
  {
   "cell_type": "code",
   "execution_count": 48,
   "id": "e2f413be",
   "metadata": {},
   "outputs": [],
   "source": [
    "#saving RF pca model\n",
    "#dump(rf_pca, filename='saved_models/RFModel_pca.py')"
   ]
  },
  {
   "cell_type": "markdown",
   "id": "7bdae044",
   "metadata": {},
   "source": [
    "## 4.2.2 PCA2: SVM Classifier"
   ]
  },
  {
   "cell_type": "code",
   "execution_count": 98,
   "id": "0040d58a",
   "metadata": {},
   "outputs": [
    {
     "data": {
      "text/html": [
       "<style>#sk-container-id-6 {color: black;background-color: white;}#sk-container-id-6 pre{padding: 0;}#sk-container-id-6 div.sk-toggleable {background-color: white;}#sk-container-id-6 label.sk-toggleable__label {cursor: pointer;display: block;width: 100%;margin-bottom: 0;padding: 0.3em;box-sizing: border-box;text-align: center;}#sk-container-id-6 label.sk-toggleable__label-arrow:before {content: \"▸\";float: left;margin-right: 0.25em;color: #696969;}#sk-container-id-6 label.sk-toggleable__label-arrow:hover:before {color: black;}#sk-container-id-6 div.sk-estimator:hover label.sk-toggleable__label-arrow:before {color: black;}#sk-container-id-6 div.sk-toggleable__content {max-height: 0;max-width: 0;overflow: hidden;text-align: left;background-color: #f0f8ff;}#sk-container-id-6 div.sk-toggleable__content pre {margin: 0.2em;color: black;border-radius: 0.25em;background-color: #f0f8ff;}#sk-container-id-6 input.sk-toggleable__control:checked~div.sk-toggleable__content {max-height: 200px;max-width: 100%;overflow: auto;}#sk-container-id-6 input.sk-toggleable__control:checked~label.sk-toggleable__label-arrow:before {content: \"▾\";}#sk-container-id-6 div.sk-estimator input.sk-toggleable__control:checked~label.sk-toggleable__label {background-color: #d4ebff;}#sk-container-id-6 div.sk-label input.sk-toggleable__control:checked~label.sk-toggleable__label {background-color: #d4ebff;}#sk-container-id-6 input.sk-hidden--visually {border: 0;clip: rect(1px 1px 1px 1px);clip: rect(1px, 1px, 1px, 1px);height: 1px;margin: -1px;overflow: hidden;padding: 0;position: absolute;width: 1px;}#sk-container-id-6 div.sk-estimator {font-family: monospace;background-color: #f0f8ff;border: 1px dotted black;border-radius: 0.25em;box-sizing: border-box;margin-bottom: 0.5em;}#sk-container-id-6 div.sk-estimator:hover {background-color: #d4ebff;}#sk-container-id-6 div.sk-parallel-item::after {content: \"\";width: 100%;border-bottom: 1px solid gray;flex-grow: 1;}#sk-container-id-6 div.sk-label:hover label.sk-toggleable__label {background-color: #d4ebff;}#sk-container-id-6 div.sk-serial::before {content: \"\";position: absolute;border-left: 1px solid gray;box-sizing: border-box;top: 0;bottom: 0;left: 50%;z-index: 0;}#sk-container-id-6 div.sk-serial {display: flex;flex-direction: column;align-items: center;background-color: white;padding-right: 0.2em;padding-left: 0.2em;position: relative;}#sk-container-id-6 div.sk-item {position: relative;z-index: 1;}#sk-container-id-6 div.sk-parallel {display: flex;align-items: stretch;justify-content: center;background-color: white;position: relative;}#sk-container-id-6 div.sk-item::before, #sk-container-id-6 div.sk-parallel-item::before {content: \"\";position: absolute;border-left: 1px solid gray;box-sizing: border-box;top: 0;bottom: 0;left: 50%;z-index: -1;}#sk-container-id-6 div.sk-parallel-item {display: flex;flex-direction: column;z-index: 1;position: relative;background-color: white;}#sk-container-id-6 div.sk-parallel-item:first-child::after {align-self: flex-end;width: 50%;}#sk-container-id-6 div.sk-parallel-item:last-child::after {align-self: flex-start;width: 50%;}#sk-container-id-6 div.sk-parallel-item:only-child::after {width: 0;}#sk-container-id-6 div.sk-dashed-wrapped {border: 1px dashed gray;margin: 0 0.4em 0.5em 0.4em;box-sizing: border-box;padding-bottom: 0.4em;background-color: white;}#sk-container-id-6 div.sk-label label {font-family: monospace;font-weight: bold;display: inline-block;line-height: 1.2em;}#sk-container-id-6 div.sk-label-container {text-align: center;}#sk-container-id-6 div.sk-container {/* jupyter's `normalize.less` sets `[hidden] { display: none; }` but bootstrap.min.css set `[hidden] { display: none !important; }` so we also need the `!important` here to be able to override the default hidden behavior on the sphinx rendered scikit-learn.org. See: https://github.com/scikit-learn/scikit-learn/issues/21755 */display: inline-block !important;position: relative;}#sk-container-id-6 div.sk-text-repr-fallback {display: none;}</style><div id=\"sk-container-id-6\" class=\"sk-top-container\"><div class=\"sk-text-repr-fallback\"><pre>SVC(C=100, gamma=0.01)</pre><b>In a Jupyter environment, please rerun this cell to show the HTML representation or trust the notebook. <br />On GitHub, the HTML representation is unable to render, please try loading this page with nbviewer.org.</b></div><div class=\"sk-container\" hidden><div class=\"sk-item\"><div class=\"sk-estimator sk-toggleable\"><input class=\"sk-toggleable__control sk-hidden--visually\" id=\"sk-estimator-id-6\" type=\"checkbox\" checked><label for=\"sk-estimator-id-6\" class=\"sk-toggleable__label sk-toggleable__label-arrow\">SVC</label><div class=\"sk-toggleable__content\"><pre>SVC(C=100, gamma=0.01)</pre></div></div></div></div></div>"
      ],
      "text/plain": [
       "SVC(C=100, gamma=0.01)"
      ]
     },
     "execution_count": 98,
     "metadata": {},
     "output_type": "execute_result"
    }
   ],
   "source": [
    "#initialising model with tuned parameters\n",
    "svm_pca = SVC(C=100, gamma=0.01, kernel='rbf')\n",
    "# Train the model by calling a method fit()\n",
    "svm_pca.fit(X_train_pca,y_train)"
   ]
  },
  {
   "cell_type": "code",
   "execution_count": 99,
   "id": "2362d075",
   "metadata": {},
   "outputs": [],
   "source": [
    "svm_pca_metrics, y_preds_test_svm_pca, y_preds_train_svm_pca = get_metrics(svm_pca,\n",
    "                                                          X_train_pca, X_test_pca, y_train, y_test)"
   ]
  },
  {
   "cell_type": "code",
   "execution_count": 100,
   "id": "156987de",
   "metadata": {},
   "outputs": [
    {
     "data": {
      "text/html": [
       "<div>\n",
       "<style scoped>\n",
       "    .dataframe tbody tr th:only-of-type {\n",
       "        vertical-align: middle;\n",
       "    }\n",
       "\n",
       "    .dataframe tbody tr th {\n",
       "        vertical-align: top;\n",
       "    }\n",
       "\n",
       "    .dataframe thead th {\n",
       "        text-align: right;\n",
       "    }\n",
       "</style>\n",
       "<table border=\"1\" class=\"dataframe\">\n",
       "  <thead>\n",
       "    <tr style=\"text-align: right;\">\n",
       "      <th></th>\n",
       "      <th>model</th>\n",
       "      <th>accuracy</th>\n",
       "      <th>f1_score</th>\n",
       "      <th>QWK</th>\n",
       "      <th>MAE</th>\n",
       "      <th>sp_class_error</th>\n",
       "    </tr>\n",
       "  </thead>\n",
       "  <tbody>\n",
       "    <tr>\n",
       "      <th>0</th>\n",
       "      <td>SVC(C=100, gamma=0.01)</td>\n",
       "      <td>0.91055</td>\n",
       "      <td>0.910221</td>\n",
       "      <td>0.978009</td>\n",
       "      <td>0.094037</td>\n",
       "      <td>0.094037</td>\n",
       "    </tr>\n",
       "  </tbody>\n",
       "</table>\n",
       "</div>"
      ],
      "text/plain": [
       "                    model  accuracy  f1_score       QWK       MAE  \\\n",
       "0  SVC(C=100, gamma=0.01)   0.91055  0.910221  0.978009  0.094037   \n",
       "\n",
       "   sp_class_error  \n",
       "0        0.094037  "
      ]
     },
     "execution_count": 100,
     "metadata": {},
     "output_type": "execute_result"
    }
   ],
   "source": [
    "svm_pca_metrics"
   ]
  },
  {
   "cell_type": "code",
   "execution_count": 103,
   "id": "a27b074f",
   "metadata": {},
   "outputs": [
    {
     "data": {
      "image/png": "[encoded data removed]",
      "text/plain": [
       "<Figure size 640x480 with 1 Axes>"
      ]
     },
     "metadata": {},
     "output_type": "display_data"
    }
   ],
   "source": [
    "plot_confusion_matrix(y_test, y_preds_test_svm_pca, 'SVM (PCA)')"
   ]
  },
  {
   "cell_type": "code",
   "execution_count": 62,
   "id": "b71e0867",
   "metadata": {},
   "outputs": [],
   "source": [
    "#saving SVM pca model\n",
    "#dump(svmModel_pca, filename='saved_models/SVMModel_pca.py')"
   ]
  },
  {
   "cell_type": "markdown",
   "id": "52f7ea57",
   "metadata": {},
   "source": [
    "# 5. Using Balanced Dataset \n",
    "2 Methods:\n",
    "- Using Class weights - https://www.analyticsvidhya.com/blog/2020/10/improve-class-imbalance-class-weights/\n",
    "- Using undersampled/oversampled balanced data"
   ]
  },
  {
   "cell_type": "code",
   "execution_count": 104,
   "id": "64042c5e",
   "metadata": {},
   "outputs": [],
   "source": [
    "##load in cleaned and processed balanced data\n",
    "balanced_df = pd.read_csv('../data/derived_tables/X_y_data/main_bal.csv', index_col=0)"
   ]
  },
  {
   "cell_type": "code",
   "execution_count": 105,
   "id": "aedff429",
   "metadata": {},
   "outputs": [],
   "source": [
    "#splitting into independent/input (X) and dependent/target (Y) variables\n",
    "X_bal = balanced_df.loc[:, balanced_df.columns != 'main_class']\n",
    "y_bal = balanced_df.loc[:, 'main_class']"
   ]
  },
  {
   "cell_type": "code",
   "execution_count": 106,
   "id": "f5bac5d8",
   "metadata": {},
   "outputs": [],
   "source": [
    "#converting y_bal to a list\n",
    "y_bal = y_bal.values"
   ]
  },
  {
   "cell_type": "code",
   "execution_count": 107,
   "id": "af254cc6",
   "metadata": {},
   "outputs": [],
   "source": [
    "#splitting the data into training and testing (80% used for training, 20% for testing)\n",
    "X_train_bal, X_test_bal, y_train_bal, y_test_bal = train_test_split(X_bal, y_bal, \n",
    "                                                                    test_size = 0.2, \n",
    "                                                                    random_state = 1)"
   ]
  },
  {
   "cell_type": "markdown",
   "id": "115f672b",
   "metadata": {},
   "source": [
    "## 5.1 SVM Classifier "
   ]
  },
  {
   "cell_type": "markdown",
   "id": "ae171aff",
   "metadata": {},
   "source": [
    "### 5.1.1 Using balanced class weights to handle class imbalance:"
   ]
  },
  {
   "cell_type": "code",
   "execution_count": 108,
   "id": "ff3e8a81",
   "metadata": {},
   "outputs": [
    {
     "data": {
      "text/html": [
       "<style>#sk-container-id-7 {color: black;background-color: white;}#sk-container-id-7 pre{padding: 0;}#sk-container-id-7 div.sk-toggleable {background-color: white;}#sk-container-id-7 label.sk-toggleable__label {cursor: pointer;display: block;width: 100%;margin-bottom: 0;padding: 0.3em;box-sizing: border-box;text-align: center;}#sk-container-id-7 label.sk-toggleable__label-arrow:before {content: \"▸\";float: left;margin-right: 0.25em;color: #696969;}#sk-container-id-7 label.sk-toggleable__label-arrow:hover:before {color: black;}#sk-container-id-7 div.sk-estimator:hover label.sk-toggleable__label-arrow:before {color: black;}#sk-container-id-7 div.sk-toggleable__content {max-height: 0;max-width: 0;overflow: hidden;text-align: left;background-color: #f0f8ff;}#sk-container-id-7 div.sk-toggleable__content pre {margin: 0.2em;color: black;border-radius: 0.25em;background-color: #f0f8ff;}#sk-container-id-7 input.sk-toggleable__control:checked~div.sk-toggleable__content {max-height: 200px;max-width: 100%;overflow: auto;}#sk-container-id-7 input.sk-toggleable__control:checked~label.sk-toggleable__label-arrow:before {content: \"▾\";}#sk-container-id-7 div.sk-estimator input.sk-toggleable__control:checked~label.sk-toggleable__label {background-color: #d4ebff;}#sk-container-id-7 div.sk-label input.sk-toggleable__control:checked~label.sk-toggleable__label {background-color: #d4ebff;}#sk-container-id-7 input.sk-hidden--visually {border: 0;clip: rect(1px 1px 1px 1px);clip: rect(1px, 1px, 1px, 1px);height: 1px;margin: -1px;overflow: hidden;padding: 0;position: absolute;width: 1px;}#sk-container-id-7 div.sk-estimator {font-family: monospace;background-color: #f0f8ff;border: 1px dotted black;border-radius: 0.25em;box-sizing: border-box;margin-bottom: 0.5em;}#sk-container-id-7 div.sk-estimator:hover {background-color: #d4ebff;}#sk-container-id-7 div.sk-parallel-item::after {content: \"\";width: 100%;border-bottom: 1px solid gray;flex-grow: 1;}#sk-container-id-7 div.sk-label:hover label.sk-toggleable__label {background-color: #d4ebff;}#sk-container-id-7 div.sk-serial::before {content: \"\";position: absolute;border-left: 1px solid gray;box-sizing: border-box;top: 0;bottom: 0;left: 50%;z-index: 0;}#sk-container-id-7 div.sk-serial {display: flex;flex-direction: column;align-items: center;background-color: white;padding-right: 0.2em;padding-left: 0.2em;position: relative;}#sk-container-id-7 div.sk-item {position: relative;z-index: 1;}#sk-container-id-7 div.sk-parallel {display: flex;align-items: stretch;justify-content: center;background-color: white;position: relative;}#sk-container-id-7 div.sk-item::before, #sk-container-id-7 div.sk-parallel-item::before {content: \"\";position: absolute;border-left: 1px solid gray;box-sizing: border-box;top: 0;bottom: 0;left: 50%;z-index: -1;}#sk-container-id-7 div.sk-parallel-item {display: flex;flex-direction: column;z-index: 1;position: relative;background-color: white;}#sk-container-id-7 div.sk-parallel-item:first-child::after {align-self: flex-end;width: 50%;}#sk-container-id-7 div.sk-parallel-item:last-child::after {align-self: flex-start;width: 50%;}#sk-container-id-7 div.sk-parallel-item:only-child::after {width: 0;}#sk-container-id-7 div.sk-dashed-wrapped {border: 1px dashed gray;margin: 0 0.4em 0.5em 0.4em;box-sizing: border-box;padding-bottom: 0.4em;background-color: white;}#sk-container-id-7 div.sk-label label {font-family: monospace;font-weight: bold;display: inline-block;line-height: 1.2em;}#sk-container-id-7 div.sk-label-container {text-align: center;}#sk-container-id-7 div.sk-container {/* jupyter's `normalize.less` sets `[hidden] { display: none; }` but bootstrap.min.css set `[hidden] { display: none !important; }` so we also need the `!important` here to be able to override the default hidden behavior on the sphinx rendered scikit-learn.org. See: https://github.com/scikit-learn/scikit-learn/issues/21755 */display: inline-block !important;position: relative;}#sk-container-id-7 div.sk-text-repr-fallback {display: none;}</style><div id=\"sk-container-id-7\" class=\"sk-top-container\"><div class=\"sk-text-repr-fallback\"><pre>SVC(C=100, class_weight=&#x27;balanced&#x27;, gamma=0.01)</pre><b>In a Jupyter environment, please rerun this cell to show the HTML representation or trust the notebook. <br />On GitHub, the HTML representation is unable to render, please try loading this page with nbviewer.org.</b></div><div class=\"sk-container\" hidden><div class=\"sk-item\"><div class=\"sk-estimator sk-toggleable\"><input class=\"sk-toggleable__control sk-hidden--visually\" id=\"sk-estimator-id-7\" type=\"checkbox\" checked><label for=\"sk-estimator-id-7\" class=\"sk-toggleable__label sk-toggleable__label-arrow\">SVC</label><div class=\"sk-toggleable__content\"><pre>SVC(C=100, class_weight=&#x27;balanced&#x27;, gamma=0.01)</pre></div></div></div></div></div>"
      ],
      "text/plain": [
       "SVC(C=100, class_weight='balanced', gamma=0.01)"
      ]
     },
     "execution_count": 108,
     "metadata": {},
     "output_type": "execute_result"
    }
   ],
   "source": [
    "#initialising model with tuned parameters\n",
    "svm_cl_weights = SVC(C=100, gamma=0.01 , kernel='rbf', class_weight='balanced')\n",
    "\n",
    "# Train the model by calling a method fit()\n",
    "svm_cl_weights.fit(X_train,y_train)"
   ]
  },
  {
   "cell_type": "code",
   "execution_count": 109,
   "id": "e7e87ee6",
   "metadata": {},
   "outputs": [],
   "source": [
    "svm_cl_weights_metrics, y_preds_test_svm_weights, y_preds_train_svm_weights = get_metrics(svm_cl_weights, \n",
    "                                                                  X_train, X_test, y_train, y_test)"
   ]
  },
  {
   "cell_type": "code",
   "execution_count": 110,
   "id": "26cc6222",
   "metadata": {},
   "outputs": [
    {
     "data": {
      "text/html": [
       "<div>\n",
       "<style scoped>\n",
       "    .dataframe tbody tr th:only-of-type {\n",
       "        vertical-align: middle;\n",
       "    }\n",
       "\n",
       "    .dataframe tbody tr th {\n",
       "        vertical-align: top;\n",
       "    }\n",
       "\n",
       "    .dataframe thead th {\n",
       "        text-align: right;\n",
       "    }\n",
       "</style>\n",
       "<table border=\"1\" class=\"dataframe\">\n",
       "  <thead>\n",
       "    <tr style=\"text-align: right;\">\n",
       "      <th></th>\n",
       "      <th>model</th>\n",
       "      <th>accuracy</th>\n",
       "      <th>f1_score</th>\n",
       "      <th>QWK</th>\n",
       "      <th>MAE</th>\n",
       "      <th>sp_class_error</th>\n",
       "    </tr>\n",
       "  </thead>\n",
       "  <tbody>\n",
       "    <tr>\n",
       "      <th>0</th>\n",
       "      <td>SVC(C=100, class_weight='balanced', gamma=0.01)</td>\n",
       "      <td>0.905963</td>\n",
       "      <td>0.905595</td>\n",
       "      <td>0.977007</td>\n",
       "      <td>0.098624</td>\n",
       "      <td>0.098624</td>\n",
       "    </tr>\n",
       "  </tbody>\n",
       "</table>\n",
       "</div>"
      ],
      "text/plain": [
       "                                             model  accuracy  f1_score  \\\n",
       "0  SVC(C=100, class_weight='balanced', gamma=0.01)  0.905963  0.905595   \n",
       "\n",
       "        QWK       MAE  sp_class_error  \n",
       "0  0.977007  0.098624        0.098624  "
      ]
     },
     "execution_count": 110,
     "metadata": {},
     "output_type": "execute_result"
    }
   ],
   "source": [
    "svm_cl_weights_metrics"
   ]
  },
  {
   "cell_type": "code",
   "execution_count": 70,
   "id": "12ef1294",
   "metadata": {},
   "outputs": [
    {
     "data": {
      "image/png": "[encoded data removed]",
      "text/plain": [
       "<Figure size 640x480 with 1 Axes>"
      ]
     },
     "metadata": {},
     "output_type": "display_data"
    }
   ],
   "source": [
    "plot_confusion_matrix(y_test, y_preds_test_svm_weights, 'SVM (class weights = balanced)')"
   ]
  },
  {
   "cell_type": "markdown",
   "id": "b604ef62",
   "metadata": {},
   "source": [
    "### 5.1.2 Balanced Dataset:"
   ]
  },
  {
   "cell_type": "code",
   "execution_count": 71,
   "id": "15aa8f35",
   "metadata": {},
   "outputs": [],
   "source": [
    "#using grid search CV\n",
    "\n",
    "#defining parameter range \n",
    "param_grid = {'C': [0.01, 0.1, 1, 10, 100, 1000],  \n",
    "              'gamma': [100, 10, 1, 0.1, 0.01, 0.001, 'scale'], \n",
    "              'kernel': ['rbf', 'poly'], \n",
    "              'degree':[2, 3, 4]} \n",
    "  \n",
    "grid_search_svc = GridSearchCV(SVC(), param_grid, refit = True, verbose = 0) \n",
    "  \n",
    "# fitting the model for grid search \n",
    "grid_search_svc.fit(X_train, y_train)"
   ]
  },
  {
   "cell_type": "code",
   "execution_count": 183,
   "id": "1956c0ca",
   "metadata": {
    "scrolled": true
   },
   "outputs": [
    {
     "name": "stdout",
     "output_type": "stream",
     "text": [
      "{'C': 100, 'gamma': 0.01, 'kernel': 'rbf'}\n",
      "SVC(C=100, gamma=0.01)\n"
     ]
    }
   ],
   "source": [
    "# print best parameter after tuning \n",
    "print(grid_search_svc.best_params_) \n",
    "\n",
    "# print how our model looks after hyper-parameter tuning \n",
    "print(grid_search_svc.best_estimator_) "
   ]
  },
  {
   "cell_type": "code",
   "execution_count": 111,
   "id": "89185132",
   "metadata": {},
   "outputs": [
    {
     "data": {
      "text/html": [
       "<style>#sk-container-id-8 {color: black;background-color: white;}#sk-container-id-8 pre{padding: 0;}#sk-container-id-8 div.sk-toggleable {background-color: white;}#sk-container-id-8 label.sk-toggleable__label {cursor: pointer;display: block;width: 100%;margin-bottom: 0;padding: 0.3em;box-sizing: border-box;text-align: center;}#sk-container-id-8 label.sk-toggleable__label-arrow:before {content: \"▸\";float: left;margin-right: 0.25em;color: #696969;}#sk-container-id-8 label.sk-toggleable__label-arrow:hover:before {color: black;}#sk-container-id-8 div.sk-estimator:hover label.sk-toggleable__label-arrow:before {color: black;}#sk-container-id-8 div.sk-toggleable__content {max-height: 0;max-width: 0;overflow: hidden;text-align: left;background-color: #f0f8ff;}#sk-container-id-8 div.sk-toggleable__content pre {margin: 0.2em;color: black;border-radius: 0.25em;background-color: #f0f8ff;}#sk-container-id-8 input.sk-toggleable__control:checked~div.sk-toggleable__content {max-height: 200px;max-width: 100%;overflow: auto;}#sk-container-id-8 input.sk-toggleable__control:checked~label.sk-toggleable__label-arrow:before {content: \"▾\";}#sk-container-id-8 div.sk-estimator input.sk-toggleable__control:checked~label.sk-toggleable__label {background-color: #d4ebff;}#sk-container-id-8 div.sk-label input.sk-toggleable__control:checked~label.sk-toggleable__label {background-color: #d4ebff;}#sk-container-id-8 input.sk-hidden--visually {border: 0;clip: rect(1px 1px 1px 1px);clip: rect(1px, 1px, 1px, 1px);height: 1px;margin: -1px;overflow: hidden;padding: 0;position: absolute;width: 1px;}#sk-container-id-8 div.sk-estimator {font-family: monospace;background-color: #f0f8ff;border: 1px dotted black;border-radius: 0.25em;box-sizing: border-box;margin-bottom: 0.5em;}#sk-container-id-8 div.sk-estimator:hover {background-color: #d4ebff;}#sk-container-id-8 div.sk-parallel-item::after {content: \"\";width: 100%;border-bottom: 1px solid gray;flex-grow: 1;}#sk-container-id-8 div.sk-label:hover label.sk-toggleable__label {background-color: #d4ebff;}#sk-container-id-8 div.sk-serial::before {content: \"\";position: absolute;border-left: 1px solid gray;box-sizing: border-box;top: 0;bottom: 0;left: 50%;z-index: 0;}#sk-container-id-8 div.sk-serial {display: flex;flex-direction: column;align-items: center;background-color: white;padding-right: 0.2em;padding-left: 0.2em;position: relative;}#sk-container-id-8 div.sk-item {position: relative;z-index: 1;}#sk-container-id-8 div.sk-parallel {display: flex;align-items: stretch;justify-content: center;background-color: white;position: relative;}#sk-container-id-8 div.sk-item::before, #sk-container-id-8 div.sk-parallel-item::before {content: \"\";position: absolute;border-left: 1px solid gray;box-sizing: border-box;top: 0;bottom: 0;left: 50%;z-index: -1;}#sk-container-id-8 div.sk-parallel-item {display: flex;flex-direction: column;z-index: 1;position: relative;background-color: white;}#sk-container-id-8 div.sk-parallel-item:first-child::after {align-self: flex-end;width: 50%;}#sk-container-id-8 div.sk-parallel-item:last-child::after {align-self: flex-start;width: 50%;}#sk-container-id-8 div.sk-parallel-item:only-child::after {width: 0;}#sk-container-id-8 div.sk-dashed-wrapped {border: 1px dashed gray;margin: 0 0.4em 0.5em 0.4em;box-sizing: border-box;padding-bottom: 0.4em;background-color: white;}#sk-container-id-8 div.sk-label label {font-family: monospace;font-weight: bold;display: inline-block;line-height: 1.2em;}#sk-container-id-8 div.sk-label-container {text-align: center;}#sk-container-id-8 div.sk-container {/* jupyter's `normalize.less` sets `[hidden] { display: none; }` but bootstrap.min.css set `[hidden] { display: none !important; }` so we also need the `!important` here to be able to override the default hidden behavior on the sphinx rendered scikit-learn.org. See: https://github.com/scikit-learn/scikit-learn/issues/21755 */display: inline-block !important;position: relative;}#sk-container-id-8 div.sk-text-repr-fallback {display: none;}</style><div id=\"sk-container-id-8\" class=\"sk-top-container\"><div class=\"sk-text-repr-fallback\"><pre>SVC(C=100, gamma=0.01)</pre><b>In a Jupyter environment, please rerun this cell to show the HTML representation or trust the notebook. <br />On GitHub, the HTML representation is unable to render, please try loading this page with nbviewer.org.</b></div><div class=\"sk-container\" hidden><div class=\"sk-item\"><div class=\"sk-estimator sk-toggleable\"><input class=\"sk-toggleable__control sk-hidden--visually\" id=\"sk-estimator-id-8\" type=\"checkbox\" checked><label for=\"sk-estimator-id-8\" class=\"sk-toggleable__label sk-toggleable__label-arrow\">SVC</label><div class=\"sk-toggleable__content\"><pre>SVC(C=100, gamma=0.01)</pre></div></div></div></div></div>"
      ],
      "text/plain": [
       "SVC(C=100, gamma=0.01)"
      ]
     },
     "execution_count": 111,
     "metadata": {},
     "output_type": "execute_result"
    }
   ],
   "source": [
    "#initialising model with tuned parameters\n",
    "svm_bal = SVC(C=100, gamma=0.01 , kernel='rbf')\n",
    "\n",
    "# Train the model by calling a method fit()\n",
    "svm_bal.fit(X_train_bal ,y_train_bal)"
   ]
  },
  {
   "cell_type": "code",
   "execution_count": 113,
   "id": "77f883a9",
   "metadata": {},
   "outputs": [],
   "source": [
    "svm_bal_metrics, y_preds_test_svm_bal, y_preds_train_svm_bal = get_metrics(svm_bal, \n",
    "                                                              X_train_bal, X_test, y_train_bal, y_test)"
   ]
  },
  {
   "cell_type": "code",
   "execution_count": 114,
   "id": "ef959df4",
   "metadata": {},
   "outputs": [
    {
     "data": {
      "text/html": [
       "<div>\n",
       "<style scoped>\n",
       "    .dataframe tbody tr th:only-of-type {\n",
       "        vertical-align: middle;\n",
       "    }\n",
       "\n",
       "    .dataframe tbody tr th {\n",
       "        vertical-align: top;\n",
       "    }\n",
       "\n",
       "    .dataframe thead th {\n",
       "        text-align: right;\n",
       "    }\n",
       "</style>\n",
       "<table border=\"1\" class=\"dataframe\">\n",
       "  <thead>\n",
       "    <tr style=\"text-align: right;\">\n",
       "      <th></th>\n",
       "      <th>model</th>\n",
       "      <th>accuracy</th>\n",
       "      <th>f1_score</th>\n",
       "      <th>QWK</th>\n",
       "      <th>MAE</th>\n",
       "      <th>sp_class_error</th>\n",
       "    </tr>\n",
       "  </thead>\n",
       "  <tbody>\n",
       "    <tr>\n",
       "      <th>0</th>\n",
       "      <td>SVC(C=100, gamma=0.01)</td>\n",
       "      <td>0.942661</td>\n",
       "      <td>0.942735</td>\n",
       "      <td>0.986207</td>\n",
       "      <td>0.059633</td>\n",
       "      <td>0.059633</td>\n",
       "    </tr>\n",
       "  </tbody>\n",
       "</table>\n",
       "</div>"
      ],
      "text/plain": [
       "                    model  accuracy  f1_score       QWK       MAE  \\\n",
       "0  SVC(C=100, gamma=0.01)  0.942661  0.942735  0.986207  0.059633   \n",
       "\n",
       "   sp_class_error  \n",
       "0        0.059633  "
      ]
     },
     "execution_count": 114,
     "metadata": {},
     "output_type": "execute_result"
    }
   ],
   "source": [
    "svm_bal_metrics"
   ]
  },
  {
   "cell_type": "code",
   "execution_count": 75,
   "id": "e3727475",
   "metadata": {},
   "outputs": [
    {
     "data": {
      "image/png": "[encoded data removed]",
      "text/plain": [
       "<Figure size 640x480 with 1 Axes>"
      ]
     },
     "metadata": {},
     "output_type": "display_data"
    }
   ],
   "source": [
    "plot_confusion_matrix(y_test, y_preds_test_svm_bal, 'SVM (Balanced)')"
   ]
  },
  {
   "cell_type": "markdown",
   "id": "cdcce73b",
   "metadata": {},
   "source": [
    "### 5.1.3 using 24 PCs of balanced dataset"
   ]
  },
  {
   "cell_type": "code",
   "execution_count": 115,
   "id": "57b33d97",
   "metadata": {},
   "outputs": [],
   "source": [
    "#using 24 principal components\n",
    "#setting n_components at None includes all principal components\n",
    "pca = PCA(n_components=24)\n",
    "X_pca_bal = pca.fit_transform(X_bal)"
   ]
  },
  {
   "cell_type": "code",
   "execution_count": 116,
   "id": "b3548237",
   "metadata": {},
   "outputs": [],
   "source": [
    "X_train_pca_bal = pca.fit_transform(X_train_bal)\n",
    "X_test_pca_bal = pca.transform(X_test_bal)"
   ]
  },
  {
   "cell_type": "code",
   "execution_count": 117,
   "id": "f9a77fcf",
   "metadata": {},
   "outputs": [
    {
     "data": {
      "text/plain": [
       "((1736, 24), (1736, 3508), (434, 24), (434, 3508))"
      ]
     },
     "execution_count": 117,
     "metadata": {},
     "output_type": "execute_result"
    }
   ],
   "source": [
    "X_train_pca_bal.shape, X_train_bal.shape, X_test_pca_bal.shape, X_test_bal.shape"
   ]
  },
  {
   "cell_type": "code",
   "execution_count": 118,
   "id": "ea5d3f3f",
   "metadata": {},
   "outputs": [
    {
     "data": {
      "text/html": [
       "<style>#sk-container-id-9 {color: black;background-color: white;}#sk-container-id-9 pre{padding: 0;}#sk-container-id-9 div.sk-toggleable {background-color: white;}#sk-container-id-9 label.sk-toggleable__label {cursor: pointer;display: block;width: 100%;margin-bottom: 0;padding: 0.3em;box-sizing: border-box;text-align: center;}#sk-container-id-9 label.sk-toggleable__label-arrow:before {content: \"▸\";float: left;margin-right: 0.25em;color: #696969;}#sk-container-id-9 label.sk-toggleable__label-arrow:hover:before {color: black;}#sk-container-id-9 div.sk-estimator:hover label.sk-toggleable__label-arrow:before {color: black;}#sk-container-id-9 div.sk-toggleable__content {max-height: 0;max-width: 0;overflow: hidden;text-align: left;background-color: #f0f8ff;}#sk-container-id-9 div.sk-toggleable__content pre {margin: 0.2em;color: black;border-radius: 0.25em;background-color: #f0f8ff;}#sk-container-id-9 input.sk-toggleable__control:checked~div.sk-toggleable__content {max-height: 200px;max-width: 100%;overflow: auto;}#sk-container-id-9 input.sk-toggleable__control:checked~label.sk-toggleable__label-arrow:before {content: \"▾\";}#sk-container-id-9 div.sk-estimator input.sk-toggleable__control:checked~label.sk-toggleable__label {background-color: #d4ebff;}#sk-container-id-9 div.sk-label input.sk-toggleable__control:checked~label.sk-toggleable__label {background-color: #d4ebff;}#sk-container-id-9 input.sk-hidden--visually {border: 0;clip: rect(1px 1px 1px 1px);clip: rect(1px, 1px, 1px, 1px);height: 1px;margin: -1px;overflow: hidden;padding: 0;position: absolute;width: 1px;}#sk-container-id-9 div.sk-estimator {font-family: monospace;background-color: #f0f8ff;border: 1px dotted black;border-radius: 0.25em;box-sizing: border-box;margin-bottom: 0.5em;}#sk-container-id-9 div.sk-estimator:hover {background-color: #d4ebff;}#sk-container-id-9 div.sk-parallel-item::after {content: \"\";width: 100%;border-bottom: 1px solid gray;flex-grow: 1;}#sk-container-id-9 div.sk-label:hover label.sk-toggleable__label {background-color: #d4ebff;}#sk-container-id-9 div.sk-serial::before {content: \"\";position: absolute;border-left: 1px solid gray;box-sizing: border-box;top: 0;bottom: 0;left: 50%;z-index: 0;}#sk-container-id-9 div.sk-serial {display: flex;flex-direction: column;align-items: center;background-color: white;padding-right: 0.2em;padding-left: 0.2em;position: relative;}#sk-container-id-9 div.sk-item {position: relative;z-index: 1;}#sk-container-id-9 div.sk-parallel {display: flex;align-items: stretch;justify-content: center;background-color: white;position: relative;}#sk-container-id-9 div.sk-item::before, #sk-container-id-9 div.sk-parallel-item::before {content: \"\";position: absolute;border-left: 1px solid gray;box-sizing: border-box;top: 0;bottom: 0;left: 50%;z-index: -1;}#sk-container-id-9 div.sk-parallel-item {display: flex;flex-direction: column;z-index: 1;position: relative;background-color: white;}#sk-container-id-9 div.sk-parallel-item:first-child::after {align-self: flex-end;width: 50%;}#sk-container-id-9 div.sk-parallel-item:last-child::after {align-self: flex-start;width: 50%;}#sk-container-id-9 div.sk-parallel-item:only-child::after {width: 0;}#sk-container-id-9 div.sk-dashed-wrapped {border: 1px dashed gray;margin: 0 0.4em 0.5em 0.4em;box-sizing: border-box;padding-bottom: 0.4em;background-color: white;}#sk-container-id-9 div.sk-label label {font-family: monospace;font-weight: bold;display: inline-block;line-height: 1.2em;}#sk-container-id-9 div.sk-label-container {text-align: center;}#sk-container-id-9 div.sk-container {/* jupyter's `normalize.less` sets `[hidden] { display: none; }` but bootstrap.min.css set `[hidden] { display: none !important; }` so we also need the `!important` here to be able to override the default hidden behavior on the sphinx rendered scikit-learn.org. See: https://github.com/scikit-learn/scikit-learn/issues/21755 */display: inline-block !important;position: relative;}#sk-container-id-9 div.sk-text-repr-fallback {display: none;}</style><div id=\"sk-container-id-9\" class=\"sk-top-container\"><div class=\"sk-text-repr-fallback\"><pre>SVC(C=100, gamma=0.01)</pre><b>In a Jupyter environment, please rerun this cell to show the HTML representation or trust the notebook. <br />On GitHub, the HTML representation is unable to render, please try loading this page with nbviewer.org.</b></div><div class=\"sk-container\" hidden><div class=\"sk-item\"><div class=\"sk-estimator sk-toggleable\"><input class=\"sk-toggleable__control sk-hidden--visually\" id=\"sk-estimator-id-9\" type=\"checkbox\" checked><label for=\"sk-estimator-id-9\" class=\"sk-toggleable__label sk-toggleable__label-arrow\">SVC</label><div class=\"sk-toggleable__content\"><pre>SVC(C=100, gamma=0.01)</pre></div></div></div></div></div>"
      ],
      "text/plain": [
       "SVC(C=100, gamma=0.01)"
      ]
     },
     "execution_count": 118,
     "metadata": {},
     "output_type": "execute_result"
    }
   ],
   "source": [
    "#initialising model with tuned parameters\n",
    "svm_pca = SVC(C=100, gamma=0.01, kernel='rbf')\n",
    "# Train the model by calling a method fit()\n",
    "svm_pca.fit(X_train_pca_bal, y_train_bal)"
   ]
  },
  {
   "cell_type": "code",
   "execution_count": 119,
   "id": "d487475a",
   "metadata": {},
   "outputs": [],
   "source": [
    "svm_pca_metrics_bal, y_preds_test_svm_pca_bal, y_preds_train_svm_pca_bal = get_metrics(svm_pca,\n",
    "                                                          X_train_pca_bal, X_test_pca_bal, y_train_bal, y_test_bal)"
   ]
  },
  {
   "cell_type": "code",
   "execution_count": 120,
   "id": "a957d1c4",
   "metadata": {
    "scrolled": true
   },
   "outputs": [
    {
     "data": {
      "text/html": [
       "<div>\n",
       "<style scoped>\n",
       "    .dataframe tbody tr th:only-of-type {\n",
       "        vertical-align: middle;\n",
       "    }\n",
       "\n",
       "    .dataframe tbody tr th {\n",
       "        vertical-align: top;\n",
       "    }\n",
       "\n",
       "    .dataframe thead th {\n",
       "        text-align: right;\n",
       "    }\n",
       "</style>\n",
       "<table border=\"1\" class=\"dataframe\">\n",
       "  <thead>\n",
       "    <tr style=\"text-align: right;\">\n",
       "      <th></th>\n",
       "      <th>model</th>\n",
       "      <th>accuracy</th>\n",
       "      <th>f1_score</th>\n",
       "      <th>QWK</th>\n",
       "      <th>MAE</th>\n",
       "      <th>sp_class_error</th>\n",
       "    </tr>\n",
       "  </thead>\n",
       "  <tbody>\n",
       "    <tr>\n",
       "      <th>0</th>\n",
       "      <td>SVC(C=100, gamma=0.01)</td>\n",
       "      <td>0.926267</td>\n",
       "      <td>0.926316</td>\n",
       "      <td>0.989658</td>\n",
       "      <td>0.076037</td>\n",
       "      <td>0.076037</td>\n",
       "    </tr>\n",
       "  </tbody>\n",
       "</table>\n",
       "</div>"
      ],
      "text/plain": [
       "                    model  accuracy  f1_score       QWK       MAE  \\\n",
       "0  SVC(C=100, gamma=0.01)  0.926267  0.926316  0.989658  0.076037   \n",
       "\n",
       "   sp_class_error  \n",
       "0        0.076037  "
      ]
     },
     "execution_count": 120,
     "metadata": {},
     "output_type": "execute_result"
    }
   ],
   "source": [
    "svm_pca_metrics_bal"
   ]
  },
  {
   "cell_type": "markdown",
   "id": "bca1d05e",
   "metadata": {},
   "source": [
    "---------\n",
    "## 5.2 Random Forest Classifier "
   ]
  },
  {
   "cell_type": "markdown",
   "id": "044889c3",
   "metadata": {},
   "source": [
    "### 5.2.1 Using balanced class weights to handle class imbalance:"
   ]
  },
  {
   "cell_type": "code",
   "execution_count": 121,
   "id": "308bad5e",
   "metadata": {},
   "outputs": [],
   "source": [
    "rf_cl_weights = RandomForestClassifier(n_estimators = 500, max_depth = 10, min_samples_split=2, \n",
    "                                       min_samples_leaf=1, random_state=42, class_weight='balanced')"
   ]
  },
  {
   "cell_type": "code",
   "execution_count": 122,
   "id": "5addaa15",
   "metadata": {
    "scrolled": true
   },
   "outputs": [
    {
     "data": {
      "text/html": [
       "<style>#sk-container-id-10 {color: black;background-color: white;}#sk-container-id-10 pre{padding: 0;}#sk-container-id-10 div.sk-toggleable {background-color: white;}#sk-container-id-10 label.sk-toggleable__label {cursor: pointer;display: block;width: 100%;margin-bottom: 0;padding: 0.3em;box-sizing: border-box;text-align: center;}#sk-container-id-10 label.sk-toggleable__label-arrow:before {content: \"▸\";float: left;margin-right: 0.25em;color: #696969;}#sk-container-id-10 label.sk-toggleable__label-arrow:hover:before {color: black;}#sk-container-id-10 div.sk-estimator:hover label.sk-toggleable__label-arrow:before {color: black;}#sk-container-id-10 div.sk-toggleable__content {max-height: 0;max-width: 0;overflow: hidden;text-align: left;background-color: #f0f8ff;}#sk-container-id-10 div.sk-toggleable__content pre {margin: 0.2em;color: black;border-radius: 0.25em;background-color: #f0f8ff;}#sk-container-id-10 input.sk-toggleable__control:checked~div.sk-toggleable__content {max-height: 200px;max-width: 100%;overflow: auto;}#sk-container-id-10 input.sk-toggleable__control:checked~label.sk-toggleable__label-arrow:before {content: \"▾\";}#sk-container-id-10 div.sk-estimator input.sk-toggleable__control:checked~label.sk-toggleable__label {background-color: #d4ebff;}#sk-container-id-10 div.sk-label input.sk-toggleable__control:checked~label.sk-toggleable__label {background-color: #d4ebff;}#sk-container-id-10 input.sk-hidden--visually {border: 0;clip: rect(1px 1px 1px 1px);clip: rect(1px, 1px, 1px, 1px);height: 1px;margin: -1px;overflow: hidden;padding: 0;position: absolute;width: 1px;}#sk-container-id-10 div.sk-estimator {font-family: monospace;background-color: #f0f8ff;border: 1px dotted black;border-radius: 0.25em;box-sizing: border-box;margin-bottom: 0.5em;}#sk-container-id-10 div.sk-estimator:hover {background-color: #d4ebff;}#sk-container-id-10 div.sk-parallel-item::after {content: \"\";width: 100%;border-bottom: 1px solid gray;flex-grow: 1;}#sk-container-id-10 div.sk-label:hover label.sk-toggleable__label {background-color: #d4ebff;}#sk-container-id-10 div.sk-serial::before {content: \"\";position: absolute;border-left: 1px solid gray;box-sizing: border-box;top: 0;bottom: 0;left: 50%;z-index: 0;}#sk-container-id-10 div.sk-serial {display: flex;flex-direction: column;align-items: center;background-color: white;padding-right: 0.2em;padding-left: 0.2em;position: relative;}#sk-container-id-10 div.sk-item {position: relative;z-index: 1;}#sk-container-id-10 div.sk-parallel {display: flex;align-items: stretch;justify-content: center;background-color: white;position: relative;}#sk-container-id-10 div.sk-item::before, #sk-container-id-10 div.sk-parallel-item::before {content: \"\";position: absolute;border-left: 1px solid gray;box-sizing: border-box;top: 0;bottom: 0;left: 50%;z-index: -1;}#sk-container-id-10 div.sk-parallel-item {display: flex;flex-direction: column;z-index: 1;position: relative;background-color: white;}#sk-container-id-10 div.sk-parallel-item:first-child::after {align-self: flex-end;width: 50%;}#sk-container-id-10 div.sk-parallel-item:last-child::after {align-self: flex-start;width: 50%;}#sk-container-id-10 div.sk-parallel-item:only-child::after {width: 0;}#sk-container-id-10 div.sk-dashed-wrapped {border: 1px dashed gray;margin: 0 0.4em 0.5em 0.4em;box-sizing: border-box;padding-bottom: 0.4em;background-color: white;}#sk-container-id-10 div.sk-label label {font-family: monospace;font-weight: bold;display: inline-block;line-height: 1.2em;}#sk-container-id-10 div.sk-label-container {text-align: center;}#sk-container-id-10 div.sk-container {/* jupyter's `normalize.less` sets `[hidden] { display: none; }` but bootstrap.min.css set `[hidden] { display: none !important; }` so we also need the `!important` here to be able to override the default hidden behavior on the sphinx rendered scikit-learn.org. See: https://github.com/scikit-learn/scikit-learn/issues/21755 */display: inline-block !important;position: relative;}#sk-container-id-10 div.sk-text-repr-fallback {display: none;}</style><div id=\"sk-container-id-10\" class=\"sk-top-container\"><div class=\"sk-text-repr-fallback\"><pre>RandomForestClassifier(class_weight=&#x27;balanced&#x27;, max_depth=10, n_estimators=500,\n",
       "                       random_state=42)</pre><b>In a Jupyter environment, please rerun this cell to show the HTML representation or trust the notebook. <br />On GitHub, the HTML representation is unable to render, please try loading this page with nbviewer.org.</b></div><div class=\"sk-container\" hidden><div class=\"sk-item\"><div class=\"sk-estimator sk-toggleable\"><input class=\"sk-toggleable__control sk-hidden--visually\" id=\"sk-estimator-id-10\" type=\"checkbox\" checked><label for=\"sk-estimator-id-10\" class=\"sk-toggleable__label sk-toggleable__label-arrow\">RandomForestClassifier</label><div class=\"sk-toggleable__content\"><pre>RandomForestClassifier(class_weight=&#x27;balanced&#x27;, max_depth=10, n_estimators=500,\n",
       "                       random_state=42)</pre></div></div></div></div></div>"
      ],
      "text/plain": [
       "RandomForestClassifier(class_weight='balanced', max_depth=10, n_estimators=500,\n",
       "                       random_state=42)"
      ]
     },
     "execution_count": 122,
     "metadata": {},
     "output_type": "execute_result"
    }
   ],
   "source": [
    "rf_cl_weights.fit(X_train, y_train)"
   ]
  },
  {
   "cell_type": "code",
   "execution_count": 123,
   "id": "4c112656",
   "metadata": {
    "scrolled": false
   },
   "outputs": [],
   "source": [
    "rf_cl_weights_metrics, y_preds_test_rf_weights, y_preds_train_rf_weights = get_metrics(rf_cl_weights, \n",
    "                                                                X_train, X_test, y_train, y_test)"
   ]
  },
  {
   "cell_type": "code",
   "execution_count": 124,
   "id": "026d268d",
   "metadata": {},
   "outputs": [
    {
     "data": {
      "text/html": [
       "<div>\n",
       "<style scoped>\n",
       "    .dataframe tbody tr th:only-of-type {\n",
       "        vertical-align: middle;\n",
       "    }\n",
       "\n",
       "    .dataframe tbody tr th {\n",
       "        vertical-align: top;\n",
       "    }\n",
       "\n",
       "    .dataframe thead th {\n",
       "        text-align: right;\n",
       "    }\n",
       "</style>\n",
       "<table border=\"1\" class=\"dataframe\">\n",
       "  <thead>\n",
       "    <tr style=\"text-align: right;\">\n",
       "      <th></th>\n",
       "      <th>model</th>\n",
       "      <th>accuracy</th>\n",
       "      <th>f1_score</th>\n",
       "      <th>QWK</th>\n",
       "      <th>MAE</th>\n",
       "      <th>sp_class_error</th>\n",
       "    </tr>\n",
       "  </thead>\n",
       "  <tbody>\n",
       "    <tr>\n",
       "      <th>0</th>\n",
       "      <td>RandomForestClassifier(class_weight='balanced'...</td>\n",
       "      <td>0.908257</td>\n",
       "      <td>0.908199</td>\n",
       "      <td>0.977431</td>\n",
       "      <td>0.09633</td>\n",
       "      <td>0.09633</td>\n",
       "    </tr>\n",
       "  </tbody>\n",
       "</table>\n",
       "</div>"
      ],
      "text/plain": [
       "                                               model  accuracy  f1_score  \\\n",
       "0  RandomForestClassifier(class_weight='balanced'...  0.908257  0.908199   \n",
       "\n",
       "        QWK      MAE  sp_class_error  \n",
       "0  0.977431  0.09633         0.09633  "
      ]
     },
     "execution_count": 124,
     "metadata": {},
     "output_type": "execute_result"
    }
   ],
   "source": [
    "rf_cl_weights_metrics"
   ]
  },
  {
   "cell_type": "markdown",
   "id": "4b19c4db",
   "metadata": {},
   "source": [
    "### 5.2.2 Balanced dataset: "
   ]
  },
  {
   "cell_type": "code",
   "execution_count": 80,
   "id": "cfaf4e21",
   "metadata": {},
   "outputs": [],
   "source": [
    "#using RandomizedSearchCV for hyperparameter tuning due to large hyperparameter space\n",
    "\n",
    "#defining hyperparameter space to iterate through - might want to outline reason for below choices\n",
    "param_distributions = {'n_estimators':[10, 100, 200, 500, 1000], #number of trees (default = 100)\n",
    "                      'max_depth': [None, 5, 10, 20, 50], #max depth of tree (default = None)\n",
    "                      'max_features': ['sqrt', 'log2'],  #num features to consider when looking for best split\n",
    "                      'min_samples_leaf': [1, 2, 4] , \n",
    "                      'min_samples_split': [2, 5, 10]\n",
    "                     } \n",
    "\n",
    "#Create a random forest classifier\n",
    "rf = RandomForestClassifier()\n",
    "\n",
    "#running gridSearch on params, with the default k-fold cross validation set to 3\n",
    "grid_search_rf = RandomizedSearchCV(rf, \n",
    "                                    param_distributions=param_distributions, \n",
    "                                    cv=3, \n",
    "                                    verbose=0, \n",
    "                                    n_iter=50)\n",
    "\n",
    "#Fit the grid search object to the data\n",
    "grid_search_rf.fit(X_train, y_train)"
   ]
  },
  {
   "cell_type": "code",
   "execution_count": 193,
   "id": "c2fe156f",
   "metadata": {},
   "outputs": [
    {
     "name": "stdout",
     "output_type": "stream",
     "text": [
      "Best hyperparameters: {'n_estimators': 500, 'min_samples_split': 2, 'min_samples_leaf': 1, 'max_features': 'sqrt', 'max_depth': 10}\n"
     ]
    }
   ],
   "source": [
    "## Create a variable for the best model\n",
    "best_rf = grid_search_rf.best_estimator_\n",
    "\n",
    "# Print the best hyperparameters\n",
    "print('Best hyperparameters:',  grid_search_rf.best_params_)"
   ]
  },
  {
   "cell_type": "code",
   "execution_count": 125,
   "id": "1feaff76",
   "metadata": {},
   "outputs": [],
   "source": [
    "rf_bal = RandomForestClassifier(n_estimators = 500, max_depth = 10, min_samples_split=2, \n",
    "                                 min_samples_leaf=1, random_state=42)"
   ]
  },
  {
   "cell_type": "code",
   "execution_count": 126,
   "id": "fe228731",
   "metadata": {
    "scrolled": true
   },
   "outputs": [
    {
     "data": {
      "text/html": [
       "<style>#sk-container-id-11 {color: black;background-color: white;}#sk-container-id-11 pre{padding: 0;}#sk-container-id-11 div.sk-toggleable {background-color: white;}#sk-container-id-11 label.sk-toggleable__label {cursor: pointer;display: block;width: 100%;margin-bottom: 0;padding: 0.3em;box-sizing: border-box;text-align: center;}#sk-container-id-11 label.sk-toggleable__label-arrow:before {content: \"▸\";float: left;margin-right: 0.25em;color: #696969;}#sk-container-id-11 label.sk-toggleable__label-arrow:hover:before {color: black;}#sk-container-id-11 div.sk-estimator:hover label.sk-toggleable__label-arrow:before {color: black;}#sk-container-id-11 div.sk-toggleable__content {max-height: 0;max-width: 0;overflow: hidden;text-align: left;background-color: #f0f8ff;}#sk-container-id-11 div.sk-toggleable__content pre {margin: 0.2em;color: black;border-radius: 0.25em;background-color: #f0f8ff;}#sk-container-id-11 input.sk-toggleable__control:checked~div.sk-toggleable__content {max-height: 200px;max-width: 100%;overflow: auto;}#sk-container-id-11 input.sk-toggleable__control:checked~label.sk-toggleable__label-arrow:before {content: \"▾\";}#sk-container-id-11 div.sk-estimator input.sk-toggleable__control:checked~label.sk-toggleable__label {background-color: #d4ebff;}#sk-container-id-11 div.sk-label input.sk-toggleable__control:checked~label.sk-toggleable__label {background-color: #d4ebff;}#sk-container-id-11 input.sk-hidden--visually {border: 0;clip: rect(1px 1px 1px 1px);clip: rect(1px, 1px, 1px, 1px);height: 1px;margin: -1px;overflow: hidden;padding: 0;position: absolute;width: 1px;}#sk-container-id-11 div.sk-estimator {font-family: monospace;background-color: #f0f8ff;border: 1px dotted black;border-radius: 0.25em;box-sizing: border-box;margin-bottom: 0.5em;}#sk-container-id-11 div.sk-estimator:hover {background-color: #d4ebff;}#sk-container-id-11 div.sk-parallel-item::after {content: \"\";width: 100%;border-bottom: 1px solid gray;flex-grow: 1;}#sk-container-id-11 div.sk-label:hover label.sk-toggleable__label {background-color: #d4ebff;}#sk-container-id-11 div.sk-serial::before {content: \"\";position: absolute;border-left: 1px solid gray;box-sizing: border-box;top: 0;bottom: 0;left: 50%;z-index: 0;}#sk-container-id-11 div.sk-serial {display: flex;flex-direction: column;align-items: center;background-color: white;padding-right: 0.2em;padding-left: 0.2em;position: relative;}#sk-container-id-11 div.sk-item {position: relative;z-index: 1;}#sk-container-id-11 div.sk-parallel {display: flex;align-items: stretch;justify-content: center;background-color: white;position: relative;}#sk-container-id-11 div.sk-item::before, #sk-container-id-11 div.sk-parallel-item::before {content: \"\";position: absolute;border-left: 1px solid gray;box-sizing: border-box;top: 0;bottom: 0;left: 50%;z-index: -1;}#sk-container-id-11 div.sk-parallel-item {display: flex;flex-direction: column;z-index: 1;position: relative;background-color: white;}#sk-container-id-11 div.sk-parallel-item:first-child::after {align-self: flex-end;width: 50%;}#sk-container-id-11 div.sk-parallel-item:last-child::after {align-self: flex-start;width: 50%;}#sk-container-id-11 div.sk-parallel-item:only-child::after {width: 0;}#sk-container-id-11 div.sk-dashed-wrapped {border: 1px dashed gray;margin: 0 0.4em 0.5em 0.4em;box-sizing: border-box;padding-bottom: 0.4em;background-color: white;}#sk-container-id-11 div.sk-label label {font-family: monospace;font-weight: bold;display: inline-block;line-height: 1.2em;}#sk-container-id-11 div.sk-label-container {text-align: center;}#sk-container-id-11 div.sk-container {/* jupyter's `normalize.less` sets `[hidden] { display: none; }` but bootstrap.min.css set `[hidden] { display: none !important; }` so we also need the `!important` here to be able to override the default hidden behavior on the sphinx rendered scikit-learn.org. See: https://github.com/scikit-learn/scikit-learn/issues/21755 */display: inline-block !important;position: relative;}#sk-container-id-11 div.sk-text-repr-fallback {display: none;}</style><div id=\"sk-container-id-11\" class=\"sk-top-container\"><div class=\"sk-text-repr-fallback\"><pre>RandomForestClassifier(max_depth=10, n_estimators=500, random_state=42)</pre><b>In a Jupyter environment, please rerun this cell to show the HTML representation or trust the notebook. <br />On GitHub, the HTML representation is unable to render, please try loading this page with nbviewer.org.</b></div><div class=\"sk-container\" hidden><div class=\"sk-item\"><div class=\"sk-estimator sk-toggleable\"><input class=\"sk-toggleable__control sk-hidden--visually\" id=\"sk-estimator-id-11\" type=\"checkbox\" checked><label for=\"sk-estimator-id-11\" class=\"sk-toggleable__label sk-toggleable__label-arrow\">RandomForestClassifier</label><div class=\"sk-toggleable__content\"><pre>RandomForestClassifier(max_depth=10, n_estimators=500, random_state=42)</pre></div></div></div></div></div>"
      ],
      "text/plain": [
       "RandomForestClassifier(max_depth=10, n_estimators=500, random_state=42)"
      ]
     },
     "execution_count": 126,
     "metadata": {},
     "output_type": "execute_result"
    }
   ],
   "source": [
    "rf_bal.fit(X_train_bal, y_train_bal)"
   ]
  },
  {
   "cell_type": "code",
   "execution_count": 127,
   "id": "e0577bfa",
   "metadata": {
    "scrolled": false
   },
   "outputs": [],
   "source": [
    "rf_bal_metrics, y_preds_test_rf_bal, y_preds_train_rf_bal = get_metrics(rf_bal,\n",
    "                                                            X_train_bal, X_test, y_train_bal, y_test)"
   ]
  },
  {
   "cell_type": "code",
   "execution_count": 128,
   "id": "22d4ae0a",
   "metadata": {},
   "outputs": [
    {
     "data": {
      "text/html": [
       "<div>\n",
       "<style scoped>\n",
       "    .dataframe tbody tr th:only-of-type {\n",
       "        vertical-align: middle;\n",
       "    }\n",
       "\n",
       "    .dataframe tbody tr th {\n",
       "        vertical-align: top;\n",
       "    }\n",
       "\n",
       "    .dataframe thead th {\n",
       "        text-align: right;\n",
       "    }\n",
       "</style>\n",
       "<table border=\"1\" class=\"dataframe\">\n",
       "  <thead>\n",
       "    <tr style=\"text-align: right;\">\n",
       "      <th></th>\n",
       "      <th>model</th>\n",
       "      <th>accuracy</th>\n",
       "      <th>f1_score</th>\n",
       "      <th>QWK</th>\n",
       "      <th>MAE</th>\n",
       "      <th>sp_class_error</th>\n",
       "    </tr>\n",
       "  </thead>\n",
       "  <tbody>\n",
       "    <tr>\n",
       "      <th>0</th>\n",
       "      <td>RandomForestClassifier(max_depth=10, n_estimat...</td>\n",
       "      <td>0.951835</td>\n",
       "      <td>0.951786</td>\n",
       "      <td>0.989688</td>\n",
       "      <td>0.048165</td>\n",
       "      <td>0.048165</td>\n",
       "    </tr>\n",
       "  </tbody>\n",
       "</table>\n",
       "</div>"
      ],
      "text/plain": [
       "                                               model  accuracy  f1_score  \\\n",
       "0  RandomForestClassifier(max_depth=10, n_estimat...  0.951835  0.951786   \n",
       "\n",
       "        QWK       MAE  sp_class_error  \n",
       "0  0.989688  0.048165        0.048165  "
      ]
     },
     "execution_count": 128,
     "metadata": {},
     "output_type": "execute_result"
    }
   ],
   "source": [
    "rf_bal_metrics"
   ]
  },
  {
   "cell_type": "markdown",
   "id": "bbd22975",
   "metadata": {},
   "source": [
    "### 5.2.3 using 24 PCs on balanced dataset"
   ]
  },
  {
   "cell_type": "code",
   "execution_count": 129,
   "id": "94f84e56",
   "metadata": {},
   "outputs": [],
   "source": [
    "#using 24 principal components\n",
    "#setting n_components at None includes all principal components\n",
    "pca = PCA(n_components=24)\n",
    "X_pca_bal = pca.fit_transform(X_bal)"
   ]
  },
  {
   "cell_type": "code",
   "execution_count": 130,
   "id": "68b01eb9",
   "metadata": {},
   "outputs": [],
   "source": [
    "X_train_pca_bal = pca.fit_transform(X_train_bal)\n",
    "X_test_pca_bal = pca.transform(X_test_bal)"
   ]
  },
  {
   "cell_type": "code",
   "execution_count": 131,
   "id": "aad0d94b",
   "metadata": {},
   "outputs": [
    {
     "data": {
      "text/plain": [
       "((1736, 173), (1736, 3508), (434, 173), (434, 3508))"
      ]
     },
     "execution_count": 131,
     "metadata": {},
     "output_type": "execute_result"
    }
   ],
   "source": [
    "X_train_pca_bal.shape, X_train_bal.shape, X_test_pca_bal.shape, X_test_bal.shape"
   ]
  },
  {
   "cell_type": "code",
   "execution_count": 132,
   "id": "6e9f537f",
   "metadata": {},
   "outputs": [],
   "source": [
    "rf_pca_bal = RandomForestClassifier(n_estimators = 500, max_depth = 10, min_samples_split=2, \n",
    "                                 min_samples_leaf=1, random_state=42)"
   ]
  },
  {
   "cell_type": "code",
   "execution_count": 133,
   "id": "a4c35e98",
   "metadata": {
    "scrolled": true
   },
   "outputs": [
    {
     "data": {
      "text/html": [
       "<style>#sk-container-id-12 {color: black;background-color: white;}#sk-container-id-12 pre{padding: 0;}#sk-container-id-12 div.sk-toggleable {background-color: white;}#sk-container-id-12 label.sk-toggleable__label {cursor: pointer;display: block;width: 100%;margin-bottom: 0;padding: 0.3em;box-sizing: border-box;text-align: center;}#sk-container-id-12 label.sk-toggleable__label-arrow:before {content: \"▸\";float: left;margin-right: 0.25em;color: #696969;}#sk-container-id-12 label.sk-toggleable__label-arrow:hover:before {color: black;}#sk-container-id-12 div.sk-estimator:hover label.sk-toggleable__label-arrow:before {color: black;}#sk-container-id-12 div.sk-toggleable__content {max-height: 0;max-width: 0;overflow: hidden;text-align: left;background-color: #f0f8ff;}#sk-container-id-12 div.sk-toggleable__content pre {margin: 0.2em;color: black;border-radius: 0.25em;background-color: #f0f8ff;}#sk-container-id-12 input.sk-toggleable__control:checked~div.sk-toggleable__content {max-height: 200px;max-width: 100%;overflow: auto;}#sk-container-id-12 input.sk-toggleable__control:checked~label.sk-toggleable__label-arrow:before {content: \"▾\";}#sk-container-id-12 div.sk-estimator input.sk-toggleable__control:checked~label.sk-toggleable__label {background-color: #d4ebff;}#sk-container-id-12 div.sk-label input.sk-toggleable__control:checked~label.sk-toggleable__label {background-color: #d4ebff;}#sk-container-id-12 input.sk-hidden--visually {border: 0;clip: rect(1px 1px 1px 1px);clip: rect(1px, 1px, 1px, 1px);height: 1px;margin: -1px;overflow: hidden;padding: 0;position: absolute;width: 1px;}#sk-container-id-12 div.sk-estimator {font-family: monospace;background-color: #f0f8ff;border: 1px dotted black;border-radius: 0.25em;box-sizing: border-box;margin-bottom: 0.5em;}#sk-container-id-12 div.sk-estimator:hover {background-color: #d4ebff;}#sk-container-id-12 div.sk-parallel-item::after {content: \"\";width: 100%;border-bottom: 1px solid gray;flex-grow: 1;}#sk-container-id-12 div.sk-label:hover label.sk-toggleable__label {background-color: #d4ebff;}#sk-container-id-12 div.sk-serial::before {content: \"\";position: absolute;border-left: 1px solid gray;box-sizing: border-box;top: 0;bottom: 0;left: 50%;z-index: 0;}#sk-container-id-12 div.sk-serial {display: flex;flex-direction: column;align-items: center;background-color: white;padding-right: 0.2em;padding-left: 0.2em;position: relative;}#sk-container-id-12 div.sk-item {position: relative;z-index: 1;}#sk-container-id-12 div.sk-parallel {display: flex;align-items: stretch;justify-content: center;background-color: white;position: relative;}#sk-container-id-12 div.sk-item::before, #sk-container-id-12 div.sk-parallel-item::before {content: \"\";position: absolute;border-left: 1px solid gray;box-sizing: border-box;top: 0;bottom: 0;left: 50%;z-index: -1;}#sk-container-id-12 div.sk-parallel-item {display: flex;flex-direction: column;z-index: 1;position: relative;background-color: white;}#sk-container-id-12 div.sk-parallel-item:first-child::after {align-self: flex-end;width: 50%;}#sk-container-id-12 div.sk-parallel-item:last-child::after {align-self: flex-start;width: 50%;}#sk-container-id-12 div.sk-parallel-item:only-child::after {width: 0;}#sk-container-id-12 div.sk-dashed-wrapped {border: 1px dashed gray;margin: 0 0.4em 0.5em 0.4em;box-sizing: border-box;padding-bottom: 0.4em;background-color: white;}#sk-container-id-12 div.sk-label label {font-family: monospace;font-weight: bold;display: inline-block;line-height: 1.2em;}#sk-container-id-12 div.sk-label-container {text-align: center;}#sk-container-id-12 div.sk-container {/* jupyter's `normalize.less` sets `[hidden] { display: none; }` but bootstrap.min.css set `[hidden] { display: none !important; }` so we also need the `!important` here to be able to override the default hidden behavior on the sphinx rendered scikit-learn.org. See: https://github.com/scikit-learn/scikit-learn/issues/21755 */display: inline-block !important;position: relative;}#sk-container-id-12 div.sk-text-repr-fallback {display: none;}</style><div id=\"sk-container-id-12\" class=\"sk-top-container\"><div class=\"sk-text-repr-fallback\"><pre>RandomForestClassifier(max_depth=10, n_estimators=500, random_state=42)</pre><b>In a Jupyter environment, please rerun this cell to show the HTML representation or trust the notebook. <br />On GitHub, the HTML representation is unable to render, please try loading this page with nbviewer.org.</b></div><div class=\"sk-container\" hidden><div class=\"sk-item\"><div class=\"sk-estimator sk-toggleable\"><input class=\"sk-toggleable__control sk-hidden--visually\" id=\"sk-estimator-id-12\" type=\"checkbox\" checked><label for=\"sk-estimator-id-12\" class=\"sk-toggleable__label sk-toggleable__label-arrow\">RandomForestClassifier</label><div class=\"sk-toggleable__content\"><pre>RandomForestClassifier(max_depth=10, n_estimators=500, random_state=42)</pre></div></div></div></div></div>"
      ],
      "text/plain": [
       "RandomForestClassifier(max_depth=10, n_estimators=500, random_state=42)"
      ]
     },
     "execution_count": 133,
     "metadata": {},
     "output_type": "execute_result"
    }
   ],
   "source": [
    "rf_pca_bal.fit(X_train_pca_bal, y_train_bal)"
   ]
  },
  {
   "cell_type": "code",
   "execution_count": 134,
   "id": "430b3c92",
   "metadata": {
    "scrolled": false
   },
   "outputs": [],
   "source": [
    "rf_pca_bal_metrics, y_preds_test_rf_bal, y_preds_train_rf_bal = get_metrics(rf_pca_bal,\n",
    "                                                            X_train_pca_bal, X_test_pca_bal, y_train_bal, y_test_bal)"
   ]
  },
  {
   "cell_type": "code",
   "execution_count": 135,
   "id": "4dae3726",
   "metadata": {},
   "outputs": [
    {
     "data": {
      "text/html": [
       "<div>\n",
       "<style scoped>\n",
       "    .dataframe tbody tr th:only-of-type {\n",
       "        vertical-align: middle;\n",
       "    }\n",
       "\n",
       "    .dataframe tbody tr th {\n",
       "        vertical-align: top;\n",
       "    }\n",
       "\n",
       "    .dataframe thead th {\n",
       "        text-align: right;\n",
       "    }\n",
       "</style>\n",
       "<table border=\"1\" class=\"dataframe\">\n",
       "  <thead>\n",
       "    <tr style=\"text-align: right;\">\n",
       "      <th></th>\n",
       "      <th>model</th>\n",
       "      <th>accuracy</th>\n",
       "      <th>f1_score</th>\n",
       "      <th>QWK</th>\n",
       "      <th>MAE</th>\n",
       "      <th>sp_class_error</th>\n",
       "    </tr>\n",
       "  </thead>\n",
       "  <tbody>\n",
       "    <tr>\n",
       "      <th>0</th>\n",
       "      <td>RandomForestClassifier(max_depth=10, n_estimat...</td>\n",
       "      <td>0.937788</td>\n",
       "      <td>0.937624</td>\n",
       "      <td>0.992042</td>\n",
       "      <td>0.062212</td>\n",
       "      <td>0.062212</td>\n",
       "    </tr>\n",
       "  </tbody>\n",
       "</table>\n",
       "</div>"
      ],
      "text/plain": [
       "                                               model  accuracy  f1_score  \\\n",
       "0  RandomForestClassifier(max_depth=10, n_estimat...  0.937788  0.937624   \n",
       "\n",
       "        QWK       MAE  sp_class_error  \n",
       "0  0.992042  0.062212        0.062212  "
      ]
     },
     "execution_count": 135,
     "metadata": {},
     "output_type": "execute_result"
    }
   ],
   "source": [
    "rf_pca_bal_metrics"
   ]
  },
  {
   "cell_type": "markdown",
   "id": "956b8a6d",
   "metadata": {},
   "source": [
    "******\n",
    "---------\n",
    "# 6. Model Comparisons\n",
    "\n",
    "ref for comparison metrics: https://www.evidentlyai.com/classification-metrics/accuracy-precision-recall#:~:text=Recall%20is%20a%20metric%20that,positive%20samples%20in%20the%20dataset.\n",
    "\n",
    "##### The following metrics will be used for model evaluation and comparision\n",
    "\n",
    "**Classification metrics:**\n",
    "- accuracy : number of correct predictions divided by total number of predictions\n",
    "- f1-score : harmonic mean between precision and recall, can give a better representative of model performance with imbalanced datasets.\n",
    "\n",
    "**Regression Metrics:**\n",
    "- Mean Absolute Error: measurement of the typical absolute discrepancies between a dataset’s actual values and projected values. This will give a good indication of how close the predicted classes are to the actual classes in the context of ordinal classification. \n",
    "\n",
    "\n",
    "**Shared Metrics**: \n",
    "- Quadratic Weighted Kappa (QWK): statistic for measuring the agreement between two raters on an ordinal scale. Classifications that are far from the actual class are penalized more than classes closer to the actual class.\n"
   ]
  },
  {
   "cell_type": "code",
   "execution_count": 136,
   "id": "a3368a0e",
   "metadata": {},
   "outputs": [],
   "source": [
    "def get_cross_val_score(model_name, X, y):\n",
    "    s_kfold = StratifiedKFold(n_splits=5, shuffle=True, random_state=1)\n",
    "    f1, accuracy, qwk, mae, average_error = [], [], [], [], []\n",
    "    \n",
    "    #creating the train/test split\n",
    "    for train_index, test_index in s_kfold.split(X, y):\n",
    "\n",
    "        #splitting X and y\n",
    "        if model_name[-3:] == 'pca':\n",
    "            X_train, X_test, y_train, y_test  = X[train_index], X[test_index], y[train_index], y[test_index]\n",
    "        else: \n",
    "            X_train, X_test, y_train, y_test  = X.iloc[train_index], X.iloc[test_index], y[train_index], y[test_index]\n",
    "        \n",
    "        #initialising models\n",
    "        if model_name[:2] == 'rf':\n",
    "            model = RandomForestClassifier(n_estimators = 500, max_depth = 10, min_samples_split=2, \n",
    "                                 min_samples_leaf=1, random_state=42)\n",
    "        elif model_name[:3] == 'svm':\n",
    "            model = SVC(C=100, gamma=0.01, kernel='rbf')\n",
    "        \n",
    "        model.fit(X_train, y_train)\n",
    "        \n",
    "        #making predictions from the model on the train and test data\n",
    "        y_preds_train = model.predict(X_train)\n",
    "        y_preds_test = model.predict(X_test)\n",
    "    \n",
    "        #calculating metrics\n",
    "        #f1_score\n",
    "        f1.append(metrics.f1_score(y_test, y_preds_test, average='weighted'))\n",
    "        #accuracy\n",
    "        accuracy.append(metrics.accuracy_score(y_test, y_preds_test))\n",
    "        #quadratic weighted kappa\n",
    "        qwk.append(metrics.cohen_kappa_score(y_test, y_preds_test, weights='quadratic'))\n",
    "        #mean absolute error\n",
    "        mae.append(metrics.mean_absolute_error(y_test, y_preds_test))\n",
    "        #getting the class error for test set\n",
    "        average_error.append(np.mean(abs(y_test - y_preds_test)))\n",
    "        \n",
    "    \n",
    "    model_metrics = pd.DataFrame({'model':[model_name], \n",
    "                                  'accuracy':[np.mean(accuracy)], \n",
    "                                  'f1_score':[np.mean(f1)],\n",
    "                                  'QWK':[np.mean(qwk)], \n",
    "                                  'MAE':[np.mean(mae)],\n",
    "                                  'sp_class_error':[np.mean(average_error)]})\n",
    "    return model_metrics"
   ]
  },
  {
   "cell_type": "code",
   "execution_count": 137,
   "id": "08cf5a3d",
   "metadata": {},
   "outputs": [],
   "source": [
    "#running for all rf models\n",
    "rf_df = get_cross_val_score('rf', X, y)\n",
    "rf_pca_df = get_cross_val_score('rf_pca', X_pca, y)\n",
    "rf_bal_df = get_cross_val_score('rf_bal', X_bal, y_bal)\n",
    "rf_bal_pca_df = get_cross_val_score('rf_bal_pca', X_bal, y_bal)"
   ]
  },
  {
   "cell_type": "code",
   "execution_count": 138,
   "id": "528d7aa5",
   "metadata": {},
   "outputs": [],
   "source": [
    "#running for all rf models\n",
    "svm_df = get_cross_val_score('svm', X, y)\n",
    "svm_pca_df = get_cross_val_score('svm_pca', X_pca, y)\n",
    "svm_bal_df = get_cross_val_score('svm_bal', X_bal, y_bal)\n",
    "svm_bal_pca_df = get_cross_val_score('svm_bal_pca', X_bal, y_bal)"
   ]
  },
  {
   "cell_type": "code",
   "execution_count": 100,
   "id": "a709cff1",
   "metadata": {},
   "outputs": [],
   "source": [
    "#concatenating all results of cross validation\n",
    "ml_comparison_df = pd.concat([rf_df, rf_pca_df, rf_bal_df, rf_bal_pca_df\n",
    "                             svm_df, svm_pca_df,svm_bal_df, svm_bal_pca_df])\n",
    "ml_comparison_df = ml_comparison_df.reset_index().drop(columns=['index'])"
   ]
  },
  {
   "cell_type": "code",
   "execution_count": 140,
   "id": "83351daa",
   "metadata": {},
   "outputs": [
    {
     "data": {
      "text/html": [
       "<div>\n",
       "<style scoped>\n",
       "    .dataframe tbody tr th:only-of-type {\n",
       "        vertical-align: middle;\n",
       "    }\n",
       "\n",
       "    .dataframe tbody tr th {\n",
       "        vertical-align: top;\n",
       "    }\n",
       "\n",
       "    .dataframe thead th {\n",
       "        text-align: right;\n",
       "    }\n",
       "</style>\n",
       "<table border=\"1\" class=\"dataframe\">\n",
       "  <thead>\n",
       "    <tr style=\"text-align: right;\">\n",
       "      <th></th>\n",
       "      <th>model</th>\n",
       "      <th>accuracy</th>\n",
       "      <th>f1_score</th>\n",
       "      <th>QWK</th>\n",
       "      <th>MAE</th>\n",
       "      <th>sp_class_error</th>\n",
       "    </tr>\n",
       "  </thead>\n",
       "  <tbody>\n",
       "    <tr>\n",
       "      <th>0</th>\n",
       "      <td>rf</td>\n",
       "      <td>0.909898</td>\n",
       "      <td>0.912972</td>\n",
       "      <td>0.977477</td>\n",
       "      <td>0.094122</td>\n",
       "      <td>0.094122</td>\n",
       "    </tr>\n",
       "    <tr>\n",
       "      <th>1</th>\n",
       "      <td>rf_pca</td>\n",
       "      <td>0.907898</td>\n",
       "      <td>0.905438</td>\n",
       "      <td>0.976868</td>\n",
       "      <td>0.093861</td>\n",
       "      <td>0.093861</td>\n",
       "    </tr>\n",
       "    <tr>\n",
       "      <th>2</th>\n",
       "      <td>rf_bal</td>\n",
       "      <td>0.924417</td>\n",
       "      <td>0.924997</td>\n",
       "      <td>0.989403</td>\n",
       "      <td>0.078349</td>\n",
       "      <td>0.078349</td>\n",
       "    </tr>\n",
       "    <tr>\n",
       "      <th>3</th>\n",
       "      <td>rf_bal_pca</td>\n",
       "      <td>0.915272</td>\n",
       "      <td>0.919342</td>\n",
       "      <td>0.987231</td>\n",
       "      <td>0.079321</td>\n",
       "      <td>0.079321</td>\n",
       "    </tr>\n",
       "    <tr>\n",
       "      <th>4</th>\n",
       "      <td>svm</td>\n",
       "      <td>0.911017</td>\n",
       "      <td>0.911902</td>\n",
       "      <td>0.971668</td>\n",
       "      <td>0.098157</td>\n",
       "      <td>0.098157</td>\n",
       "    </tr>\n",
       "    <tr>\n",
       "      <th>5</th>\n",
       "      <td>svm_pca</td>\n",
       "      <td>0.909640</td>\n",
       "      <td>0.910606</td>\n",
       "      <td>0.971345</td>\n",
       "      <td>0.099533</td>\n",
       "      <td>0.099533</td>\n",
       "    </tr>\n",
       "    <tr>\n",
       "      <th>6</th>\n",
       "      <td>svm_bal</td>\n",
       "      <td>0.934558</td>\n",
       "      <td>0.934965</td>\n",
       "      <td>0.987058</td>\n",
       "      <td>0.073277</td>\n",
       "      <td>0.073277</td>\n",
       "    </tr>\n",
       "    <tr>\n",
       "      <th>7</th>\n",
       "      <td>svm_bal_pca</td>\n",
       "      <td>0.926267</td>\n",
       "      <td>0.927005</td>\n",
       "      <td>0.989658</td>\n",
       "      <td>0.076037</td>\n",
       "      <td>0.076037</td>\n",
       "    </tr>\n",
       "  </tbody>\n",
       "</table>\n",
       "</div>"
      ],
      "text/plain": [
       "         model  accuracy  f1_score       QWK       MAE  sp_class_error\n",
       "0           rf  0.909898  0.912972  0.977477  0.094122        0.094122\n",
       "1       rf_pca  0.907898  0.905438  0.976868  0.093861        0.093861\n",
       "2       rf_bal  0.924417  0.924997  0.989403  0.078349        0.078349\n",
       "3   rf_bal_pca  0.915272  0.919342  0.987231  0.079321        0.079321\n",
       "4          svm  0.911017  0.911902  0.971668  0.098157        0.098157\n",
       "5      svm_pca  0.909640  0.910606  0.971345  0.099533        0.099533\n",
       "6      svm_bal  0.934558  0.934965  0.987058  0.073277        0.073277\n",
       "7  svm_bal_pca  0.926267  0.927005  0.989658  0.076037        0.076037"
      ]
     },
     "execution_count": 140,
     "metadata": {},
     "output_type": "execute_result"
    }
   ],
   "source": [
    "ml_comparison_df"
   ]
  },
  {
   "cell_type": "code",
   "execution_count": 141,
   "id": "6a56b71d",
   "metadata": {},
   "outputs": [],
   "source": [
    "#saving comparisons to csv for use in another notebook\n",
    "ml_comparison_df.to_csv('../data/derived_tables/model_comparisons/ml_main_class.csv')"
   ]
  }
 ],
 "metadata": {
  "kernelspec": {
   "display_name": "Python 3 (ipykernel)",
   "language": "python",
   "name": "python3"
  },
  "language_info": {
   "codemirror_mode": {
    "name": "ipython",
    "version": 3
   },
   "file_extension": ".py",
   "mimetype": "text/x-python",
   "name": "python",
   "nbconvert_exporter": "python",
   "pygments_lexer": "ipython3",
   "version": "3.11.4"
  }
 },
 "nbformat": 4,
 "nbformat_minor": 5
}
